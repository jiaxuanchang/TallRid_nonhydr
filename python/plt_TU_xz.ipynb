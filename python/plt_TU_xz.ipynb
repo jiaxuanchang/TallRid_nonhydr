{
 "cells": [
  {
   "cell_type": "code",
   "execution_count": 1,
   "metadata": {},
   "outputs": [
    {
     "name": "stdout",
     "output_type": "stream",
     "text": [
      "/scratch/jxchang/TallRid/results/TideU008sinN0012H200ho140Ah0200Kh0200_freeslipBotSide_Cdqdt001/input/\n"
     ]
    }
   ],
   "source": [
    "import os\n",
    "currentDirectory = os.getcwd()\n",
    "data_dir = currentDirectory[:-7] + '/input/'\n",
    "print(data_dir)\n",
    "\n",
    "from xmitgcm import open_mdsdataset\n",
    "ds1 = open_mdsdataset(data_dir, geometry='cartesian', endian='<',prefix=['statevars'])"
   ]
  },
  {
   "cell_type": "code",
   "execution_count": 2,
   "metadata": {},
   "outputs": [],
   "source": [
    "import matplotlib.pyplot as plt\n",
    "import numpy as np\n",
    "from matplotlib import cm\n",
    "from matplotlib.colors import BoundaryNorm\n",
    "import matplotlib.animation as animation\n",
    "import math"
   ]
  },
  {
   "cell_type": "code",
   "execution_count": 21,
   "metadata": {},
   "outputs": [
    {
     "name": "stdout",
     "output_type": "stream",
     "text": [
      "refTemp=34.63265306122449\n",
      "tRef=[34.63265306 34.26530612 33.89795918 33.53061224 33.16326531 32.79591837\n",
      " 32.42857143 32.06122449 31.69387755 31.32653061 30.95918367 30.59183673\n",
      " 30.2244898  29.85714286 29.48979592 29.12244898 28.75510204 28.3877551\n",
      " 28.02040816 27.65306122 27.28571429 26.91836735 26.55102041 26.18367347\n",
      " 25.81632653 25.44897959 25.08163265 24.71428571 24.34693878 23.97959184\n",
      " 23.6122449  23.24489796 22.87755102 22.51020408 22.14285714 21.7755102\n",
      " 21.40816327 21.04081633 20.67346939 20.30612245]\n",
      "the length of time:293\n",
      "20\n"
     ]
    }
   ],
   "source": [
    "t = 0\n",
    "h0 = 140.\n",
    "\n",
    "f0 = 1.e-4\n",
    "g = 9.8\n",
    "u0=0.08\n",
    "\n",
    "om=2*np.pi/12.4/3600 \n",
    "alpha = 2e-4 \n",
    "\n",
    "tR_fname=\"../indata/TRef.bin\"\n",
    "tRef = np.fromfile(tR_fname)\n",
    "refSalt=35.\n",
    "refTemp=tRef[0]\n",
    "print('refTemp='+ str(refTemp))\n",
    "print('tRef='+ str(tRef))\n",
    "\n",
    "xmin = -4\n",
    "xmax = 4\n",
    "vmax = 1\n",
    "vmin = -1\n",
    "wmax = 0.2\n",
    "wmin = -0.2\n",
    "tmax = math.floor(np.amax(tRef))\n",
    "tmin = math.floor(np.amin(tRef))\n",
    "numcolt=21\n",
    "numcolv=30\n",
    "\n",
    "ttlen=len(ds1.time)\n",
    "print('the length of time:' + str(ttlen) )\n",
    "print(tmin)"
   ]
  },
  {
   "cell_type": "code",
   "execution_count": 22,
   "metadata": {},
   "outputs": [],
   "source": [
    "xg=ds1.coords[\"XG\"]\n",
    "xc=ds1.coords[\"XC\"]\n",
    "yg=ds1.coords[\"YG\"]\n",
    "yc=ds1.coords[\"YC\"]\n",
    "z=ds1.coords[\"Z\"]\n",
    "time=ds1.coords['time'].values/np.timedelta64(1, 's')/3600\n",
    "ds1=ds1.assign_coords(XC0 = (ds1.XC/1000.-ds1.XC.mean()/1000.))\n",
    "ds1=ds1.assign_coords(XG0 = (ds1.XG-ds1.XC.mean())/1000.)\n",
    "ds1=ds1.assign_coords(YC0 = (ds1.YC/1000.-ds1.YC.mean()/1000.))\n",
    "ds1=ds1.assign_coords(YG0 = (ds1.YG-ds1.YC.mean())/1000.)\n",
    "yc0 = (ds1.YC/1000.-ds1.YC.mean()/1000.)\n",
    "xc0 = (ds1.XC/1000.-ds1.XC.mean()/1000.)"
   ]
  },
  {
   "cell_type": "code",
   "execution_count": 23,
   "metadata": {},
   "outputs": [
    {
     "data": {
      "text/plain": [
       "<Figure size 792x576 with 0 Axes>"
      ]
     },
     "metadata": {},
     "output_type": "display_data"
    }
   ],
   "source": [
    "fig = plt.figure(figsize=(11,8))\n",
    "grid = plt.GridSpec(2, 2, height_ratios=[0.6,2.5], width_ratios=[1,0.1],wspace=0.02,hspace=0.38)"
   ]
  },
  {
   "cell_type": "code",
   "execution_count": 24,
   "metadata": {},
   "outputs": [],
   "source": [
    "SMALL_SIZE = 17\n",
    "MEDIUM_SIZE = 19\n",
    "BIGGER_SIZE = 21\n",
    "\n",
    "plt.rc('font', size=SMALL_SIZE)          # controls default text sizes\n",
    "plt.rc('axes', titlesize=SMALL_SIZE)     # fontsize of the axes title\n",
    "plt.rc('axes', labelsize=MEDIUM_SIZE)    # fontsize of the x and y labels\n",
    "plt.rc('xtick', labelsize=SMALL_SIZE)    # fontsize of the tick labels\n",
    "plt.rc('ytick', labelsize=SMALL_SIZE)    # fontsize of the tick labels\n",
    "plt.rc('legend', fontsize=SMALL_SIZE)    # legend fontsize\n",
    "plt.rc('figure', titlesize=BIGGER_SIZE)  # fontsize of the figure title"
   ]
  },
  {
   "cell_type": "code",
   "execution_count": 25,
   "metadata": {},
   "outputs": [
    {
     "data": {
      "text/plain": [
       "Text(0.0, 1.0, 'Uinput vs U[t,0,0,0] ')"
      ]
     },
     "execution_count": 25,
     "metadata": {},
     "output_type": "execute_result"
    }
   ],
   "source": [
    "#plot bathymetry\n",
    "ax1=fig.add_subplot(grid[0,:-1])\n",
    "ax1.plot(time,np.zeros(ttlen),color='gray',linestyle='--')\n",
    "ax1.plot(time,ds1.UVEL.isel(Z=0,YC=0,XG=0),label='U(t,0,0,0)')\n",
    "ax1.plot(time,u0*np.sin(om*ds1.time.values/np.timedelta64(1, 's')),label='Uinput')\n",
    "ax1.set_xlim(min(time), max(time))\n",
    "ax1.set_ylim(-u0-0.05, u0+0.05)\n",
    "point, = ax1.plot([time[0]],[ds1.UVEL.isel(time=t,XG=0,Z=0).data], 'go', color='red',ms=10)\n",
    "ax1.set_xlabel('time [hr]')\n",
    "ax1.set_ylabel('U [m/s]')\n",
    "ax1.set_title('Uinput vs U[t,0,0,0] ', loc='left')\n",
    "\n"
   ]
  },
  {
   "cell_type": "code",
   "execution_count": 26,
   "metadata": {},
   "outputs": [
    {
     "name": "stdout",
     "output_type": "stream",
     "text": [
      "[20.         22.33333333 24.66666667 27.         29.33333333 31.66666667\n",
      " 34.        ]\n"
     ]
    },
    {
     "name": "stderr",
     "output_type": "stream",
     "text": [
      "/home/jxchang/jupyter_py3.7/lib/python3.7/site-packages/ipykernel_launcher.py:12: UserWarning: The following kwargs were not used by contour: 'color'\n",
      "  if sys.path[0] == '':\n",
      "/home/jxchang/jupyter_py3.7/lib/python3.7/site-packages/ipykernel_launcher.py:17: MatplotlibDeprecationWarning: The 'extend' parameter to Colorbar has no effect because it is overridden by the mappable; it is deprecated since 3.3 and will be removed two minor releases later.\n"
     ]
    },
    {
     "data": {
      "text/plain": [
       "[<matplotlib.lines.Line2D at 0x2b9066bb3550>]"
      ]
     },
     "execution_count": 26,
     "metadata": {},
     "output_type": "execute_result"
    }
   ],
   "source": [
    "# plot temperature\n",
    "ax2=fig.add_subplot(grid[1,0])\n",
    "cmap = cm.RdBu_r\n",
    "levels = np.linspace(vmin, vmax, num=numcolv)\n",
    "Tlevels = np.linspace(tmin,tmax,7)\n",
    "print(Tlevels)\n",
    "\n",
    "norm = BoundaryNorm(levels, ncolors=cmap.N, clip=True)\n",
    "opts = {'cmap':cm.get_cmap(cmap, len(levels) - 1), 'norm': norm}\n",
    "\n",
    "cset1 = ax2.contourf(ds1.XG0, ds1.Z, np.squeeze(ds1.UVEL.isel(time=t)), levels , extend='max', **opts)\n",
    "cset2 = ax2.contour(ds1.XC0, ds1.Z, np.squeeze(ds1.THETA.isel(time=t)), np.sort(tRef[::4]) , color='Gray')\n",
    "ax2.clabel(cset2, fontsize=9, inline=1)\n",
    "\n",
    "cax = fig.add_subplot(grid[1,-1])\n",
    "cax.set_visible(False)\n",
    "fig.colorbar(cset1, ax=cax,extend='both')\n",
    "#fig.colorbar(cset1, ax=axs,ticks=np.arange(tmin, tmax+0.1, 5))\n",
    "ax2.set_xlabel('X [km]')\n",
    "ax2.set_ylabel('Z [m]')\n",
    "ax2.set_title('T [oC]', loc='left')\n",
    "ax2.set(xlim=(xmin, xmax),ylim=(-208,0))\n",
    "ax2.plot(ds1['XC0'],-np.squeeze(ds1.Depth),lw=1.5)"
   ]
  },
  {
   "cell_type": "code",
   "execution_count": 27,
   "metadata": {},
   "outputs": [
    {
     "name": "stdout",
     "output_type": "stream",
     "text": [
      "[<matplotlib.collections.PathCollection object at 0x2b9066a3f6d0>, <matplotlib.collections.PathCollection object at 0x2b9066fbcad0>, <matplotlib.collections.PathCollection object at 0x2b9066fbccd0>, <matplotlib.collections.PathCollection object at 0x2b9066fbc390>, <matplotlib.collections.PathCollection object at 0x2b9066fbc790>, <matplotlib.collections.PathCollection object at 0x2b9066c4f050>, <matplotlib.collections.PathCollection object at 0x2b9066c4ff50>, <matplotlib.collections.PathCollection object at 0x2b90650f5cd0>, <matplotlib.collections.PathCollection object at 0x2b90650c6e10>, <matplotlib.collections.PathCollection object at 0x2b9066c4fc50>, <matplotlib.collections.PathCollection object at 0x2b9065089610>, <matplotlib.collections.PathCollection object at 0x2b9065089c50>, <matplotlib.collections.PathCollection object at 0x2b9065089e50>, <matplotlib.collections.PathCollection object at 0x2b9066b57750>, <matplotlib.collections.PathCollection object at 0x2b9066b57b90>, <matplotlib.collections.PathCollection object at 0x2b9066b57a90>, <matplotlib.collections.PathCollection object at 0x2b9064324510>, <matplotlib.collections.PathCollection object at 0x2b90643247d0>, <matplotlib.collections.PathCollection object at 0x2b9064e5a650>, <matplotlib.collections.PathCollection object at 0x2b9065023f90>, <matplotlib.collections.PathCollection object at 0x2b90650234d0>, <matplotlib.collections.PathCollection object at 0x2b90650233d0>, <matplotlib.collections.PathCollection object at 0x2b9066c16310>, <matplotlib.collections.PathCollection object at 0x2b9066c16c50>, <matplotlib.collections.PathCollection object at 0x2b9066c16750>, <matplotlib.collections.PathCollection object at 0x2b9066c165d0>, <matplotlib.collections.PathCollection object at 0x2b9066c16610>, <matplotlib.collections.PathCollection object at 0x2b90650bca90>, <matplotlib.collections.PathCollection object at 0x2b90650bc550>, <matplotlib.collections.PathCollection object at 0x2b9066f5ae90>, <matplotlib.collections.LineCollection object at 0x2b90646cd090>, <matplotlib.collections.LineCollection object at 0x2b90646cd3d0>, <matplotlib.collections.LineCollection object at 0x2b90646cde50>, <matplotlib.collections.LineCollection object at 0x2b9066c5e450>, <matplotlib.collections.LineCollection object at 0x2b9066c5e210>, <matplotlib.collections.LineCollection object at 0x2b9066c5eb50>, <matplotlib.collections.LineCollection object at 0x2b9066c5eb90>, <matplotlib.collections.LineCollection object at 0x2b9066c5e050>, <matplotlib.collections.LineCollection object at 0x2b906502d590>, <matplotlib.collections.LineCollection object at 0x2b9066c5eed0>]\n"
     ]
    }
   ],
   "source": [
    "fig\n",
    "print(ax2.collections)"
   ]
  },
  {
   "cell_type": "code",
   "execution_count": 28,
   "metadata": {},
   "outputs": [
    {
     "data": {
      "text/plain": [
       "<Figure size 432x288 with 0 Axes>"
      ]
     },
     "metadata": {},
     "output_type": "display_data"
    },
    {
     "name": "stdout",
     "output_type": "stream",
     "text": [
      "0\n"
     ]
    },
    {
     "name": "stderr",
     "output_type": "stream",
     "text": [
      "/home/jxchang/jupyter_py3.7/lib/python3.7/site-packages/ipykernel_launcher.py:8: UserWarning: The following kwargs were not used by contour: 'color'\n",
      "  \n"
     ]
    },
    {
     "name": "stdout",
     "output_type": "stream",
     "text": [
      "0\n",
      "1\n",
      "2\n",
      "3\n",
      "4\n",
      "5\n",
      "6\n",
      "7\n",
      "8\n",
      "9\n",
      "10\n",
      "11\n",
      "12\n",
      "13\n",
      "14\n",
      "15\n",
      "16\n",
      "17\n",
      "18\n",
      "19\n",
      "20\n",
      "21\n",
      "22\n",
      "23\n",
      "24\n",
      "25\n",
      "26\n",
      "27\n",
      "28\n",
      "29\n",
      "30\n",
      "31\n",
      "32\n",
      "33\n",
      "34\n",
      "35\n",
      "36\n",
      "37\n",
      "38\n",
      "39\n",
      "40\n",
      "41\n",
      "42\n",
      "43\n",
      "44\n",
      "45\n",
      "46\n",
      "47\n",
      "48\n",
      "49\n",
      "50\n",
      "51\n",
      "52\n",
      "53\n",
      "54\n",
      "55\n",
      "56\n",
      "57\n",
      "58\n",
      "59\n",
      "60\n",
      "61\n",
      "62\n",
      "63\n",
      "64\n",
      "65\n",
      "66\n",
      "67\n",
      "68\n",
      "69\n",
      "70\n",
      "71\n",
      "72\n",
      "73\n",
      "74\n",
      "75\n",
      "76\n",
      "77\n",
      "78\n",
      "79\n",
      "80\n",
      "81\n",
      "82\n",
      "83\n",
      "84\n",
      "85\n",
      "86\n",
      "87\n",
      "88\n",
      "89\n",
      "90\n",
      "91\n",
      "92\n",
      "93\n",
      "94\n",
      "95\n",
      "96\n",
      "97\n",
      "98\n",
      "99\n",
      "100\n",
      "101\n",
      "102\n",
      "103\n",
      "104\n",
      "105\n",
      "106\n",
      "107\n",
      "108\n",
      "109\n",
      "110\n",
      "111\n",
      "112\n",
      "113\n",
      "114\n",
      "115\n",
      "116\n",
      "117\n",
      "118\n",
      "119\n",
      "120\n",
      "121\n",
      "122\n",
      "123\n",
      "124\n",
      "125\n",
      "126\n",
      "127\n",
      "128\n",
      "129\n",
      "130\n",
      "131\n",
      "132\n",
      "133\n",
      "134\n",
      "135\n",
      "136\n",
      "137\n",
      "138\n",
      "139\n",
      "140\n",
      "141\n",
      "142\n",
      "143\n",
      "144\n",
      "145\n",
      "146\n",
      "147\n",
      "148\n",
      "149\n",
      "150\n",
      "151\n",
      "152\n",
      "153\n",
      "154\n",
      "155\n",
      "156\n",
      "157\n",
      "158\n",
      "159\n",
      "160\n",
      "161\n",
      "162\n",
      "163\n",
      "164\n",
      "165\n",
      "166\n",
      "167\n"
     ]
    }
   ],
   "source": [
    "tt: int=0\n",
    "def updateData(tt):\n",
    "\n",
    "    updatetime = time[tt]\n",
    "    print(tt)\n",
    "    ax2.collections = []\n",
    "    ax2.contourf(ds1.XG0, ds1.Z, np.squeeze(ds1.UVEL.isel(time=tt)), levels, extend='max', **opts)\n",
    "    ax2.contour(ds1.XC0, ds1.Z, np.squeeze(ds1.THETA.isel(time=tt)), np.sort(tRef[::4]), color='Gray')\n",
    "    point.set_data(updatetime,ds1.UVEL.isel(time=tt,XG=0,Z=0))\n",
    "    ax1.set_title('t= %2.3fhr' % updatetime)\n",
    "    fig.savefig('./figsMag2/summary_TU_xz_t%s_x%s.png' %(tt,xmax))\n",
    "\n",
    "\n",
    "\n",
    "simulation = animation.FuncAnimation(fig, updateData, blit=False, frames= 168 , interval=40, repeat=False)\n",
    "plt.draw()\n",
    "plt.show()\n",
    "simulation.save(filename='summary_TU_xz_x%s.gif' %xmax,writer='imagemagick', fps=2)"
   ]
  },
  {
   "cell_type": "code",
   "execution_count": 29,
   "metadata": {},
   "outputs": [
    {
     "data": {
      "text/html": [
       "<img src=\"./summary_TU_xz_x60.gif\"/>"
      ],
      "text/plain": [
       "<IPython.core.display.Image object>"
      ]
     },
     "metadata": {},
     "output_type": "display_data"
    }
   ],
   "source": [
    "from IPython.display import Image\n",
    "from IPython.display import display\n",
    "display(Image(url='./summary_TU_xz_x60.gif'))"
   ]
  },
  {
   "cell_type": "code",
   "execution_count": null,
   "metadata": {},
   "outputs": [],
   "source": []
  }
 ],
 "metadata": {
  "kernelspec": {
   "display_name": "Python 3",
   "language": "python",
   "name": "python3"
  },
  "language_info": {
   "codemirror_mode": {
    "name": "ipython",
    "version": 3
   },
   "file_extension": ".py",
   "mimetype": "text/x-python",
   "name": "python",
   "nbconvert_exporter": "python",
   "pygments_lexer": "ipython3",
   "version": "3.7.7"
  }
 },
 "nbformat": 4,
 "nbformat_minor": 2
}
