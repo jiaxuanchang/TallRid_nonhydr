{
 "cells": [
  {
   "cell_type": "code",
   "execution_count": 1,
   "metadata": {},
   "outputs": [
    {
     "name": "stdout",
     "output_type": "stream",
     "text": [
      "/project/6001902/jxchang/Ex3/input/\n"
     ]
    },
    {
     "ename": "IndexError",
     "evalue": "list index out of range",
     "output_type": "error",
     "traceback": [
      "\u001b[0;31m---------------------------------------------------------------------------\u001b[0m",
      "\u001b[0;31mTypeError\u001b[0m                                 Traceback (most recent call last)",
      "\u001b[0;32m~/jupyter_py3/lib/python3.7/site-packages/xmitgcm/mds_store.py\u001b[0m in \u001b[0;36mopen_mdsdataset\u001b[0;34m(data_dir, grid_dir, iters, prefix, read_grid, delta_t, ref_date, calendar, geometry, grid_vars_to_coords, swap_dims, endian, chunks, ignore_unknown_vars, default_dtype, nx, ny, nz, llc_method, extra_metadata)\u001b[0m\n\u001b[1;32m    167\u001b[0m         \u001b[0;32mtry\u001b[0m\u001b[0;34m:\u001b[0m\u001b[0;34m\u001b[0m\u001b[0;34m\u001b[0m\u001b[0m\n\u001b[0;32m--> 168\u001b[0;31m             \u001b[0miternum\u001b[0m \u001b[0;34m=\u001b[0m \u001b[0mint\u001b[0m\u001b[0;34m(\u001b[0m\u001b[0miters\u001b[0m\u001b[0;34m)\u001b[0m\u001b[0;34m\u001b[0m\u001b[0;34m\u001b[0m\u001b[0m\n\u001b[0m\u001b[1;32m    169\u001b[0m         \u001b[0;31m# if not we probably have some kind of list\u001b[0m\u001b[0;34m\u001b[0m\u001b[0;34m\u001b[0m\u001b[0;34m\u001b[0m\u001b[0m\n",
      "\u001b[0;31mTypeError\u001b[0m: int() argument must be a string, a bytes-like object or a number, not 'list'",
      "\nDuring handling of the above exception, another exception occurred:\n",
      "\u001b[0;31mIndexError\u001b[0m                                Traceback (most recent call last)",
      "\u001b[0;32m<ipython-input-1-5b4e930d800d>\u001b[0m in \u001b[0;36m<module>\u001b[0;34m\u001b[0m\n\u001b[1;32m      5\u001b[0m \u001b[0;34m\u001b[0m\u001b[0m\n\u001b[1;32m      6\u001b[0m \u001b[0;32mfrom\u001b[0m \u001b[0mxmitgcm\u001b[0m \u001b[0;32mimport\u001b[0m \u001b[0mopen_mdsdataset\u001b[0m\u001b[0;34m\u001b[0m\u001b[0;34m\u001b[0m\u001b[0m\n\u001b[0;32m----> 7\u001b[0;31m \u001b[0mds\u001b[0m \u001b[0;34m=\u001b[0m \u001b[0mopen_mdsdataset\u001b[0m\u001b[0;34m(\u001b[0m\u001b[0mdata_dir\u001b[0m\u001b[0;34m,\u001b[0m \u001b[0mgeometry\u001b[0m\u001b[0;34m=\u001b[0m\u001b[0;34m'cartesian'\u001b[0m\u001b[0;34m,\u001b[0m \u001b[0mendian\u001b[0m\u001b[0;34m=\u001b[0m\u001b[0;34m'<'\u001b[0m\u001b[0;34m)\u001b[0m\u001b[0;34m\u001b[0m\u001b[0;34m\u001b[0m\u001b[0m\n\u001b[0m",
      "\u001b[0;32m~/jupyter_py3/lib/python3.7/site-packages/xmitgcm/mds_store.py\u001b[0m in \u001b[0;36mopen_mdsdataset\u001b[0;34m(data_dir, grid_dir, iters, prefix, read_grid, delta_t, ref_date, calendar, geometry, grid_vars_to_coords, swap_dims, endian, chunks, ignore_unknown_vars, default_dtype, nx, ny, nz, llc_method, extra_metadata)\u001b[0m\n\u001b[1;32m    175\u001b[0m                 \u001b[0;31m# each timestep...otherwise we can't combine the datasets.\u001b[0m\u001b[0;34m\u001b[0m\u001b[0;34m\u001b[0m\u001b[0;34m\u001b[0m\u001b[0m\n\u001b[1;32m    176\u001b[0m                 first_prefixes = prefix or _get_all_matching_prefixes(\n\u001b[0;32m--> 177\u001b[0;31m                                                         data_dir, iters[0])\n\u001b[0m\u001b[1;32m    178\u001b[0m                 \u001b[0;32mfor\u001b[0m \u001b[0miternum\u001b[0m \u001b[0;32min\u001b[0m \u001b[0miters\u001b[0m\u001b[0;34m:\u001b[0m\u001b[0;34m\u001b[0m\u001b[0;34m\u001b[0m\u001b[0m\n\u001b[1;32m    179\u001b[0m                     these_prefixes = _get_all_matching_prefixes(\n",
      "\u001b[0;31mIndexError\u001b[0m: list index out of range"
     ]
    }
   ],
   "source": [
    "import os\n",
    "currentDirectory = os.getcwd()\n",
    "data_dir = currentDirectory[:-7] + '/input/'\n",
    "print(data_dir)\n",
    "\n",
    "from xmitgcm import open_mdsdataset\n",
    "ds = open_mdsdataset(data_dir, geometry='cartesian', endian='<')"
   ]
  },
  {
   "cell_type": "code",
   "execution_count": null,
   "metadata": {},
   "outputs": [],
   "source": [
    "import matplotlib.pyplot as plt\n",
    "import numpy as np\n",
    "import seawater as sw\n",
    "from matplotlib import cm\n",
    "from matplotlib.colors import BoundaryNorm\n",
    "import matplotlib.animation as animation"
   ]
  },
  {
   "cell_type": "code",
   "execution_count": null,
   "metadata": {},
   "outputs": [],
   "source": [
    "t = 0\n",
    "h0 = 340.\n",
    "H = float(currentDirectory[-11:-7])\n",
    "N0 = float(currentDirectory[-16:-12])/1e6\n",
    "Fr=int(currentDirectory[-22:-18])/1e4\n",
    "U0=Fr*N0*h0\n",
    "f0 = 1.e-4\n",
    "g = 9.8\n",
    "\n",
    "print('U = ' + str(U0))\n",
    "print('Fr = ' + str(Fr))\n",
    "print('N0 = ' + str(N0))\n",
    "\n",
    "om=2*np.pi/12.4/3600 \n",
    "alpha = 2e-4 \n",
    "nz = 200 \n",
    "dz=H/nz \n",
    "Tref=35+np.cumsum(N0**2/g/alpha*(-H)) \n",
    "\n",
    "xmin = 40\n",
    "xmax = 75\n",
    "vmax = 3\n",
    "vmin = -3\n",
    "wmax = 0.2\n",
    "wmin = -0.2\n",
    "tmax = 35\n",
    "tmin = floor(Tref) \n",
    "numcolt=21\n",
    "numcolv=30\n",
    "\n",
    "ttlen=len(ds.time)\n",
    "print('the length of time:' str(ttlen) )\n",
    "print('initial temp: ' Tref) \n",
    "print(tmin)"
   ]
  },
  {
   "cell_type": "code",
   "execution_count": null,
   "metadata": {},
   "outputs": [],
   "source": [
    "#plot bathymetry\n",
    "fig, axs = plt.subplots(nrows=3, ncols=1,figsize=(20,30))\n",
    "fig.subplots_adjust(hspace=0.3)\n",
    "#fig.suptitle(\"t\", fontsize=12)\n",
    "axs = axs.flatten()\n",
    "\n",
    "\n",
    "# plot temperature\n",
    "cmap = cm.RdBu_r\n",
    "levels = np.linspace(tmin, tmax, num=numcolt)\n",
    "norm = BoundaryNorm(levels, ncolors=cmap.N, clip=True)\n",
    "opts = {'cmap':cm.get_cmap(cmap, len(levels) - 1), 'norm': norm}\n",
    "\n",
    "T0 = np.squeeze(ds.THETA.values[0, :, :, :])\n",
    "THETA = np.squeeze(ds.THETA.values[t, :, :, :])\n",
    "THETA = np.ma.masked_where(T0 == 0, THETA)\n",
    "N = sw.bfrq(35,T0[:,0],ds.THETA.Z)\n",
    "X, Z = np.meshgrid(ds.THETA.XC, ds.THETA.Z)\n",
    "\n",
    "cset1 = axs[0].contourf(X/1e3, Z, THETA, levels, **opts)\n",
    "fig.colorbar(cset1, ax=axs[0],ticks=np.arange(tmin, tmax+0.1, 5))\n",
    "axs[0].set_xlabel('X [km]')\n",
    "axs[0].set_ylabel('Z [m]')\n",
    "axs[0].set_title('T [oC]', loc='left')\n",
    "axs[0].set(xlim=(xmin, xmax))\n",
    "line = axs[0].plot(ds.Depth.XC.values/1e3,-np.transpose(ds.Depth.values),color='black')[0]"
   ]
  },
  {
   "cell_type": "code",
   "execution_count": null,
   "metadata": {},
   "outputs": [],
   "source": [
    "#plot u velocity\n",
    "\n",
    "UVEL = np.squeeze(ds.UVEL.values[t, :, :, :])\n",
    "UVEL = np.ma.masked_where(T0 == 0, UVEL)\n",
    "Xu, Zu = np.meshgrid(ds.UVEL.XG, ds.UVEL.Z)\n",
    "points_u = np.transpose([Xu.flatten()/1e3,Zu.flatten()])\n",
    "print(np.shape(UVEL))\n",
    "print(np.shape(UVEL.flatten()))\n",
    "print(np.shape(ds.UVEL.XG))\n",
    "print(np.shape(points_u))"
   ]
  },
  {
   "cell_type": "code",
   "execution_count": null,
   "metadata": {},
   "outputs": [],
   "source": [
    "WVEL = np.squeeze(ds.WVEL.values[t, :, :, :])\n",
    "WVEL = np.ma.masked_where(T0 == 0, WVEL)\n",
    "Xw, Zw = np.meshgrid(ds.WVEL.XC, ds.WVEL.Zl)\n",
    "points_w = np.transpose([Xw.flatten()/1e3,Zw.flatten()])"
   ]
  },
  {
   "cell_type": "code",
   "execution_count": null,
   "metadata": {},
   "outputs": [],
   "source": [
    "from scipy.interpolate import griddata\n",
    "grid_x, grid_y = np.mgrid[0:100:50j,-4000:0:10j]\n",
    "grid_U = griddata(points_u,UVEL.flatten(),(grid_x, grid_y))\n",
    "grid_w = griddata(points_w,WVEL.flatten(),(grid_x, grid_y))\n",
    "print(np.shape(grid_x))\n",
    "print(np.shape(grid_U))\n",
    "print(np.shape(grid_w))"
   ]
  },
  {
   "cell_type": "code",
   "execution_count": null,
   "metadata": {},
   "outputs": [],
   "source": [
    "levels1 = np.linspace(vmin, vmax, num=numcolv)\n",
    "norm = BoundaryNorm(levels1, ncolors=cmap.N, clip=True)\n",
    "opts1 = {'cmap':cm.get_cmap(cmap, len(levels1) - 1), 'norm': norm}\n",
    "\n",
    "cset1 = axs[1].contourf(Xu/1e3, Zu, UVEL, levels1, **opts1)\n",
    "fig.colorbar(cset1, ax=axs[1],ticks=np.arange(vmin, vmax+0.1, 0.5))\n",
    "axs[1].set_xlabel('X [km]')\n",
    "axs[1].set_ylabel('Z [m]')\n",
    "axs[1].set_title('U [m/s] ', loc='left')\n",
    "axs[1].set(xlim=(xmin, xmax))\n",
    "line = axs[1].plot(ds.Depth.XC.values/1e3,-np.transpose(ds.Depth.values),color='black')[0]\n",
    "\n",
    "axs[2].plot(ds.time/3600,np.zeros(ttlen),color='gray',linestyle='--')\n",
    "axs[2].plot(ds.time/3600,ds.UVEL.values[:, 0, 0, 0],label='U(t,0,0,0)')\n",
    "axs[2].plot(ds.time/3600,u0*np.cos(om*ds.time),label='Uinput')\n",
    "axs[2].set_xlim(min(ds.time/3600), max(ds.time/3600))\n",
    "axs[2].set_ylim(-u0-0.1, u0+0.1)\n",
    "point, = axs[2].plot([ds.time[0]/3600],[ds.UVEL.values[0, 0, 0, 0]], 'go', color='red',ms=10)\n",
    "axs[2].set_xlabel('time [hr]')\n",
    "axs[2].set_ylabel('U [m/s]')\n",
    "axs[1].set_title('Uinput vs U[t,0,0,0] ', loc='left')\n"
   ]
  },
  {
   "cell_type": "code",
   "execution_count": null,
   "metadata": {},
   "outputs": [],
   "source": [
    "quiv = axs[0].quiver(grid_x, grid_y, grid_U/u0, grid_w/u0, color='limegreen',scale=10)"
   ]
  },
  {
   "cell_type": "code",
   "execution_count": null,
   "metadata": {},
   "outputs": [],
   "source": [
    "fig\n",
    "print(axs[0].collections)\n",
    "print(np.size(axs[0].collections))"
   ]
  },
  {
   "cell_type": "code",
   "execution_count": null,
   "metadata": {},
   "outputs": [],
   "source": [
    "tt: int=0\n",
    "def updateData(tt):\n",
    "\n",
    "    U = np.squeeze(ds.UVEL.values[tt,:,:,:])\n",
    "    U = np.ma.masked_where(T0 == 0, U)\n",
    "    W = np.squeeze(ds.WVEL.values[tt,:,:,:])\n",
    "    W = np.ma.masked_where(T0 == 0, W)\n",
    "    T = np.squeeze(ds.THETA.values[tt,:,:,:])\n",
    "    T = np.ma.masked_where(T0 == 0, T)\n",
    "    grid_U = griddata(points_u,U.flatten(),(grid_x, grid_y))\n",
    "    grid_w = griddata(points_w,W.flatten(),(grid_x, grid_y))\n",
    "    time = ds.time.values[tt]/3600\n",
    "    axs[0].collections[0:numcolt-1] = []\n",
    "    axs[0].contourf(X/1e3, Z, T, levels, **opts)\n",
    "    print(np.size(axs[0].collections))\n",
    "    print(axs[0].collections)\n",
    "    axs[0].collections.append(axs[0].collections.pop(0))\n",
    "    line.set_ydata(-np.transpose(ds.Depth.values))\n",
    "    quiv.set_UVC(grid_U/u0,grid_w/u0)\n",
    "    axs[1].collections = []\n",
    "    axs[1].contourf(Xu/1e3, Zu, U, levels1, **opts1)\n",
    "    print(time)\n",
    "    print(U.shape)\n",
    "    point.set_data(time,U[0,0])\n",
    "    axs[0].set_title('t= %2.3fhr' % time)\n",
    "\n",
    "\n",
    "\n",
    "simulation = animation.FuncAnimation(fig, updateData, blit=False, frames= ttlen-1 , interval=40, repeat=False)\n",
    "plt.draw()\n",
    "plt.show()\n",
    "simulation.save(filename='summary_TUvec.gif', writer='imagemagick', fps=2)"
   ]
  },
  {
   "cell_type": "code",
   "execution_count": null,
   "metadata": {},
   "outputs": [],
   "source": [
    "from IPython.display import Image\n",
    "from IPython.display import display\n",
    "display(Image(url='./summary_TUvec.gif'))"
   ]
  },
  {
   "cell_type": "code",
   "execution_count": null,
   "metadata": {},
   "outputs": [],
   "source": []
  }
 ],
 "metadata": {
  "kernelspec": {
   "display_name": "Python 3",
   "language": "python",
   "name": "python3"
  },
  "language_info": {
   "codemirror_mode": {
    "name": "ipython",
    "version": 3
   },
   "file_extension": ".py",
   "mimetype": "text/x-python",
   "name": "python",
   "nbconvert_exporter": "python",
   "pygments_lexer": "ipython3",
   "version": "3.7.4"
  }
 },
 "nbformat": 4,
 "nbformat_minor": 2
}
