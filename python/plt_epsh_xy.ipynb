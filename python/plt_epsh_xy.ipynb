{
 "cells": [
  {
   "cell_type": "code",
   "execution_count": 1,
   "metadata": {},
   "outputs": [
    {
     "name": "stdout",
     "output_type": "stream",
     "text": [
      "/scratch/jxchang/HighRes1/results/TideU008N0SimH200ho140Ah0200Cdqdt003/input/\n"
     ]
    }
   ],
   "source": [
    "import os\n",
    "currentDirectory = os.getcwd()\n",
    "data_dir = currentDirectory[:-7] + '/input/'\n",
    "print(data_dir)\n",
    "\n",
    "from xmitgcm import open_mdsdataset\n",
    "ds1 = open_mdsdataset(data_dir, geometry='cartesian', endian='<',prefix=['statevars'],iters=range(120*1860,170*1860,1860))"
   ]
  },
  {
   "cell_type": "code",
   "execution_count": 2,
   "metadata": {},
   "outputs": [],
   "source": [
    "import matplotlib.pyplot as plt\n",
    "import numpy as np\n",
    "from matplotlib import cm\n",
    "import matplotlib.colors as colors\n",
    "import matplotlib.animation as animation\n",
    "import math\n",
    "import xarray as xr\n",
    "import xgcm\n",
    "import pandas as pd\n",
    "%matplotlib inline"
   ]
  },
  {
   "cell_type": "code",
   "execution_count": 3,
   "metadata": {},
   "outputs": [
    {
     "name": "stdout",
     "output_type": "stream",
     "text": [
      "the length of time:50\n"
     ]
    }
   ],
   "source": [
    "t = 0\n",
    "h0 = 140.\n",
    "viscAh=2.e-2\n",
    "rhoNil=999.8\n",
    "g = 9.8\n",
    "u0=0.08\n",
    "om=2*np.pi/12.4/3600 \n",
    "\n",
    "\n",
    "xmin = -10\n",
    "xmax = 10\n",
    "vmax = 3\n",
    "vmin = -3\n",
    "\n",
    "numcolt=21\n",
    "numcolv=30\n",
    "\n",
    "ttlen=len(ds1.time)\n",
    "print('the length of time:' + str(ttlen) )"
   ]
  },
  {
   "cell_type": "code",
   "execution_count": 4,
   "metadata": {},
   "outputs": [
    {
     "name": "stdout",
     "output_type": "stream",
     "text": [
      "<xgcm.Grid>\n",
      "X Axis (not periodic, boundary=None):\n",
      "  * center   XC --> left\n",
      "  * left     XG --> center\n",
      "Z Axis (not periodic, boundary=None):\n",
      "  * center   Z --> left\n",
      "  * left     Zl --> center\n",
      "  * outer    Zp1 --> center\n",
      "  * right    Zu --> center\n",
      "Y Axis (not periodic, boundary=None):\n",
      "  * center   YC --> left\n",
      "  * left     YG --> center\n",
      "T Axis (not periodic, boundary=None):\n",
      "  * center   time\n"
     ]
    }
   ],
   "source": [
    "xg=ds1.coords[\"XG\"]\n",
    "xc=ds1.coords[\"XC\"]\n",
    "yg=ds1.coords[\"YG\"]\n",
    "yc=ds1.coords[\"YC\"]\n",
    "z=ds1.coords[\"Z\"]\n",
    "time=ds1.coords['time'].values/np.timedelta64(1, 's')/3600\n",
    "yc0 = (ds1.YC/1000.-ds1.YC.mean()/1000.)\n",
    "xc0 = (ds1.XC/1000.-ds1.XC.mean()/1000.)\n",
    "grid = xgcm.Grid(ds1, periodic=False)\n",
    "print(grid)"
   ]
  },
  {
   "cell_type": "code",
   "execution_count": 5,
   "metadata": {},
   "outputs": [
    {
     "name": "stdout",
     "output_type": "stream",
     "text": [
      "TimedeltaIndex(['2 days 14:00:00', '2 days 14:31:00', '2 days 15:02:00',\n",
      "                '2 days 15:33:00', '2 days 16:04:00', '2 days 16:35:00',\n",
      "                '2 days 17:06:00', '2 days 17:37:00', '2 days 18:08:00',\n",
      "                '2 days 18:39:00', '2 days 19:10:00', '2 days 19:41:00',\n",
      "                '2 days 20:12:00', '2 days 20:43:00', '2 days 21:14:00',\n",
      "                '2 days 21:45:00', '2 days 22:16:00', '2 days 22:47:00',\n",
      "                '2 days 23:18:00', '2 days 23:49:00', '3 days 00:20:00',\n",
      "                '3 days 00:51:00', '3 days 01:22:00', '3 days 01:53:00',\n",
      "                '3 days 02:24:00', '3 days 02:55:00', '3 days 03:26:00',\n",
      "                '3 days 03:57:00', '3 days 04:28:00', '3 days 04:59:00',\n",
      "                '3 days 05:30:00', '3 days 06:01:00', '3 days 06:32:00',\n",
      "                '3 days 07:03:00', '3 days 07:34:00', '3 days 08:05:00',\n",
      "                '3 days 08:36:00', '3 days 09:07:00', '3 days 09:38:00',\n",
      "                '3 days 10:09:00', '3 days 10:40:00', '3 days 11:11:00',\n",
      "                '3 days 11:42:00', '3 days 12:13:00', '3 days 12:44:00',\n",
      "                '3 days 13:15:00', '3 days 13:46:00', '3 days 14:17:00',\n",
      "                '3 days 14:48:00', '3 days 15:19:00'],\n",
      "               dtype='timedelta64[ns]', freq='1860S')\n"
     ]
    }
   ],
   "source": [
    "time_ns = pd.timedelta_range(start='62 H', periods=ttlen,freq='1860S')\n",
    "print(time_ns)"
   ]
  },
  {
   "cell_type": "code",
   "execution_count": 6,
   "metadata": {},
   "outputs": [
    {
     "name": "stdout",
     "output_type": "stream",
     "text": [
      "<xarray.DataArray 'time' (time: 50)>\n",
      "array([223200000000000, 225060000000000, 226920000000000, 228780000000000,\n",
      "       230640000000000, 232500000000000, 234360000000000, 236220000000000,\n",
      "       238080000000000, 239940000000000, 241800000000000, 243660000000000,\n",
      "       245520000000000, 247380000000000, 249240000000000, 251100000000000,\n",
      "       252960000000000, 254820000000000, 256680000000000, 258540000000000,\n",
      "       260400000000000, 262260000000000, 264120000000000, 265980000000000,\n",
      "       267840000000000, 269700000000000, 271560000000000, 273420000000000,\n",
      "       275280000000000, 277140000000000, 279000000000000, 280860000000000,\n",
      "       282720000000000, 284580000000000, 286440000000000, 288300000000000,\n",
      "       290160000000000, 292020000000000, 293880000000000, 295740000000000,\n",
      "       297600000000000, 299460000000000, 301320000000000, 303180000000000,\n",
      "       305040000000000, 306900000000000, 308760000000000, 310620000000000,\n",
      "       312480000000000, 314340000000000], dtype='timedelta64[ns]')\n",
      "Coordinates:\n",
      "    iter     (time) int64 dask.array<chunksize=(1,), meta=np.ndarray>\n",
      "  * time     (time) timedelta64[ns] 2 days 14:00:00 ... 3 days 15:19:00\n",
      "Attributes:\n",
      "    standard_name:  time\n",
      "    long_name:      Time\n",
      "    axis:           T\n",
      "    calendar:       gregorian\n"
     ]
    }
   ],
   "source": [
    "print(ds1.coords['time'])"
   ]
  },
  {
   "cell_type": "code",
   "execution_count": 7,
   "metadata": {},
   "outputs": [
    {
     "name": "stdout",
     "output_type": "stream",
     "text": [
      "[62.         62.51666667 63.03333333 63.55       64.06666667 64.58333333\n",
      " 65.1        65.61666667 66.13333333 66.65       67.16666667 67.68333333\n",
      " 68.2        68.71666667 69.23333333 69.75       70.26666667 70.78333333\n",
      " 71.3        71.81666667 72.33333333 72.85       73.36666667 73.88333333\n",
      " 74.4        74.91666667 75.43333333 75.95       76.46666667 76.98333333\n",
      " 77.5        78.01666667 78.53333333 79.05       79.56666667 80.08333333\n",
      " 80.6        81.11666667 81.63333333 82.15       82.66666667 83.18333333\n",
      " 83.7        84.21666667 84.73333333 85.25       85.76666667 86.28333333\n",
      " 86.8        87.31666667]\n"
     ]
    }
   ],
   "source": [
    "print(time)"
   ]
  },
  {
   "cell_type": "code",
   "execution_count": 8,
   "metadata": {},
   "outputs": [
    {
     "name": "stdout",
     "output_type": "stream",
     "text": [
      "0.07303324871228556\n",
      "0.07303324871228556\n"
     ]
    },
    {
     "name": "stderr",
     "output_type": "stream",
     "text": [
      "/home/jxchang/jupyter_py3.7/lib/python3.7/site-packages/dask/core.py:121: RuntimeWarning: invalid value encountered in true_divide\n",
      "  return func(*(_execute_task(a, cache) for a in args))\n"
     ]
    }
   ],
   "source": [
    "# depth mean velocity\n",
    "U0W=((ds1['UVEL']*ds1['drF']*ds1['hFacW']).sum('Z'))/(ds1.drF*ds1.hFacW*ds1.maskW).sum('Z')\n",
    "V0S=((ds1['VVEL']*ds1['drF']*ds1['hFacS']).sum('Z'))/(ds1.drF*ds1.hFacS*ds1.maskS).sum('Z')\n",
    "print(U0W[4,57,650].values)\n",
    "ds1['U0W']=xr.DataArray(U0W.data,coords=[time_ns,yc,xg],dims=['time','YC','XG'])\n",
    "ds1['V0S']=xr.DataArray(V0S.data,coords=[time_ns,yg,xc],dims=['time','YG','XC'])\n",
    "print(ds1.U0W[4,57,650].values)\n",
    "#del U0W,V0S"
   ]
  },
  {
   "cell_type": "code",
   "execution_count": 9,
   "metadata": {},
   "outputs": [],
   "source": [
    "# baroclinic velocity\n",
    "ds1['maskL']=grid.interp(ds1.hFacC,'Z',to='left', boundary='extrapolate')  #mask for wvel\n",
    "ds1['upW']=(ds1['UVEL']-ds1['U0W'])*ds1['maskW']\n",
    "ds1['vpS']=(ds1['VVEL']-ds1['V0S'])*ds1['maskS']\n",
    "wp=ds1['WVEL'].where(ds1['maskL'] !=0, np.nan)"
   ]
  },
  {
   "cell_type": "code",
   "execution_count": 10,
   "metadata": {},
   "outputs": [
    {
     "name": "stdout",
     "output_type": "stream",
     "text": [
      "('Zl', 'YC', 'XG')\n",
      "('Zl', 'YG', 'XC')\n"
     ]
    }
   ],
   "source": [
    "# horizontal dissipation\n",
    "ds1['maskZ'] = grid.interp(ds1.hFacS, 'X', boundary='extrapolate') #for dvdx\n",
    "ds1['hFacZ'] = grid.interp(ds1.hFacS, 'X', boundary='extrapolate') #for dvdx\n",
    "ds1['hFacWL'] = grid.interp(ds1.hFacW, 'Z', to='left', boundary='extrapolate')  #for dwdx\n",
    "print(ds1.hFacWL.dims)\n",
    "ds1['hFacSL'] = grid.interp(ds1.hFacS, 'Z', to='left', boundary='extrapolate')  #for dwdy\n",
    "print(ds1.hFacSL.dims)\n",
    "ds1['drL']=grid.interp(ds1.drF, 'Z', to='left', boundary='extrapolate')"
   ]
  },
  {
   "cell_type": "code",
   "execution_count": 11,
   "metadata": {},
   "outputs": [
    {
     "name": "stdout",
     "output_type": "stream",
     "text": [
      "14.606649742457112\n"
     ]
    }
   ],
   "source": [
    "print(((ds1['UVEL']*ds1['drF']*ds1['hFacW']).sum('Z'))[4,57,650].values)"
   ]
  },
  {
   "cell_type": "code",
   "execution_count": 12,
   "metadata": {},
   "outputs": [
    {
     "name": "stdout",
     "output_type": "stream",
     "text": [
      "200.0\n"
     ]
    }
   ],
   "source": [
    "print(((ds1.drF*ds1.hFacW*ds1.maskW).sum('Z'))[57,650].values)"
   ]
  },
  {
   "cell_type": "code",
   "execution_count": 13,
   "metadata": {},
   "outputs": [
    {
     "name": "stdout",
     "output_type": "stream",
     "text": [
      "0.1499497126082144\n",
      "-0.07057070426832507\n"
     ]
    }
   ],
   "source": [
    "print(ds1.UVEL.isel(time=4,Z=6,YC=57,XG=650).values)\n",
    "print(ds1.VVEL[4,6,57,650].values)"
   ]
  },
  {
   "cell_type": "code",
   "execution_count": 14,
   "metadata": {},
   "outputs": [
    {
     "name": "stdout",
     "output_type": "stream",
     "text": [
      "dask.array<getitem, shape=(), dtype=float64, chunksize=(), chunktype=numpy.ndarray>\n"
     ]
    }
   ],
   "source": [
    "print(U0W.data[4,57,650])"
   ]
  },
  {
   "cell_type": "code",
   "execution_count": 15,
   "metadata": {},
   "outputs": [
    {
     "name": "stdout",
     "output_type": "stream",
     "text": [
      "0.07303324871228556\n"
     ]
    },
    {
     "name": "stderr",
     "output_type": "stream",
     "text": [
      "/home/jxchang/jupyter_py3.7/lib/python3.7/site-packages/dask/core.py:121: RuntimeWarning: invalid value encountered in true_divide\n",
      "  return func(*(_execute_task(a, cache) for a in args))\n"
     ]
    }
   ],
   "source": [
    "print(ds1.U0W.isel(time=4,YC=57,XG=650).values)"
   ]
  },
  {
   "cell_type": "code",
   "execution_count": 16,
   "metadata": {},
   "outputs": [
    {
     "name": "stdout",
     "output_type": "stream",
     "text": [
      "0.07303324871228556\n"
     ]
    }
   ],
   "source": [
    "print(U0W.isel(time=4,YC=57,XG=650).values)"
   ]
  },
  {
   "cell_type": "code",
   "execution_count": 17,
   "metadata": {},
   "outputs": [
    {
     "name": "stdout",
     "output_type": "stream",
     "text": [
      "<xarray.DataArray 'U0W' (time: 50, YC: 120, XG: 1440)>\n",
      "dask.array<truediv, shape=(50, 120, 1440), dtype=float64, chunksize=(1, 120, 1440), chunktype=numpy.ndarray>\n",
      "Coordinates:\n",
      "  * YC       (YC) float64 12.5 37.5 62.5 87.5 ... 2.938e+03 2.962e+03 2.988e+03\n",
      "  * XG       (XG) float64 3.411e-13 713.5 1.407e+03 ... 7.859e+04 7.929e+04\n",
      "    dyG      (YC, XG) float64 dask.array<chunksize=(120, 1440), meta=np.ndarray>\n",
      "    dxC      (YC, XG) float64 dask.array<chunksize=(120, 1440), meta=np.ndarray>\n",
      "    rAw      (YC, XG) float64 dask.array<chunksize=(120, 1440), meta=np.ndarray>\n",
      "    maskInW  (YC, XG) bool dask.array<chunksize=(120, 1440), meta=np.ndarray>\n",
      "    iter     (time) int64 dask.array<chunksize=(1,), meta=np.ndarray>\n",
      "  * time     (time) timedelta64[ns] 2 days 14:00:00 ... 3 days 15:19:00\n"
     ]
    }
   ],
   "source": [
    "print(ds1.U0W)"
   ]
  },
  {
   "cell_type": "code",
   "execution_count": 18,
   "metadata": {},
   "outputs": [
    {
     "data": {
      "text/plain": [
       "array(0.07303325)"
      ]
     },
     "execution_count": 18,
     "metadata": {},
     "output_type": "execute_result"
    }
   ],
   "source": [
    "(((ds1['UVEL']*ds1['drF']*ds1['hFacW']).sum('Z'))[4,57,650]/(ds1.drF*ds1.hFacW*ds1.maskW).sum('Z')[57,650]).values"
   ]
  },
  {
   "cell_type": "code",
   "execution_count": 19,
   "metadata": {},
   "outputs": [
    {
     "name": "stderr",
     "output_type": "stream",
     "text": [
      "/home/jxchang/jupyter_py3.7/lib/python3.7/site-packages/dask/core.py:121: RuntimeWarning: invalid value encountered in true_divide\n",
      "  return func(*(_execute_task(a, cache) for a in args))\n"
     ]
    },
    {
     "name": "stdout",
     "output_type": "stream",
     "text": [
      "0.07691646389592885\n",
      "-0.07137582220801968\n"
     ]
    }
   ],
   "source": [
    "print(ds1.upW[4,6,57,650].values)\n",
    "print(ds1.vpS[4,6,57,650].values)"
   ]
  },
  {
   "cell_type": "code",
   "execution_count": 20,
   "metadata": {},
   "outputs": [],
   "source": [
    "#(xc,yc)\n",
    "hDispbc1 = rhoNil*viscAh*(((grid.diff(ds1.upW* ds1.dyG , 'X', boundary='extrapolate')/ds1.rA)**2+(grid.diff(ds1.vpS* ds1.dxG , 'Y', boundary='extrapolate')/ds1.rA)**2)*(ds1['drF']*ds1['hFacC']))  #dudx & dvdy\n",
    "#(xg,yg)\n",
    "hDispbc2 = rhoNil*viscAh*(((grid.diff(ds1.vpS* ds1.dyC , 'X', boundary='extrapolate')/ds1.rAz)**2+(grid.diff(ds1.upW* ds1.dxC , 'Y', boundary='extrapolate')/ds1.rAz)**2)*(ds1['drF']*ds1['hFacZ'])) #dvdx & dudy\n",
    "#(xg,yc)\n",
    "hDispbc31 = rhoNil*viscAh*(((grid.diff(wp ,'X',boundary='extrapolate')/ds1.dxC)**2)*(ds1['drL']*ds1['hFacWL']))  #dwdx\n",
    "#(xc,yg)\n",
    "hDispbc32 = rhoNil*viscAh*(((grid.diff(wp ,'Y',boundary='extrapolate')/ds1.dyC)**2)*(ds1['drL']*ds1['hFacSL']))  #dwdy"
   ]
  },
  {
   "cell_type": "code",
   "execution_count": 21,
   "metadata": {},
   "outputs": [
    {
     "name": "stderr",
     "output_type": "stream",
     "text": [
      "/home/jxchang/jupyter_py3.7/lib/python3.7/site-packages/dask/core.py:121: RuntimeWarning: invalid value encountered in true_divide\n",
      "  return func(*(_execute_task(a, cache) for a in args))\n"
     ]
    },
    {
     "name": "stdout",
     "output_type": "stream",
     "text": [
      "0.00021372819176079168\n",
      "0.0001848673036410335\n",
      "3.804114615921156e-07\n",
      "7.294493963359113e-07\n"
     ]
    }
   ],
   "source": [
    "print(hDispbc1[4,6,57,650].values)\n",
    "print(hDispbc2[4,6,57,650].values)\n",
    "print(hDispbc31[4,6,57,650].values)\n",
    "print(hDispbc32[4,6,57,650].values)"
   ]
  },
  {
   "cell_type": "code",
   "execution_count": 22,
   "metadata": {},
   "outputs": [
    {
     "name": "stdout",
     "output_type": "stream",
     "text": [
      "<xarray.DataArray (time: 50, Z: 40, YC: 120, XC: 1440)>\n",
      "dask.array<add, shape=(50, 40, 120, 1440), dtype=float64, chunksize=(1, 38, 118, 1438), chunktype=numpy.ndarray>\n",
      "Coordinates:\n",
      "  * time     (time) timedelta64[ns] 2 days 14:00:00 ... 3 days 15:19:00\n",
      "  * Z        (Z) float64 -2.5 -7.5 -12.5 -17.5 ... -182.5 -187.5 -192.5 -197.5\n",
      "  * YC       (YC) float64 12.5 37.5 62.5 87.5 ... 2.938e+03 2.962e+03 2.988e+03\n",
      "  * XC       (XC) float64 356.8 1.06e+03 1.745e+03 ... 7.894e+04 7.964e+04\n",
      "    rA       (YC, XC) float64 dask.array<chunksize=(120, 1440), meta=np.ndarray>\n",
      "    Depth    (YC, XC) float64 dask.array<chunksize=(120, 1440), meta=np.ndarray>\n",
      "    maskInC  (YC, XC) bool dask.array<chunksize=(120, 1440), meta=np.ndarray>\n",
      "    drF      (Z) float64 dask.array<chunksize=(40,), meta=np.ndarray>\n",
      "    PHrefC   (Z) float64 dask.array<chunksize=(40,), meta=np.ndarray>\n",
      "    rhoRef   (Z) float64 dask.array<chunksize=(40,), meta=np.ndarray>\n",
      "    hFacC    (Z, YC, XC) float64 dask.array<chunksize=(40, 120, 1440), meta=np.ndarray>\n",
      "    maskC    (Z, YC, XC) bool dask.array<chunksize=(40, 120, 1440), meta=np.ndarray>\n"
     ]
    }
   ],
   "source": [
    "hDispbc = hDispbc1+grid.interp(hDispbc2,['X','Y'],boundary='extrapolate') \\\n",
    "         +grid.interp(hDispbc31,['X','Z'],boundary='extrapolate') \\\n",
    "         +grid.interp(hDispbc32,['Y','Z'],boundary='extrapolate')\n",
    "print(hDispbc)"
   ]
  },
  {
   "cell_type": "code",
   "execution_count": 23,
   "metadata": {},
   "outputs": [
    {
     "data": {
      "text/plain": [
       "<Figure size 792x576 with 0 Axes>"
      ]
     },
     "metadata": {},
     "output_type": "display_data"
    }
   ],
   "source": [
    "fig = plt.figure(figsize=(11,8))\n",
    "grid = plt.GridSpec(2, 2, height_ratios=[0.6,2.5], width_ratios=[1,0.1],wspace=0.02,hspace=0.38)"
   ]
  },
  {
   "cell_type": "code",
   "execution_count": 24,
   "metadata": {},
   "outputs": [],
   "source": [
    "SMALL_SIZE = 17\n",
    "MEDIUM_SIZE = 19\n",
    "BIGGER_SIZE = 21\n",
    "\n",
    "plt.rc('font', size=SMALL_SIZE)          # controls default text sizes\n",
    "plt.rc('axes', titlesize=SMALL_SIZE)     # fontsize of the axes title\n",
    "plt.rc('axes', labelsize=MEDIUM_SIZE)    # fontsize of the x and y labels\n",
    "plt.rc('xtick', labelsize=SMALL_SIZE)    # fontsize of the tick labels\n",
    "plt.rc('ytick', labelsize=SMALL_SIZE)    # fontsize of the tick labels\n",
    "plt.rc('legend', fontsize=SMALL_SIZE)    # legend fontsize\n",
    "plt.rc('figure', titlesize=BIGGER_SIZE)  # fontsize of the figure title"
   ]
  },
  {
   "cell_type": "code",
   "execution_count": 25,
   "metadata": {},
   "outputs": [
    {
     "data": {
      "text/plain": [
       "Text(0.0, 1.0, 'Uinput vs U[t,0,0,0] ')"
      ]
     },
     "execution_count": 25,
     "metadata": {},
     "output_type": "execute_result"
    }
   ],
   "source": [
    "#plot bathymetry\n",
    "ax1=fig.add_subplot(grid[0,:-1])\n",
    "ax1.plot(time,np.zeros(ttlen),color='gray',linestyle='--')\n",
    "ax1.plot(time,ds1.UVEL.isel(Z=0,YC=0,XG=0),label='U(t,0,0,0)')\n",
    "ax1.plot(time,u0*np.cos(om*ds1.time.values/np.timedelta64(1, 's')),label='Uinput')\n",
    "ax1.set_xlim(min(time), max(time))\n",
    "ax1.set_ylim(-u0-0.05, u0+0.05)\n",
    "point, = ax1.plot([time[0]],[ds1.UVEL.isel(time=t,YC=40,XG=0,Z=0).data], 'go', color='red',ms=10)\n",
    "ax1.set_xlabel('time [hr]')\n",
    "ax1.set_ylabel('U [m/s]')\n",
    "ax1.set_title('Uinput vs U[t,0,0,0] ', loc='left')\n",
    "\n"
   ]
  },
  {
   "cell_type": "code",
   "execution_count": 26,
   "metadata": {},
   "outputs": [
    {
     "name": "stderr",
     "output_type": "stream",
     "text": [
      "/home/jxchang/jupyter_py3.7/lib/python3.7/site-packages/dask/core.py:121: RuntimeWarning: invalid value encountered in true_divide\n",
      "  return func(*(_execute_task(a, cache) for a in args))\n",
      "/home/jxchang/jupyter_py3.7/lib/python3.7/site-packages/ipykernel_launcher.py:12: MatplotlibDeprecationWarning: shading='flat' when X and Y have the same dimensions as C is deprecated since 3.3.  Either specify the corners of the quadrilaterals with X and Y, or pass shading='auto', 'nearest' or 'gouraud', or set rcParams['pcolor.shading'].  This will become an error two minor releases later.\n",
      "  if sys.path[0] == '':\n",
      "/home/jxchang/jupyter_py3.7/lib/python3.7/site-packages/ipykernel_launcher.py:12: MatplotlibDeprecationWarning: Passing parameters norm and vmin/vmax simultaneously is deprecated since 3.3 and will become an error two minor releases later. Please pass vmin/vmax directly to the norm when creating it.\n",
      "  if sys.path[0] == '':\n"
     ]
    },
    {
     "data": {
      "text/plain": [
       "[(-10.0, 10.0)]"
      ]
     },
     "execution_count": 26,
     "metadata": {},
     "output_type": "execute_result"
    }
   ],
   "source": [
    "dmax=10**(-1)\n",
    "dmin=10**(-6)\n",
    "\n",
    "# plot epsh\n",
    "ax2=fig.add_subplot(grid[1,0])\n",
    "cmap = cm.Spectral_r\n",
    "#levels = np.linspace(23, 45, num=numcolt)\n",
    "#norm = BoundaryNorm(levels, ncolors=cmap.N, clip=True)\n",
    "#opts = {'cmap':cm.get_cmap(cmap, len(levels) - 1), 'norm': norm}\n",
    "\n",
    "pcm=ax2.pcolormesh(xc0,yc0, hDispbc.isel(time=t,Z=6), vmax=dmax, vmin=dmin\n",
    "                ,norm=colors.LogNorm(vmin=dmin, vmax=dmax),cmap='RdYlBu_r',rasterized=True)\n",
    "#cset1 = ax2.contourf(ds1.XC0,  hDispbc.isel(time=t,Z=6))\n",
    "\n",
    "cax = fig.add_subplot(grid[1,-1])\n",
    "cax.set_visible(False)\n",
    "fig.colorbar(pcm, ax=cax,extend='both')\n",
    "#fig.colorbar(cset1, ax=axs,ticks=np.arange(tmin, tmax+0.1, 5))\n",
    "ax2.set_xlabel('X [km]')\n",
    "ax2.set_ylabel('Y [km]')\n",
    "ax2.set_title(r'$\\epsilon_h$', loc='left')\n",
    "ax2.set(xlim=(xmin, xmax))\n",
    "#ax2.plot(ds1['XC0'],-ds1.Depth.isel(YC=60),lw=1.5)"
   ]
  },
  {
   "cell_type": "code",
   "execution_count": 27,
   "metadata": {},
   "outputs": [
    {
     "name": "stdout",
     "output_type": "stream",
     "text": [
      "[<matplotlib.collections.QuadMesh object at 0x2b07aa0a1c50>]\n",
      "1\n"
     ]
    }
   ],
   "source": [
    "fig\n",
    "print(ax2.collections)\n",
    "print(np.size(ax2.collections))"
   ]
  },
  {
   "cell_type": "code",
   "execution_count": 28,
   "metadata": {},
   "outputs": [
    {
     "data": {
      "text/plain": [
       "<Figure size 432x288 with 0 Axes>"
      ]
     },
     "metadata": {},
     "output_type": "display_data"
    },
    {
     "name": "stdout",
     "output_type": "stream",
     "text": [
      "0\n"
     ]
    },
    {
     "name": "stderr",
     "output_type": "stream",
     "text": [
      "/home/jxchang/jupyter_py3.7/lib/python3.7/site-packages/dask/core.py:121: RuntimeWarning: invalid value encountered in true_divide\n",
      "  return func(*(_execute_task(a, cache) for a in args))\n"
     ]
    },
    {
     "name": "stdout",
     "output_type": "stream",
     "text": [
      "0\n",
      "1\n",
      "2\n",
      "3\n",
      "4\n",
      "5\n",
      "6\n",
      "7\n",
      "8\n",
      "9\n",
      "10\n",
      "11\n",
      "12\n",
      "13\n",
      "14\n",
      "15\n",
      "16\n",
      "17\n",
      "18\n",
      "19\n",
      "20\n",
      "21\n",
      "22\n",
      "23\n",
      "24\n",
      "25\n",
      "26\n",
      "27\n",
      "28\n",
      "29\n",
      "30\n",
      "31\n",
      "32\n",
      "33\n",
      "34\n",
      "35\n",
      "36\n",
      "37\n",
      "38\n",
      "39\n"
     ]
    },
    {
     "data": {
      "text/plain": [
       "<Figure size 432x288 with 0 Axes>"
      ]
     },
     "metadata": {},
     "output_type": "display_data"
    }
   ],
   "source": [
    "tt: int=0\n",
    "def updateData(tt):\n",
    "\n",
    "    print(tt)\n",
    "    updatetime = time[tt]\n",
    "    pcm.set_array(hDispbc[tt,6,:-1, :-1].values.flatten())\n",
    "    point.set_data(updatetime,ds1.UVEL.isel(time=tt,YC=60,XG=0,Z=0))\n",
    "    ax1.set_title('t= %2.3fhr' % updatetime)\n",
    "    fig1 = plt.gcf()\n",
    "    fig.savefig('./figsMag2/summary_epsh_z6_x10y_t%s.png' %(tt+120))\n",
    "\n",
    "\n",
    "\n",
    "simulation = animation.FuncAnimation(fig, updateData, blit=False, frames= 40 , interval=40, repeat=False)\n",
    "plt.draw()\n",
    "plt.show()\n",
    "simulation.save(filename='summary_epsh_z6_x10y.gif', writer='imagemagick', fps=2)"
   ]
  },
  {
   "cell_type": "code",
   "execution_count": 29,
   "metadata": {},
   "outputs": [
    {
     "data": {
      "text/html": [
       "<img src=\"./summary_epsh_z6_x10y.gif\"/>"
      ],
      "text/plain": [
       "<IPython.core.display.Image object>"
      ]
     },
     "metadata": {},
     "output_type": "display_data"
    }
   ],
   "source": [
    "from IPython.display import Image\n",
    "from IPython.display import display\n",
    "display(Image(url='./summary_epsh_z6_x10y.gif'))"
   ]
  },
  {
   "cell_type": "code",
   "execution_count": null,
   "metadata": {},
   "outputs": [],
   "source": []
  }
 ],
 "metadata": {
  "kernelspec": {
   "display_name": "Python 3",
   "language": "python",
   "name": "python3"
  },
  "language_info": {
   "codemirror_mode": {
    "name": "ipython",
    "version": 3
   },
   "file_extension": ".py",
   "mimetype": "text/x-python",
   "name": "python",
   "nbconvert_exporter": "python",
   "pygments_lexer": "ipython3",
   "version": "3.7.7"
  }
 },
 "nbformat": 4,
 "nbformat_minor": 2
}
