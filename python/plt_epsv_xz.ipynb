{
 "cells": [
  {
   "cell_type": "code",
   "execution_count": 1,
   "metadata": {},
   "outputs": [
    {
     "name": "stdout",
     "output_type": "stream",
     "text": [
      "/scratch/jxchang/HighRes1/results/TideU008N0SimH200ho140Ah0200Cdqdt003/input/\n"
     ]
    }
   ],
   "source": [
    "import os\n",
    "currentDirectory = os.getcwd()\n",
    "data_dir = currentDirectory[:-7] + '/input/'\n",
    "print(data_dir)\n",
    "\n",
    "from xmitgcm import open_mdsdataset\n",
    "ds1 = open_mdsdataset(data_dir, geometry='cartesian', endian='<',prefix=['statevars'],iters=range(120*1860,170*1860,1860))"
   ]
  },
  {
   "cell_type": "code",
   "execution_count": 2,
   "metadata": {},
   "outputs": [],
   "source": [
    "import matplotlib.pyplot as plt\n",
    "import numpy as np\n",
    "from matplotlib import cm\n",
    "import matplotlib.colors as colors\n",
    "import matplotlib.animation as animation\n",
    "import math"
   ]
  },
  {
   "cell_type": "code",
   "execution_count": 3,
   "metadata": {},
   "outputs": [
    {
     "name": "stdout",
     "output_type": "stream",
     "text": [
      "the length of time:50\n"
     ]
    }
   ],
   "source": [
    "t = 0\n",
    "h0 = 140.\n",
    "\n",
    "f0 = 1.e-4\n",
    "g = 9.8\n",
    "u0=0.08\n",
    "\n",
    "om=2*np.pi/12.4/3600 \n",
    "\n",
    "ttlen=len(ds1.time)\n",
    "print('the length of time:' + str(ttlen) )"
   ]
  },
  {
   "cell_type": "code",
   "execution_count": 4,
   "metadata": {},
   "outputs": [],
   "source": [
    "xg=ds1.coords[\"XG\"]\n",
    "xc=ds1.coords[\"XC\"]\n",
    "yg=ds1.coords[\"YG\"]\n",
    "yc=ds1.coords[\"YC\"]\n",
    "zl=ds1.coords[\"Zl\"]\n",
    "time=ds1.coords['time'].values/np.timedelta64(1, 's')/3600\n",
    "ds1=ds1.assign_coords(XC0 = (ds1.XC/1000.-ds1.XC.mean()/1000.))\n",
    "ds1=ds1.assign_coords(XG0 = (ds1.XG-ds1.XC.mean())/1000.)\n",
    "ds1=ds1.assign_coords(YC0 = (ds1.YC/1000.-ds1.YC.mean()/1000.))\n",
    "ds1=ds1.assign_coords(YG0 = (ds1.YG-ds1.YC.mean())/1000.)\n",
    "yc0 = (ds1.YC/1000.-ds1.YC.mean()/1000.)\n",
    "xc0 = (ds1.XC/1000.-ds1.XC.mean()/1000.)"
   ]
  },
  {
   "cell_type": "code",
   "execution_count": 12,
   "metadata": {},
   "outputs": [
    {
     "data": {
      "text/plain": [
       "<Figure size 792x576 with 0 Axes>"
      ]
     },
     "metadata": {},
     "output_type": "display_data"
    }
   ],
   "source": [
    "fig = plt.figure(figsize=(11,8))\n",
    "grid = plt.GridSpec(2, 2, height_ratios=[0.6,2.5], width_ratios=[1,0.1],wspace=0.02,hspace=0.38)"
   ]
  },
  {
   "cell_type": "code",
   "execution_count": 13,
   "metadata": {},
   "outputs": [],
   "source": [
    "SMALL_SIZE = 17\n",
    "MEDIUM_SIZE = 19\n",
    "BIGGER_SIZE = 21\n",
    "\n",
    "plt.rc('font', size=SMALL_SIZE)          # controls default text sizes\n",
    "plt.rc('axes', titlesize=SMALL_SIZE)     # fontsize of the axes title\n",
    "plt.rc('axes', labelsize=MEDIUM_SIZE)    # fontsize of the x and y labels\n",
    "plt.rc('xtick', labelsize=SMALL_SIZE)    # fontsize of the tick labels\n",
    "plt.rc('ytick', labelsize=SMALL_SIZE)    # fontsize of the tick labels\n",
    "plt.rc('legend', fontsize=SMALL_SIZE)    # legend fontsize\n",
    "plt.rc('figure', titlesize=BIGGER_SIZE)  # fontsize of the figure title"
   ]
  },
  {
   "cell_type": "code",
   "execution_count": 14,
   "metadata": {},
   "outputs": [
    {
     "data": {
      "text/plain": [
       "Text(0.0, 1.0, 'Uinput vs U[t,0,0,0] ')"
      ]
     },
     "execution_count": 14,
     "metadata": {},
     "output_type": "execute_result"
    }
   ],
   "source": [
    "#plot bathymetry\n",
    "ax1=fig.add_subplot(grid[0,:-1])\n",
    "ax1.plot(time,np.zeros(ttlen),color='gray',linestyle='--')\n",
    "ax1.plot(time,ds1.UVEL.isel(Z=0,YC=0,XG=0),label='U(t,0,0,0)')\n",
    "ax1.plot(time,u0*np.cos(om*ds1.time.values/np.timedelta64(1, 's')),label='Uinput')\n",
    "ax1.set_xlim(min(time), max(time))\n",
    "ax1.set_ylim(-u0-0.05, u0+0.05)\n",
    "point, = ax1.plot([time[0]],[ds1.UVEL.isel(time=t,YC=40,XG=0,Z=0).data], 'go', color='red',ms=10)\n",
    "ax1.set_xlabel('time [hr]')\n",
    "ax1.set_ylabel('U [m/s]')\n",
    "ax1.set_title('Uinput vs U[t,0,0,0] ', loc='left')\n",
    "\n"
   ]
  },
  {
   "cell_type": "code",
   "execution_count": 15,
   "metadata": {},
   "outputs": [
    {
     "name": "stderr",
     "output_type": "stream",
     "text": [
      "/home/jxchang/jupyter_py3.7/lib/python3.7/site-packages/ipykernel_launcher.py:11: MatplotlibDeprecationWarning: shading='flat' when X and Y have the same dimensions as C is deprecated since 3.3.  Either specify the corners of the quadrilaterals with X and Y, or pass shading='auto', 'nearest' or 'gouraud', or set rcParams['pcolor.shading'].  This will become an error two minor releases later.\n",
      "  # This is added back by InteractiveShellApp.init_path()\n",
      "/home/jxchang/jupyter_py3.7/lib/python3.7/site-packages/ipykernel_launcher.py:11: MatplotlibDeprecationWarning: Passing parameters norm and vmin/vmax simultaneously is deprecated since 3.3 and will become an error two minor releases later. Please pass vmin/vmax directly to the norm when creating it.\n",
      "  # This is added back by InteractiveShellApp.init_path()\n"
     ]
    },
    {
     "data": {
      "text/plain": [
       "[<matplotlib.lines.Line2D at 0x2aeac9a07850>]"
      ]
     },
     "execution_count": 15,
     "metadata": {},
     "output_type": "execute_result"
    }
   ],
   "source": [
    "# plot temperature\n",
    "ax2=fig.add_subplot(grid[1,0])\n",
    "\n",
    "xmin = -10\n",
    "xmax = 10\n",
    "dmax=10**(-1)\n",
    "dmin=10**(-6)\n",
    "Tlevels = np.linspace(22,30,7)\n",
    "\n",
    "pcm=ax2.pcolormesh(xc0,zl, ds1.KLeps.isel(time=t,YC=60), vmax=dmax, vmin=dmin\n",
    "                ,norm=colors.LogNorm(vmin=dmin, vmax=dmax),cmap='RdYlBu_r',rasterized=True)\n",
    "cset2 = ax2.contour(ds1.XC0, ds1.Z, ds1.THETA.isel(time=t,YC=60), Tlevels , colors='grey')\n",
    "\n",
    "cax = fig.add_subplot(grid[1,-1])\n",
    "cax.set_visible(False)\n",
    "fig.colorbar(pcm, ax=cax,extend='both')\n",
    "#fig.colorbar(cset1, ax=axs,ticks=np.arange(tmin, tmax+0.1, 5))\n",
    "ax2.set_xlabel('X [km]')\n",
    "ax2.set_ylabel('Z [m]')\n",
    "ax2.set_title('T [oC]', loc='left')\n",
    "ax2.set(xlim=(xmin, xmax),ylim=(-208,0))\n",
    "ax2.plot(ds1['XC0'],-ds1.Depth.isel(YC=60),lw=1.5)"
   ]
  },
  {
   "cell_type": "code",
   "execution_count": 16,
   "metadata": {},
   "outputs": [
    {
     "name": "stdout",
     "output_type": "stream",
     "text": [
      "[<matplotlib.collections.QuadMesh object at 0x2aeac9a79e90>, <matplotlib.collections.LineCollection object at 0x2aeac9aaa350>, <matplotlib.collections.LineCollection object at 0x2aeac9aaa150>, <matplotlib.collections.LineCollection object at 0x2aeac9aaaf10>, <matplotlib.collections.LineCollection object at 0x2aeac9ab9250>, <matplotlib.collections.LineCollection object at 0x2aeac9ab95d0>, <matplotlib.collections.LineCollection object at 0x2aeac9ab9990>, <matplotlib.collections.LineCollection object at 0x2aeac9ab9cd0>]\n"
     ]
    }
   ],
   "source": [
    "fig\n",
    "print(ax2.collections)"
   ]
  },
  {
   "cell_type": "code",
   "execution_count": 17,
   "metadata": {},
   "outputs": [
    {
     "data": {
      "text/plain": [
       "<Figure size 432x288 with 0 Axes>"
      ]
     },
     "metadata": {},
     "output_type": "display_data"
    },
    {
     "name": "stdout",
     "output_type": "stream",
     "text": [
      "0\n"
     ]
    },
    {
     "name": "stderr",
     "output_type": "stream",
     "text": [
      "/home/jxchang/jupyter_py3.7/lib/python3.7/site-packages/ipykernel_launcher.py:8: MatplotlibDeprecationWarning: shading='flat' when X and Y have the same dimensions as C is deprecated since 3.3.  Either specify the corners of the quadrilaterals with X and Y, or pass shading='auto', 'nearest' or 'gouraud', or set rcParams['pcolor.shading'].  This will become an error two minor releases later.\n",
      "  \n",
      "/home/jxchang/jupyter_py3.7/lib/python3.7/site-packages/ipykernel_launcher.py:8: MatplotlibDeprecationWarning: Passing parameters norm and vmin/vmax simultaneously is deprecated since 3.3 and will become an error two minor releases later. Please pass vmin/vmax directly to the norm when creating it.\n",
      "  \n"
     ]
    },
    {
     "name": "stdout",
     "output_type": "stream",
     "text": [
      "0\n",
      "1\n",
      "2\n",
      "3\n",
      "4\n",
      "5\n",
      "6\n",
      "7\n",
      "8\n",
      "9\n",
      "10\n",
      "11\n",
      "12\n",
      "13\n",
      "14\n",
      "15\n",
      "16\n",
      "17\n",
      "18\n",
      "19\n",
      "20\n",
      "21\n",
      "22\n",
      "23\n",
      "24\n",
      "25\n",
      "26\n",
      "27\n",
      "28\n",
      "29\n",
      "30\n",
      "31\n",
      "32\n",
      "33\n",
      "34\n",
      "35\n",
      "36\n",
      "37\n",
      "38\n",
      "39\n"
     ]
    }
   ],
   "source": [
    "tt: int=0\n",
    "def updateData(tt):\n",
    "\n",
    "    updatetime = time[tt]\n",
    "    print(tt)\n",
    "    ax2.cla()\n",
    "    pcm=ax2.pcolormesh(xc0,zl, ds1.KLeps.isel(time=tt,YC=60), vmax=dmax, vmin=dmin\n",
    "                ,norm=colors.LogNorm(vmin=dmin, vmax=dmax),cmap='RdYlBu_r',rasterized=True)\n",
    "    cset2=ax2.contour(ds1.XC0, ds1.Z, ds1.THETA.isel(time=tt,YC=60), Tlevels, colors='grey')\n",
    "    point.set_data(updatetime,ds1.UVEL.isel(time=tt,YC=60,XG=0,Z=0))\n",
    "    ax1.set_title('t= %2.3fhr' % updatetime)\n",
    "    ax2.set(xlim=(xmin, xmax),ylim=(-208,0))\n",
    "    fig.savefig('./figsMag2/summary_epsv_y60_x10z_t%s.png' %(tt+120))\n",
    "\n",
    "\n",
    "\n",
    "simulation = animation.FuncAnimation(fig, updateData, blit=False, frames= 40 , interval=40, repeat=False)\n",
    "plt.draw()\n",
    "plt.show()\n",
    "simulation.save(filename='summary_epsv_y60_x10z.gif',writer='imagemagick', fps=2)"
   ]
  },
  {
   "cell_type": "code",
   "execution_count": 19,
   "metadata": {},
   "outputs": [
    {
     "data": {
      "text/html": [
       "<img src=\"./summary_epsv_y60_x10z.gif\"/>"
      ],
      "text/plain": [
       "<IPython.core.display.Image object>"
      ]
     },
     "metadata": {},
     "output_type": "display_data"
    }
   ],
   "source": [
    "from IPython.display import Image\n",
    "from IPython.display import display\n",
    "display(Image(url='./summary_epsv_y60_x10z.gif'))"
   ]
  },
  {
   "cell_type": "code",
   "execution_count": null,
   "metadata": {},
   "outputs": [],
   "source": []
  }
 ],
 "metadata": {
  "kernelspec": {
   "display_name": "Python 3",
   "language": "python",
   "name": "python3"
  },
  "language_info": {
   "codemirror_mode": {
    "name": "ipython",
    "version": 3
   },
   "file_extension": ".py",
   "mimetype": "text/x-python",
   "name": "python",
   "nbconvert_exporter": "python",
   "pygments_lexer": "ipython3",
   "version": "3.7.7"
  }
 },
 "nbformat": 4,
 "nbformat_minor": 2
}
