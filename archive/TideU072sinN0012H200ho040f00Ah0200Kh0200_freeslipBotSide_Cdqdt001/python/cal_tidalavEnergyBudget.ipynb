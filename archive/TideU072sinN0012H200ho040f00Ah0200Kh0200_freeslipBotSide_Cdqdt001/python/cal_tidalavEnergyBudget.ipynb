{
 "cells": [
  {
   "cell_type": "code",
   "execution_count": 1,
   "metadata": {},
   "outputs": [],
   "source": [
    "from xmitgcm import open_mdsdataset\n",
    "import xgcm\n",
    "import os\n",
    "import matplotlib.pyplot as plt\n",
    "from mpl_toolkits.axes_grid1 import host_subplot\n",
    "import pandas as pd\n",
    "import numpy as np\n",
    "import xarray as xr"
   ]
  },
  {
   "cell_type": "code",
   "execution_count": 2,
   "metadata": {},
   "outputs": [
    {
     "name": "stdout",
     "output_type": "stream",
     "text": [
      "/project/6001902/jxchang/HighRes1/results/TideU008N0LinH200ho140Ah0200/input/\n"
     ]
    }
   ],
   "source": [
    "currentDirectory = os.getcwd()\n",
    "data_dir = currentDirectory[:-7] + '/input/'\n",
    "print(data_dir)"
   ]
  },
  {
   "cell_type": "code",
   "execution_count": 3,
   "metadata": {},
   "outputs": [
    {
     "name": "stdout",
     "output_type": "stream",
     "text": [
      "Frozen(SortedKeysDict({'YC': (120,), 'XC': (1440,), 'YG': (120,), 'XG': (1440,), 'Zp1': (41,), 'Z': (40,), 'time': (1, 1, 1, 1, 1, 1, 1, 1, 1, 1, 1, 1, 1, 1, 1, 1, 1, 1, 1, 1, 1, 1, 1, 1, 1, 1, 1, 1, 1, 1, 1, 1, 1, 1, 1, 1, 1, 1, 1, 1, 1, 1, 1, 1, 1, 1, 1, 1, 1, 1, 1, 1, 1, 1, 1, 1, 1, 1, 1, 1, 1, 1, 1, 1, 1, 1, 1, 1, 1, 1, 1, 1, 1, 1, 1, 1, 1, 1, 1, 1, 1, 1, 1, 1, 1, 1, 1, 1, 1, 1, 1, 1, 1, 1, 1, 1, 1, 1, 1, 1, 1, 1, 1, 1, 1, 1, 1, 1, 1, 1, 1, 1, 1, 1, 1, 1, 1, 1, 1, 1, 1, 1, 1, 1, 1, 1, 1, 1, 1, 1, 1, 1, 1, 1, 1, 1, 1, 1, 1, 1, 1, 1, 1, 1, 1, 1, 1, 1, 1, 1, 1, 1, 1, 1, 1, 1, 1, 1, 1, 1, 1, 1, 1, 1, 1, 1, 1, 1, 1, 1, 1, 1, 1), 'Zl': (40,)}))\n",
      "Frozen(SortedKeysDict({'YC': (120,), 'XC': (360, 360, 360, 360), 'YG': (120,), 'XG': (360, 360, 360, 360), 'Zp1': (41,), 'Z': (40,), 'time': (1, 1, 1, 1, 1, 1, 1, 1, 1, 1, 1, 1, 1, 1, 1, 1, 1, 1, 1, 1, 1, 1, 1, 1, 1, 1, 1, 1, 1, 1, 1, 1, 1, 1, 1, 1, 1, 1, 1, 1, 1, 1, 1, 1, 1, 1, 1, 1, 1, 1, 1, 1, 1, 1, 1, 1, 1, 1, 1, 1, 1, 1, 1, 1, 1, 1, 1, 1, 1, 1, 1, 1, 1, 1, 1, 1, 1, 1, 1, 1, 1, 1, 1, 1, 1, 1, 1, 1, 1, 1, 1, 1, 1, 1, 1, 1, 1, 1, 1, 1, 1, 1, 1, 1, 1, 1, 1, 1, 1, 1, 1, 1, 1, 1, 1, 1, 1, 1, 1, 1, 1, 1, 1, 1, 1, 1, 1, 1, 1, 1, 1, 1, 1, 1, 1, 1, 1, 1, 1, 1, 1, 1, 1, 1, 1, 1, 1, 1, 1, 1, 1, 1, 1, 1, 1, 1, 1, 1, 1, 1, 1, 1, 1, 1, 1, 1, 1, 1, 1, 1, 1, 1, 1), 'Zl': (40,)}))\n"
     ]
    }
   ],
   "source": [
    "ds1 = open_mdsdataset(data_dir, geometry='cartesian',endian='<',prefix=['statevars'])\n",
    "print(ds1.chunks)\n",
    "ds1 = ds1.chunk(chunks={\"XG\":360,\"XC\":360})\n",
    "print(ds1.chunks)"
   ]
  },
  {
   "cell_type": "code",
   "execution_count": 4,
   "metadata": {},
   "outputs": [
    {
     "name": "stdout",
     "output_type": "stream",
     "text": [
      "<xgcm.Grid>\n",
      "T Axis (not periodic, boundary=None):\n",
      "  * center   time\n",
      "Y Axis (not periodic, boundary=None):\n",
      "  * center   YC --> left\n",
      "  * left     YG --> center\n",
      "Z Axis (not periodic, boundary=None):\n",
      "  * center   Z --> left\n",
      "  * left     Zl --> center\n",
      "  * outer    Zp1 --> center\n",
      "  * right    Zu --> center\n",
      "X Axis (not periodic, boundary=None):\n",
      "  * center   XC --> left\n",
      "  * left     XG --> center\n"
     ]
    }
   ],
   "source": [
    "ds2 = open_mdsdataset(data_dir, geometry='cartesian', endian='<',prefix=['energymvars'])\n",
    "ds2 = ds2.chunk(chunks={\"XG\":360,\"XC\":360})\n",
    "\n",
    "grid = xgcm.Grid(ds1, periodic=False)\n",
    "print(grid)"
   ]
  },
  {
   "cell_type": "code",
   "execution_count": 5,
   "metadata": {},
   "outputs": [],
   "source": [
    "xmin = 13000\n",
    "xmax = 67000\n",
    "ymin = 0\n",
    "ymax = 3000\n",
    "numcolt=21\n",
    "numcolv=21"
   ]
  },
  {
   "cell_type": "code",
   "execution_count": 6,
   "metadata": {},
   "outputs": [
    {
     "name": "stdout",
     "output_type": "stream",
     "text": [
      "25 1414\n",
      "0 119\n"
     ]
    }
   ],
   "source": [
    "time1=ds1.coords['time'].values/np.timedelta64(1, 's')\n",
    "time=ds2.coords['time'].values/np.timedelta64(1, 's')\n",
    "xc=ds1.coords['XC']\n",
    "xg=ds1.coords['XG']\n",
    "yc=ds1.coords['YC']\n",
    "yg=ds1.coords['YG']\n",
    "z=ds1.coords['Z']\n",
    "ix=[i for i, e in enumerate(xc) if (e > xmin) & (e < xmax)]\n",
    "iy=[i for i, e in enumerate(yc) if (e > ymin) & (e < ymax)]\n",
    "print(ix[0],ix[-1])\n",
    "print(iy[0],iy[-1])"
   ]
  },
  {
   "cell_type": "code",
   "execution_count": 7,
   "metadata": {},
   "outputs": [],
   "source": [
    "viscAh=2.e-2\n",
    "rhoNil=999.8\n",
    "\n",
    "alpha = 2e-4\n",
    "beta = 0.\n",
    "tR_fname=\"../indata/TRef.bin\"\n",
    "tRef = np.fromfile(tR_fname)\n",
    "refSalt=35.\n",
    "ds1['tRef']=xr.DataArray(tRef,coords=[z],dims=['Z'])"
   ]
  },
  {
   "cell_type": "code",
   "execution_count": 8,
   "metadata": {},
   "outputs": [
    {
     "name": "stdout",
     "output_type": "stream",
     "text": [
      "the length of time:173\n",
      "initial temp: [63.59230582 40.69584406 33.47293155 31.54712706 29.26896757 28.65696899\n",
      " 28.23721628 27.65390158 27.08300659 26.5118492  25.90295299 25.69407634\n",
      " 25.29910279 24.81832859 24.41499174 24.26210069 24.21619203 24.14261024\n",
      " 24.0996551  24.02495734 23.98958682 23.95165181 23.93411373 23.9224752\n",
      " 23.91844136 23.91059116 23.87093593 23.86487752 23.86221099 23.85790713\n",
      " 23.84947122 23.84359894 23.82719386 23.81078878 23.79438371 23.77797863\n",
      " 23.76157355 23.74516847 23.72876339 23.71235831]\n"
     ]
    }
   ],
   "source": [
    "ttlen=len(ds1.time)\n",
    "print('the length of time:' + str(ttlen) )\n",
    "print('initial temp: '+ str(tRef))"
   ]
  },
  {
   "cell_type": "code",
   "execution_count": 9,
   "metadata": {},
   "outputs": [
    {
     "name": "stdout",
     "output_type": "stream",
     "text": [
      "rho:<xarray.DataArray (time: 173, Z: 40, YC: 120, XC: 1440)>\n",
      "dask.array<mul, shape=(173, 40, 120, 1440), dtype=float64, chunksize=(1, 40, 120, 360), chunktype=numpy.ndarray>\n",
      "Coordinates:\n",
      "  * XC       (XC) float64 356.8 1.06e+03 1.745e+03 ... 7.894e+04 7.964e+04\n",
      "  * YC       (YC) float64 12.5 37.5 62.5 87.5 ... 2.938e+03 2.962e+03 2.988e+03\n",
      "  * Z        (Z) float64 -2.5 -7.5 -12.5 -17.5 ... -182.5 -187.5 -192.5 -197.5\n",
      "    rA       (YC, XC) float64 dask.array<chunksize=(120, 360), meta=np.ndarray>\n",
      "    Depth    (YC, XC) float64 dask.array<chunksize=(120, 360), meta=np.ndarray>\n",
      "    drF      (Z) float64 dask.array<chunksize=(40,), meta=np.ndarray>\n",
      "    PHrefC   (Z) float64 dask.array<chunksize=(40,), meta=np.ndarray>\n",
      "    hFacC    (Z, YC, XC) float64 dask.array<chunksize=(40, 120, 360), meta=np.ndarray>\n",
      "    maskC    (Z, YC, XC) bool dask.array<chunksize=(40, 120, 360), meta=np.ndarray>\n",
      "    rhoRef   (Z) float64 dask.array<chunksize=(40,), meta=np.ndarray>\n",
      "    maskInC  (YC, XC) bool dask.array<chunksize=(120, 360), meta=np.ndarray>\n",
      "    iter     (time) int64 dask.array<chunksize=(1,), meta=np.ndarray>\n",
      "  * time     (time) timedelta64[ns] 00:00:00 00:31:00 ... 3 days 16:52:00\n",
      "dt:1860.0\n"
     ]
    }
   ],
   "source": [
    "rho=(rhoNil*(1-alpha*(ds1['THETA']-ds1['tRef'])+beta*(ds1['SALT']-refSalt)))*ds1['maskC']\n",
    "print('rho:'+str(rho))\n",
    "rhol=grid.interp(rho,'Z',boundary='extrapolate')\n",
    "dt=time[1]-time[0]\n",
    "print('dt:' +str(dt))"
   ]
  },
  {
   "cell_type": "code",
   "execution_count": 10,
   "metadata": {},
   "outputs": [
    {
     "name": "stdout",
     "output_type": "stream",
     "text": [
      "time_bin_labels:[ 22320.  66960. 111600. 156240. 200880. 245520. 290160.]\n",
      "time_bin:TimedeltaIndex(['0 days 00:00:00', '0 days 12:24:20', '1 days 00:48:40',\n",
      "                '1 days 13:13:00', '2 days 01:37:20', '2 days 14:01:40',\n",
      "                '3 days 02:26:00', '3 days 14:50:20'],\n",
      "               dtype='timedelta64[ns]', freq='44660S')\n"
     ]
    }
   ],
   "source": [
    "time_bin_labels = np.arange(12.4*60*60/2,time[-1]-20000,12.4*60*60)\n",
    "print('time_bin_labels:' +str(time_bin_labels))\n",
    "time_bin = pd.timedelta_range(0, periods=8,freq='44660S')\n",
    "print('time_bin:' + str(time_bin))\n",
    "time_ns = pd.timedelta_range(0, periods=ttlen,freq='1860S')"
   ]
  },
  {
   "cell_type": "code",
   "execution_count": 11,
   "metadata": {},
   "outputs": [],
   "source": [
    "# depth mean velocity\n",
    "U0W=((ds1['UVEL']*ds1['drF']*ds1['hFacW']).sum('Z'))/(ds1.drF*ds1.hFacW*ds1.maskW).sum('Z')\n",
    "V0S=((ds1['VVEL']*ds1['drF']*ds1['hFacS']).sum('Z'))/(ds1.drF*ds1.hFacS*ds1.maskS).sum('Z')\n",
    "ds1['U0W']=xr.DataArray(U0W.data,coords=[time_ns,yc,xg],dims=['time','YC','XG'])\n",
    "ds1['V0S']=xr.DataArray(V0S.data,coords=[time_ns,yg,xc],dims=['time','YG','XC'])\n",
    "del U0W,V0S"
   ]
  },
  {
   "cell_type": "code",
   "execution_count": 12,
   "metadata": {},
   "outputs": [],
   "source": [
    "# baroclinic velocity\n",
    "ds1['maskL']=grid.interp(ds1.hFacC,'Z',to='left', boundary='extrapolate')  #mask for wvel\n",
    "ds1['upW']=(ds1['UVEL']-ds1['U0W'])*ds1['maskW']\n",
    "ds1['vpS']=(ds1['VVEL']-ds1['V0S'])*ds1['maskS']\n",
    "wp=ds1['WVEL'].where(ds1['maskL'] !=0, np.nan)"
   ]
  },
  {
   "cell_type": "code",
   "execution_count": 13,
   "metadata": {},
   "outputs": [
    {
     "name": "stdout",
     "output_type": "stream",
     "text": [
      "('Zl', 'YC', 'XG')\n",
      "('Zl', 'YG', 'XC')\n"
     ]
    }
   ],
   "source": [
    "# horizontal dissipation\n",
    "ds1['maskZ'] = grid.interp(ds1.hFacS, 'X', boundary='extrapolate') #for dvdx\n",
    "ds1['hFacZ'] = grid.interp(ds1.hFacS, 'X', boundary='extrapolate') #for dvdx\n",
    "ds1['hFacWL'] = grid.interp(ds1.hFacW, 'Z', to='left', boundary='extrapolate')  #for dwdx\n",
    "print(ds1.hFacWL.dims)\n",
    "ds1['hFacSL'] = grid.interp(ds1.hFacS, 'Z', to='left', boundary='extrapolate')  #for dwdy\n",
    "print(ds1.hFacSL.dims)\n",
    "ds1['drL']=grid.interp(ds1.drF, 'Z', to='left', boundary='extrapolate')"
   ]
  },
  {
   "cell_type": "code",
   "execution_count": 14,
   "metadata": {},
   "outputs": [],
   "source": [
    "hDispbc1 = rhoNil*viscAh*(((grid.diff(ds1.upW* ds1.dyG , 'X', boundary='extrapolate')/ds1.rA)**2+(grid.diff(ds1.vpS* ds1.dxG , 'Y', boundary='extrapolate')/ds1.rA)**2)*(ds1['drF']*ds1['hFacC'])).sum('Z')  #dudx & dvdy\n",
    "hDispbc2 = rhoNil*viscAh*(((grid.diff(ds1.vpS* ds1.dyC , 'X', boundary='extrapolate')/ds1.rAz)**2+(grid.diff(ds1.upW* ds1.dxC , 'Y', boundary='extrapolate')/ds1.rAz)**2)*(ds1['drF']*ds1['hFacZ'])).sum('Z') #dvdx & dudy\n",
    "hDispbc31 = rhoNil*viscAh*(((grid.diff(wp ,'X',boundary='extrapolate')/ds1.dxC)**2)*(ds1['drL']*ds1['hFacWL'])).sum('Zl')  #dwdx\n",
    "hDispbc32 = rhoNil*viscAh*(((grid.diff(wp ,'Y',boundary='extrapolate')/ds1.dyC)**2)*(ds1['drL']*ds1['hFacSL'])).sum('Zl')  #dwdy"
   ]
  },
  {
   "cell_type": "code",
   "execution_count": 15,
   "metadata": {},
   "outputs": [
    {
     "name": "stderr",
     "output_type": "stream",
     "text": [
      "/home/jxchang/jupyter_py3/lib/python3.7/site-packages/xarray/core/common.py:736: FutureWarning: This DataArray contains multi-dimensional coordinates. In the future, the dimension order of these coordinates will be restored as well unless you specify restore_coord_dims=False.\n",
      "  \"include_lowest\": include_lowest,\n",
      "/home/jxchang/jupyter_py3/lib/python3.7/site-packages/xarray/core/common.py:736: FutureWarning: This DataArray contains multi-dimensional coordinates. In the future, the dimension order of these coordinates will be restored as well unless you specify restore_coord_dims=False.\n",
      "  \"include_lowest\": include_lowest,\n",
      "/home/jxchang/jupyter_py3/lib/python3.7/site-packages/xarray/core/common.py:736: FutureWarning: This DataArray contains multi-dimensional coordinates. In the future, the dimension order of these coordinates will be restored as well unless you specify restore_coord_dims=False.\n",
      "  \"include_lowest\": include_lowest,\n",
      "/home/jxchang/jupyter_py3/lib/python3.7/site-packages/xarray/core/common.py:736: FutureWarning: This DataArray contains multi-dimensional coordinates. In the future, the dimension order of these coordinates will be restored as well unless you specify restore_coord_dims=False.\n",
      "  \"include_lowest\": include_lowest,\n"
     ]
    }
   ],
   "source": [
    "ta_hDispbc1 = hDispbc1.groupby_bins('time',time_bin,labels=time_bin_labels).mean()\n",
    "ta_hDispbc2 = hDispbc2.groupby_bins('time',time_bin,labels=time_bin_labels).mean()\n",
    "ta_hDispbc31 = hDispbc31.groupby_bins('time',time_bin,labels=time_bin_labels).mean()\n",
    "ta_hDispbc32 = hDispbc32.groupby_bins('time',time_bin,labels=time_bin_labels).mean()"
   ]
  },
  {
   "cell_type": "code",
   "execution_count": 16,
   "metadata": {},
   "outputs": [],
   "source": [
    "hDsspbc1=(ta_hDispbc1*ds2['rA']).sel(XC=xc[(xc > xmin) & (xc < xmax)],YC=yc[(yc > ymin) & (yc < ymax)]).sum(['XC','YC'])/1e6\n",
    "hDsspbc2=(ta_hDispbc2*ds2['rAz']).sel(XG=xg[(xg > xmin) & (xg < xmax)],YG=yg[(yg > ymin) & (yg < ymax)]).sum(['XG','YG'])/1e6\n",
    "hDsspbc31=(ta_hDispbc31*ds2['rAw']).sel(XG=xg[(xg > xmin) & (xg < xmax)],YC=yc[(yc > ymin) & (yc < ymax)]).sum(['XG','YC'])/1e6\n",
    "hDsspbc32=(ta_hDispbc32*ds2['rAs']).sel(XC=xc[(xc > xmin) & (xc < xmax)],YG=yg[(yg > ymin) & (yg < ymax)]).sum(['XC','YG'])/1e6"
   ]
  },
  {
   "cell_type": "code",
   "execution_count": 17,
   "metadata": {},
   "outputs": [],
   "source": [
    "hDsspbc=hDsspbc1+hDsspbc2+hDsspbc31+hDsspbc32\n",
    "del hDsspbc1, hDsspbc2, hDsspbc31, hDsspbc32"
   ]
  },
  {
   "cell_type": "code",
   "execution_count": 18,
   "metadata": {},
   "outputs": [
    {
     "name": "stdout",
     "output_type": "stream",
     "text": [
      "dtEbc(172, 120, 1440)\n"
     ]
    }
   ],
   "source": [
    "# dEdt\n",
    "Ebc=rhoNil*ds2['SDIAG5']\n",
    "dtEbc=np.gradient(Ebc,dt,axis=0)\n",
    "print('dtEbc'+str(dtEbc.shape))\n",
    "ddtEbc = xr.DataArray(dtEbc.data, coords=[ds2.time.values,yc,xc], dims=['time','YC', 'XC'])\n",
    "ta_dtEbc = ddtEbc.groupby_bins('time',time_bin,labels=time_bin_labels).mean()\n",
    "DtdE= (ta_dtEbc*ds2['rA']).sel(XC=xc[(xc > xmin) & (xc < xmax)],YC=yc[(yc > ymin) & (yc < ymax)]).sum(['XC','YC'])/1e6\n",
    "del Ebc, dtEbc"
   ]
  },
  {
   "cell_type": "code",
   "execution_count": 19,
   "metadata": {},
   "outputs": [],
   "source": [
    "# hdFbc\n",
    "uPbc=xr.DataArray(rhoNil*ds2['SDIAG6'].data, coords=[ds2.time.values,yc,xg], dims=['time','YC','XG'])\n",
    "vPbc=xr.DataArray(rhoNil*ds2['SDIAG7'].data, coords=[ds2.time.values,yg,xc], dims=['time','YG','XC'])\n",
    "uEbc=xr.DataArray(rhoNil*ds2['SDIAG8'].data, coords=[ds2.time.values,yc,xg], dims=['time','YC','XG'])\n",
    "vEbc=xr.DataArray(rhoNil*ds2['SDIAG9'].data, coords=[ds2.time.values,yg,xc], dims=['time','YG','XC'])\n",
    "#print(uPbc)\n",
    "#print(uEbc)\n",
    "Fxbc=uPbc+uEbc\n",
    "Fybc=vPbc+vEbc\n",
    "ta_Fxbc=Fxbc.groupby_bins('time',time_bin,labels=time_bin_labels).mean()\n",
    "ta_Fybc=Fybc.groupby_bins('time',time_bin,labels=time_bin_labels).mean()\n",
    "#print(Fbc)\n",
    "hd_ta_Fbc=(grid.diff(ta_Fxbc*ds2['dyG'],'X',boundary='extrapolate')+grid.diff(ta_Fybc*ds2['dxG'],'Y',boundary='extrapolate'))/ds2['rA']\n",
    "BCrad=(hd_ta_Fbc*ds2['rA']).sel(XC=xc[(xc > xmin) & (xc < xmax)],YC=yc[(yc > ymin) & (yc < ymax)]).sum(['XC','YC'])/1e6\n",
    "fxdy=((ta_Fxbc*ds2['dyG']).isel(XG=ix[-1])-(ta_Fxbc*ds2['dyG']).isel(XG=ix[0])).sum('YC')/1e6\n",
    "del uPbc, vPbc, uEbc, vEbc, Fxbc, Fybc"
   ]
  },
  {
   "cell_type": "code",
   "execution_count": 20,
   "metadata": {},
   "outputs": [
    {
     "name": "stdout",
     "output_type": "stream",
     "text": [
      "C<xarray.DataArray (time_bins: 7)>\n",
      "dask.array<truediv, shape=(7,), dtype=float64, chunksize=(7,), chunktype=numpy.ndarray>\n",
      "Coordinates:\n",
      "  * time_bins  (time_bins) float64 2.232e+04 6.696e+04 ... 2.455e+05 2.902e+05\n"
     ]
    }
   ],
   "source": [
    "# BC-BT conversion\n",
    "Conv=xr.DataArray(rhoNil*ds2['SDIAG10'], coords=[ds2.time.values,yc,xc], dims=['time','YC','XC'])\n",
    "#print('Conv'+str(Conv))\n",
    "ta_Conv=Conv.groupby_bins('time',time_bin,labels=time_bin_labels).mean()\n",
    "#print('ta_Conv'+str(ta_Conv))\n",
    "C=(ta_Conv*ds2['rA']).sel(XC=xc[(xc > xmin) & (xc < xmax)],YC=yc[(yc > ymin) & (yc < ymax)]).sum(['XC','YC'])/1e6\n",
    "print('C'+str(C))"
   ]
  },
  {
   "cell_type": "code",
   "execution_count": 21,
   "metadata": {},
   "outputs": [
    {
     "name": "stdout",
     "output_type": "stream",
     "text": [
      "<xarray.DataArray (time_bins: 7)>\n",
      "dask.array<sub, shape=(7,), dtype=float64, chunksize=(1,), chunktype=numpy.ndarray>\n",
      "Coordinates:\n",
      "  * time_bins  (time_bins) float64 2.232e+04 6.696e+04 ... 2.455e+05 2.902e+05\n"
     ]
    }
   ],
   "source": [
    "# Residual\n",
    "R=((ta_Conv-ta_dtEbc)*ds2['rA']).sel(XC=xc[(xc > xmin) & (xc < xmax)],YC=yc[(yc > ymin) & (yc < ymax)]).sum(['XC','YC'])/1e6-fxdy\n",
    "print(R)"
   ]
  },
  {
   "cell_type": "code",
   "execution_count": 22,
   "metadata": {},
   "outputs": [
    {
     "name": "stdout",
     "output_type": "stream",
     "text": [
      "<xarray.DataArray 'KLeps' (time: 173, YC: 120, XC: 1440)>\n",
      "dask.array<sum-aggregate, shape=(173, 120, 1440), dtype=float64, chunksize=(1, 120, 360), chunktype=numpy.ndarray>\n",
      "Coordinates:\n",
      "  * XC       (XC) float64 356.8 1.06e+03 1.745e+03 ... 7.894e+04 7.964e+04\n",
      "  * YC       (YC) float64 12.5 37.5 62.5 87.5 ... 2.938e+03 2.962e+03 2.988e+03\n",
      "    rA       (YC, XC) float64 dask.array<chunksize=(120, 360), meta=np.ndarray>\n",
      "    Depth    (YC, XC) float64 dask.array<chunksize=(120, 360), meta=np.ndarray>\n",
      "    maskInC  (YC, XC) bool dask.array<chunksize=(120, 360), meta=np.ndarray>\n",
      "    iter     (time) int64 dask.array<chunksize=(1,), meta=np.ndarray>\n",
      "  * time     (time) timedelta64[ns] 00:00:00 00:31:00 ... 3 days 16:52:00\n",
      "vDsp<xarray.DataArray 'sum-aggregate-0eb8bee472a1f7e0038e67e945a70816' (time: 173, YC: 120, XC: 1440)>\n",
      "dask.array<sum-aggregate, shape=(173, 120, 1440), dtype=float64, chunksize=(1, 120, 360), chunktype=numpy.ndarray>\n",
      "Coordinates:\n",
      "  * time     (time) timedelta64[ns] 00:00:00 00:31:00 ... 3 days 16:52:00\n",
      "  * YC       (YC) float64 12.5 37.5 62.5 87.5 ... 2.938e+03 2.962e+03 2.988e+03\n",
      "  * XC       (XC) float64 356.8 1.06e+03 1.745e+03 ... 7.894e+04 7.964e+04\n",
      "ta_dsp<xarray.DataArray 'sum-aggregate-0eb8bee472a1f7e0038e67e945a70816' (time_bins: 7, YC: 120, XC: 1440)>\n",
      "dask.array<stack, shape=(7, 120, 1440), dtype=float64, chunksize=(1, 120, 360), chunktype=numpy.ndarray>\n",
      "Coordinates:\n",
      "  * time_bins  (time_bins) float64 2.232e+04 6.696e+04 ... 2.455e+05 2.902e+05\n",
      "  * YC         (YC) float64 12.5 37.5 62.5 ... 2.938e+03 2.962e+03 2.988e+03\n",
      "  * XC         (XC) float64 356.8 1.06e+03 1.745e+03 ... 7.894e+04 7.964e+04\n",
      "D<xarray.DataArray (time_bins: 7)>\n",
      "dask.array<truediv, shape=(7,), dtype=float64, chunksize=(1,), chunktype=numpy.ndarray>\n",
      "Coordinates:\n",
      "  * time_bins  (time_bins) float64 2.232e+04 6.696e+04 ... 2.455e+05 2.902e+05\n",
      "rat1<xarray.DataArray (time_bins: 7)>\n",
      "dask.array<mul, shape=(7,), dtype=float64, chunksize=(1,), chunktype=numpy.ndarray>\n",
      "Coordinates:\n",
      "  * time_bins  (time_bins) float64 2.232e+04 6.696e+04 ... 2.455e+05 2.902e+05\n"
     ]
    }
   ],
   "source": [
    "# kl10 vertical dissipation\n",
    "dz=200/40 #H/nz\n",
    "Dsp=np.sum(rhoNil*ds1['KLeps']*dz,axis=1)\n",
    "print(Dsp)\n",
    "vDsp=xr.DataArray(Dsp.data, coords=[ds1.time.values,yc,xc], dims=['time','YC','XC'])\n",
    "print('vDsp'+str(vDsp))\n",
    "ta_dsp=vDsp.groupby_bins('time',time_bin,labels=time_bin_labels).mean()\n",
    "print('ta_dsp'+str(ta_dsp))\n",
    "dmax=2#np.amax(Dsp.values)\n",
    "dmin=10**(-10)\n",
    "D=((ta_dsp*ds1['rA']).sel(XC=xc[(xc > xmin) & (xc < xmax)],YC=yc[(yc > ymin) & (yc < ymax)]).sum(['XC','YC'])/1e6)\n",
    "print('D'+str(D))\n",
    "\n",
    "RAT1=D/C*100\n",
    "RAT2=R/C*100\n",
    "print('rat1' +str(RAT1))"
   ]
  },
  {
   "cell_type": "code",
   "execution_count": 23,
   "metadata": {},
   "outputs": [
    {
     "name": "stderr",
     "output_type": "stream",
     "text": [
      "/home/jxchang/jupyter_py3/lib/python3.7/site-packages/dask/core.py:119: RuntimeWarning: invalid value encountered in true_divide\n",
      "  return func(*args2)\n"
     ]
    },
    {
     "data": {
      "image/png": "[encoded data removed]",
      "text/plain": [
       "<Figure size 1080x432 with 1 Axes>"
      ]
     },
     "metadata": {
      "needs_background": "light"
     },
     "output_type": "display_data"
    }
   ],
   "source": [
    "import mpl_toolkits.axisartist as AA\n",
    "f=plt.figure(figsize=(15,6))\n",
    "host=host_subplot(111,figure=f,axes_class=AA.Axes)\n",
    "ax2=host.twinx()\n",
    "par2=host.twinx()\n",
    "\n",
    "offset = 0\n",
    "new_fixed_axis = par2.get_grid_helper().new_fixed_axis\n",
    "par2.axis[\"right\"] = new_fixed_axis(loc=\"right\",axes=par2,offset=(offset, 0))\n",
    "par2.axis[\"right\"].toggle(all=True)\n",
    "\n",
    "host.set_ylim(-0.2,10)\n",
    "host.set_xlim(0,300000)\n",
    "\n",
    "host.set_ylabel(\"Energy Budget [MW]\")\n",
    "host.set_xlabel(\"time [s]\")\n",
    "par2.set_ylabel(\"Percentage [%]\") \n",
    "\n",
    "p1, = host.plot(DtdE.time_bins,DtdE,'o-',label=\"dE/dt\")\n",
    "host.plot(fxdy.time_bins,fxdy,'o-',label=r\"$\\nabla F_{bc}$\")\n",
    "host.plot(C.time_bins,C,'o-',label=\"BT-BC Conversion\")\n",
    "RL, = host.plot(R.time_bins,R,'o-',color='grey',label=r\"Res=Conv-dE/dt-$\\nabla F_{bc}$\")\n",
    "DL, = host.plot(D.time_bins,D,'o-',label=r\"Dissipation=$\\int \\rho \\varepsilon dV$\")\n",
    "host.plot(time1,np.zeros(ttlen),'k--')\n",
    "host.plot(hDsspbc.time_bins,hDsspbc,'o-',label=\"horizontal bc Dssp\")\n",
    "\n",
    "p3, = par2.plot(RAT2.time_bins,RAT2,label=\"Res/Conv\",linestyle=\"--\",color=RL.get_color())\n",
    "p2, = ax2.plot(RAT1.time_bins,RAT1,label=\"Disp/Conv\",linestyle=\"--\",color=DL.get_color())\n",
    "\n",
    "ax2.set_ylim(-5,100)\n",
    "par2.set_ylim(-5,100)\n",
    "\n",
    "host.legend()\n",
    "plt.savefig('./figs/EnergyBudget_hDssp_x27_t_tidal_p.png')\n",
    "plt.show()"
   ]
  },
  {
   "cell_type": "code",
   "execution_count": 24,
   "metadata": {},
   "outputs": [
    {
     "name": "stderr",
     "output_type": "stream",
     "text": [
      "/home/jxchang/jupyter_py3/lib/python3.7/site-packages/dask/core.py:119: RuntimeWarning: invalid value encountered in true_divide\n",
      "  return func(*args2)\n",
      "/home/jxchang/jupyter_py3/lib/python3.7/site-packages/dask/core.py:119: RuntimeWarning: invalid value encountered in true_divide\n",
      "  return func(*args2)\n",
      "/home/jxchang/jupyter_py3/lib/python3.7/site-packages/dask/core.py:119: RuntimeWarning: invalid value encountered in true_divide\n",
      "  return func(*args2)\n",
      "/home/jxchang/jupyter_py3/lib/python3.7/site-packages/dask/core.py:119: RuntimeWarning: invalid value encountered in true_divide\n",
      "  return func(*args2)\n",
      "/home/jxchang/jupyter_py3/lib/python3.7/site-packages/dask/core.py:119: RuntimeWarning: invalid value encountered in true_divide\n",
      "  return func(*args2)\n",
      "/home/jxchang/jupyter_py3/lib/python3.7/site-packages/dask/core.py:119: RuntimeWarning: invalid value encountered in true_divide\n",
      "  return func(*args2)\n",
      "/home/jxchang/jupyter_py3/lib/python3.7/site-packages/dask/core.py:119: RuntimeWarning: invalid value encountered in true_divide\n",
      "  return func(*args2)\n"
     ]
    },
    {
     "name": "stdout",
     "output_type": "stream",
     "text": [
      "+------------------+----------+----------+----------+----------+----------+----------+----------+\n",
      "|  Energy Budget   | period 1 | period 2 | period 3 | period 4 | period 5 | period 6 | period 7 |\n",
      "+==================+==========+==========+==========+==========+==========+==========+==========+\n",
      "| dE/dt            |    5.887 |    1.421 |    1.142 |    0.721 |    0.597 |    0.359 |    0.371 |\n",
      "+------------------+----------+----------+----------+----------+----------+----------+----------+\n",
      "| $\\nabla F_{bc}$  |    0.443 |    1.676 |    1.935 |    2.359 |    2.682 |    2.835 |    2.905 |\n",
      "+------------------+----------+----------+----------+----------+----------+----------+----------+\n",
      "| BT-BC conversion |    9.583 |    8.489 |    8.608 |    8.658 |    8.944 |    9.045 |    9.150 |\n",
      "+------------------+----------+----------+----------+----------+----------+----------+----------+\n",
      "| Res              |    3.253 |    5.393 |    5.532 |    5.578 |    5.665 |    5.851 |    5.874 |\n",
      "+------------------+----------+----------+----------+----------+----------+----------+----------+\n",
      "| vDissipation     |    3.741 |    3.141 |    3.024 |    3.262 |    3.417 |    3.182 |    3.546 |\n",
      "+------------------+----------+----------+----------+----------+----------+----------+----------+\n",
      "| hDissipation     |    1.319 |    1.546 |    1.644 |    1.579 |    1.520 |    1.508 |    1.503 |\n",
      "+------------------+----------+----------+----------+----------+----------+----------+----------+\n"
     ]
    }
   ],
   "source": [
    "import texttable\n",
    "table = texttable.Texttable()\n",
    "table.set_cols_dtype(['t',  # text\n",
    "                          'f',  # float (decimal)\n",
    "                          'f','f','f','f','f','f'])\n",
    "table.set_cols_align([\"l\", \"r\", \"r\", \"r\", \"r\", \"r\", \"r\", \"r\"])\n",
    "table.add_rows([[\"Energy Budget\", \"period 1\", \"period 2\", \"period 3\", \"period 4\", \"period 5\", \"period 6\", \"period 7\"],\n",
    "               [\"dE/dt\",DtdE[0].values,DtdE[1].values,DtdE[2].values,DtdE[3].values,DtdE[4].values,DtdE[5].values,DtdE[6].values],\n",
    "               [r\"$\\nabla F_{bc}$\",fxdy[0].values,fxdy[1].values,fxdy[2].values,fxdy[3].values,fxdy[4].values,fxdy[5].values,fxdy[6].values],\n",
    "               [\"BT-BC conversion\",C[0].values,C[1].values,C[2].values,C[3].values,C[4].values,C[5].values,C[6].values],\n",
    "               [\"Res\",R[0].values,R[1].values,R[2].values,R[3].values,R[4].values,R[5].values,R[6].values],\n",
    "               [\"vDissipation\",  D[0].values,D[1].values,D[2].values,D[3].values,D[4].values,D[5].values,D[6].values],\n",
    "               [\"hDissipation\", hDsspbc[0].values,hDsspbc[1].values,hDsspbc[2].values,hDsspbc[3].values,hDsspbc[4].values,hDsspbc[5].values,hDsspbc[6].values]])\n",
    "table.set_max_width(0)\n",
    "print(table.draw())"
   ]
  },
  {
   "cell_type": "code",
   "execution_count": 25,
   "metadata": {},
   "outputs": [
    {
     "name": "stdout",
     "output_type": "stream",
     "text": [
      "[3.74131057 3.14138535 3.02377535 3.26171899 3.41741416 3.18205375\n",
      " 3.54579838]\n"
     ]
    }
   ],
   "source": [
    "print(D.values)"
   ]
  },
  {
   "cell_type": "code",
   "execution_count": null,
   "metadata": {},
   "outputs": [],
   "source": []
  }
 ],
 "metadata": {
  "kernelspec": {
   "display_name": "Python 3",
   "language": "python",
   "name": "python3"
  },
  "language_info": {
   "codemirror_mode": {
    "name": "ipython",
    "version": 3
   },
   "file_extension": ".py",
   "mimetype": "text/x-python",
   "name": "python",
   "nbconvert_exporter": "python",
   "pygments_lexer": "ipython3",
   "version": "3.7.4"
  }
 },
 "nbformat": 4,
 "nbformat_minor": 2
}
