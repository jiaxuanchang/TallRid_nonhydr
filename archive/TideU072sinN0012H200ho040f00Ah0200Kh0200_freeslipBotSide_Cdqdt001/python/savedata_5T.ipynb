{
 "cells": [
  {
   "cell_type": "code",
   "execution_count": 1,
   "id": "8d545521",
   "metadata": {},
   "outputs": [],
   "source": [
    "from xmitgcm import open_mdsdataset\n",
    "import xgcm\n",
    "import os\n",
    "import pandas as pd\n",
    "import numpy as np\n",
    "import xarray as xr"
   ]
  },
  {
   "cell_type": "code",
   "execution_count": 2,
   "id": "e6b72df9",
   "metadata": {},
   "outputs": [
    {
     "name": "stdout",
     "output_type": "stream",
     "text": [
      "/scratch/jxchang/HighRes1/results/TideU008N0LinH200ho140Ah0200Cdqdt003/input/\n"
     ]
    }
   ],
   "source": [
    "currentDirectory = os.getcwd()\n",
    "data_dir = currentDirectory[:-7] + '/input/'\n",
    "print(data_dir)"
   ]
  },
  {
   "cell_type": "code",
   "execution_count": 3,
   "id": "2a557853",
   "metadata": {},
   "outputs": [
    {
     "name": "stdout",
     "output_type": "stream",
     "text": [
      "120.0\n"
     ]
    }
   ],
   "source": [
    "it=5*12.4*3600/1860\n",
    "print(it)"
   ]
  },
  {
   "cell_type": "code",
   "execution_count": 4,
   "id": "b7f1319e",
   "metadata": {},
   "outputs": [
    {
     "name": "stdout",
     "output_type": "stream",
     "text": [
      "<xarray.Dataset>\n",
      "Dimensions:   (XC: 1440, XG: 1440, YC: 120, YG: 120, Z: 40, Zl: 40, Zp1: 41, Zu: 40, time: 1)\n",
      "Coordinates:\n",
      "    iter      (time) int64 223200\n",
      "  * time      (time) timedelta64[ns] 2 days 14:00:00\n",
      "  * XC        (XC) float64 356.8 1.06e+03 1.745e+03 ... 7.894e+04 7.964e+04\n",
      "  * YC        (YC) float64 12.5 37.5 62.5 87.5 ... 2.938e+03 2.962e+03 2.988e+03\n",
      "  * XG        (XG) float64 3.411e-13 713.5 1.407e+03 ... 7.859e+04 7.929e+04\n",
      "  * YG        (YG) float64 0.0 25.0 50.0 75.0 ... 2.925e+03 2.95e+03 2.975e+03\n",
      "  * Z         (Z) float64 -2.5 -7.5 -12.5 -17.5 ... -182.5 -187.5 -192.5 -197.5\n",
      "  * Zp1       (Zp1) float64 0.0 -5.0 -10.0 -15.0 ... -185.0 -190.0 -195.0 -200.0\n",
      "  * Zu        (Zu) float64 -5.0 -10.0 -15.0 -20.0 ... -190.0 -195.0 -200.0\n",
      "  * Zl        (Zl) float64 0.0 -5.0 -10.0 -15.0 ... -180.0 -185.0 -190.0 -195.0\n",
      "    rA        (YC, XC) float64 dask.array<chunksize=(120, 1440), meta=np.ndarray>\n",
      "    dxG       (YG, XC) float64 dask.array<chunksize=(120, 1440), meta=np.ndarray>\n",
      "    dyG       (YC, XG) float64 dask.array<chunksize=(120, 1440), meta=np.ndarray>\n",
      "    Depth     (YC, XC) float64 dask.array<chunksize=(120, 1440), meta=np.ndarray>\n",
      "    rAz       (YG, XG) float64 dask.array<chunksize=(120, 1440), meta=np.ndarray>\n",
      "    dxC       (YC, XG) float64 dask.array<chunksize=(120, 1440), meta=np.ndarray>\n",
      "    dyC       (YG, XC) float64 dask.array<chunksize=(120, 1440), meta=np.ndarray>\n",
      "    rAw       (YC, XG) float64 dask.array<chunksize=(120, 1440), meta=np.ndarray>\n",
      "    rAs       (YG, XC) float64 dask.array<chunksize=(120, 1440), meta=np.ndarray>\n",
      "    drC       (Zp1) float64 2.5 5.0 5.0 5.0 5.0 5.0 ... 5.0 5.0 5.0 5.0 5.0 2.5\n",
      "    drF       (Z) float64 5.0 5.0 5.0 5.0 5.0 5.0 ... 5.0 5.0 5.0 5.0 5.0 5.0\n",
      "    PHrefC    (Z) float64 24.53 73.58 122.6 ... 1.839e+03 1.888e+03 1.937e+03\n",
      "    PHrefF    (Zp1) float64 0.0 49.05 98.1 ... 1.864e+03 1.913e+03 1.962e+03\n",
      "    hFacC     (Z, YC, XC) float64 dask.array<chunksize=(40, 120, 1440), meta=np.ndarray>\n",
      "    hFacW     (Z, YC, XG) float64 dask.array<chunksize=(40, 120, 1440), meta=np.ndarray>\n",
      "    hFacS     (Z, YG, XC) float64 dask.array<chunksize=(40, 120, 1440), meta=np.ndarray>\n",
      "    maskC     (Z, YC, XC) bool dask.array<chunksize=(40, 120, 1440), meta=np.ndarray>\n",
      "    maskW     (Z, YC, XG) bool dask.array<chunksize=(40, 120, 1440), meta=np.ndarray>\n",
      "    maskS     (Z, YG, XC) bool dask.array<chunksize=(40, 120, 1440), meta=np.ndarray>\n",
      "    maskInW   (YC, XG) bool dask.array<chunksize=(120, 1440), meta=np.ndarray>\n",
      "    maskInS   (YG, XC) bool dask.array<chunksize=(120, 1440), meta=np.ndarray>\n",
      "    rhoRef    (Z) float64 999.8 1.004e+03 1.006e+03 ... 1.008e+03 1.008e+03\n",
      "    maskInC   (YC, XC) bool dask.array<chunksize=(120, 1440), meta=np.ndarray>\n",
      "Data variables:\n",
      "    ETAN      (time, YC, XC) float64 dask.array<chunksize=(1, 120, 1440), meta=np.ndarray>\n",
      "    PHIBOT    (time, YC, XC) float64 dask.array<chunksize=(1, 120, 1440), meta=np.ndarray>\n",
      "    UVEL      (time, Z, YC, XG) float64 dask.array<chunksize=(1, 40, 120, 1440), meta=np.ndarray>\n",
      "    VVEL      (time, Z, YG, XC) float64 dask.array<chunksize=(1, 40, 120, 1440), meta=np.ndarray>\n",
      "    WVEL      (time, Zl, YC, XC) float64 dask.array<chunksize=(1, 40, 120, 1440), meta=np.ndarray>\n",
      "    THETA     (time, Z, YC, XC) float64 dask.array<chunksize=(1, 40, 120, 1440), meta=np.ndarray>\n",
      "    SALT      (time, Z, YC, XC) float64 dask.array<chunksize=(1, 40, 120, 1440), meta=np.ndarray>\n",
      "    PHIHYD    (time, Z, YC, XC) float64 dask.array<chunksize=(1, 40, 120, 1440), meta=np.ndarray>\n",
      "    KLviscAr  (time, Zl, YC, XC) float64 dask.array<chunksize=(1, 40, 120, 1440), meta=np.ndarray>\n",
      "    KLdiffKr  (time, Zl, YC, XC) float64 dask.array<chunksize=(1, 40, 120, 1440), meta=np.ndarray>\n",
      "    KLeps     (time, Zl, YC, XC) float64 dask.array<chunksize=(1, 40, 120, 1440), meta=np.ndarray>\n",
      "Attributes:\n",
      "    Conventions:  CF-1.6\n",
      "    title:        netCDF wrapper of MITgcm MDS binary data\n",
      "    source:       MITgcm\n",
      "    history:      Created by calling `open_mdsdataset(grid_dir=None, iters=22...\n"
     ]
    }
   ],
   "source": [
    "ds1 = open_mdsdataset(data_dir, geometry='cartesian',endian='<',prefix=['statevars','statevars2d'],iters=it*1860)\n",
    "print(ds1)"
   ]
  },
  {
   "cell_type": "code",
   "execution_count": 5,
   "id": "d5a07c15",
   "metadata": {},
   "outputs": [],
   "source": [
    "xg=ds1.XG.values\n",
    "xc=ds1.XC.values\n",
    "yg=ds1.YG.values\n",
    "yc=ds1.YC.values\n",
    "z=ds1.Z.values"
   ]
  },
  {
   "cell_type": "code",
   "execution_count": 6,
   "id": "4f63b97a",
   "metadata": {},
   "outputs": [],
   "source": [
    "UVEL=ds1.UVEL.values\n",
    "VVEL=ds1.VVEL.values\n",
    "THETA=ds1.THETA.values\n",
    "ETAN=ds1.ETAN.values"
   ]
  },
  {
   "cell_type": "code",
   "execution_count": 7,
   "id": "81c0d681",
   "metadata": {},
   "outputs": [
    {
     "name": "stdout",
     "output_type": "stream",
     "text": [
      "(40, 120, 1440)\n"
     ]
    }
   ],
   "source": [
    "print(np.shape(np.squeeze(UVEL)))"
   ]
  },
  {
   "cell_type": "code",
   "execution_count": 8,
   "id": "43f2eb7e",
   "metadata": {},
   "outputs": [],
   "source": [
    "ds = xr.Dataset( {\"UVEL\": (((\"z\", \"yc\", \"xg\")),np.squeeze(UVEL)),\"VVEL\": (((\"z\", \"yg\", \"xc\")),np.squeeze(VVEL)),\n",
    "                  \"THETA\": (((\"z\", \"yc\", \"xc\")),np.squeeze(THETA)),\"ETAN\": ((\"yc\", \"xc\"),np.squeeze(ETAN))},\n",
    "   coords={\"xg\": xg, \"xc\": xc, \"yg\": yg, \"yc\": yc, \"z\": z },)"
   ]
  },
  {
   "cell_type": "code",
   "execution_count": 9,
   "id": "ae89ae84",
   "metadata": {},
   "outputs": [],
   "source": [
    "df = ds.UVEL.to_dataframe()\n",
    "df.to_csv(\"U_5T.csv\")"
   ]
  },
  {
   "cell_type": "code",
   "execution_count": 10,
   "id": "585036f9",
   "metadata": {},
   "outputs": [],
   "source": [
    "df = ds.VVEL.to_dataframe()\n",
    "df.to_csv(\"V_5T.csv\")"
   ]
  },
  {
   "cell_type": "code",
   "execution_count": 11,
   "id": "308916c1",
   "metadata": {},
   "outputs": [],
   "source": [
    "df = ds1.THETA.to_dataframe()\n",
    "df.to_csv(\"T_5T.csv\")"
   ]
  },
  {
   "cell_type": "code",
   "execution_count": 12,
   "id": "56fe39b7",
   "metadata": {},
   "outputs": [],
   "source": [
    "df = ds1.ETAN.to_dataframe()\n",
    "df.to_csv(\"Eta_5T.csv\")"
   ]
  },
  {
   "cell_type": "code",
   "execution_count": 13,
   "id": "ca6aa323",
   "metadata": {},
   "outputs": [
    {
     "name": "stdout",
     "output_type": "stream",
     "text": [
      "             z      yg            xc  VVEL\n",
      "0         -2.5     0.0    356.770705   0.0\n",
      "1         -2.5     0.0   1060.486058   0.0\n",
      "2         -2.5     0.0   1744.819925   0.0\n",
      "3         -2.5     0.0   2410.306103   0.0\n",
      "4         -2.5     0.0   3057.463690   0.0\n",
      "...        ...     ...           ...   ...\n",
      "6911995 -197.5  2975.0  76942.536310   0.0\n",
      "6911996 -197.5  2975.0  77589.693897   0.0\n",
      "6911997 -197.5  2975.0  78255.180075   0.0\n",
      "6911998 -197.5  2975.0  78939.513942   0.0\n",
      "6911999 -197.5  2975.0  79643.229295   0.0\n",
      "\n",
      "[6912000 rows x 4 columns]\n"
     ]
    }
   ],
   "source": [
    "read_df=pd.read_csv(\"V_5T.csv\")\n",
    "print(read_df)"
   ]
  },
  {
   "cell_type": "code",
   "execution_count": 14,
   "id": "628b0b82",
   "metadata": {},
   "outputs": [
    {
     "name": "stdout",
     "output_type": "stream",
     "text": [
      "(6912000,)\n"
     ]
    }
   ],
   "source": [
    "print(read_df.VVEL.shape)"
   ]
  },
  {
   "cell_type": "code",
   "execution_count": 15,
   "id": "1199f0cf",
   "metadata": {},
   "outputs": [],
   "source": [
    "new_V=np.reshape(read_df.VVEL.to_numpy(),((40,120,1440)))"
   ]
  },
  {
   "cell_type": "code",
   "execution_count": 16,
   "id": "37a952a0",
   "metadata": {},
   "outputs": [
    {
     "name": "stdout",
     "output_type": "stream",
     "text": [
      "[ 0.03240573  0.12425452 -0.02202224  0.06711838  0.02242746  0.1896931\n",
      "  0.01392506 -0.15638679  0.08733358  0.0270552  -0.00615266 -0.07078879\n",
      "  0.1204062  -0.01375281  0.15579798  0.06119084  0.08953059  0.0570411\n",
      "  0.          0.          0.          0.          0.          0.\n",
      "  0.          0.          0.          0.          0.          0.\n",
      "  0.          0.          0.          0.          0.          0.\n",
      "  0.          0.          0.          0.        ]\n"
     ]
    }
   ],
   "source": [
    "print(new_V[:,50,700])"
   ]
  },
  {
   "cell_type": "code",
   "execution_count": 17,
   "id": "27e7622b",
   "metadata": {},
   "outputs": [
    {
     "name": "stdout",
     "output_type": "stream",
     "text": [
      "[[ 0.03240573  0.12425452 -0.02202224  0.06711838  0.02242746  0.1896931\n",
      "   0.01392506 -0.15638679  0.08733358  0.0270552  -0.00615266 -0.07078879\n",
      "   0.1204062  -0.01375281  0.15579798  0.06119084  0.08953059  0.0570411\n",
      "   0.          0.          0.          0.          0.          0.\n",
      "   0.          0.          0.          0.          0.          0.\n",
      "   0.          0.          0.          0.          0.          0.\n",
      "   0.          0.          0.          0.        ]]\n"
     ]
    }
   ],
   "source": [
    "print(ds1.VVEL.isel(YG=50,XC=700).values)"
   ]
  },
  {
   "cell_type": "code",
   "execution_count": null,
   "id": "859f5859",
   "metadata": {},
   "outputs": [],
   "source": []
  }
 ],
 "metadata": {
  "kernelspec": {
   "display_name": "Python 3",
   "language": "python",
   "name": "python3"
  },
  "language_info": {
   "codemirror_mode": {
    "name": "ipython",
    "version": 3
   },
   "file_extension": ".py",
   "mimetype": "text/x-python",
   "name": "python",
   "nbconvert_exporter": "python",
   "pygments_lexer": "ipython3",
   "version": "3.7.7"
  }
 },
 "nbformat": 4,
 "nbformat_minor": 5
}
