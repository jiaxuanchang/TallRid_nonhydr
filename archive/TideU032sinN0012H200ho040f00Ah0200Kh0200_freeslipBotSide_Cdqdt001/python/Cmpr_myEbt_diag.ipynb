{
 "cells": [
  {
   "cell_type": "code",
   "execution_count": 1,
   "id": "3a54e02b",
   "metadata": {},
   "outputs": [
    {
     "name": "stdout",
     "output_type": "stream",
     "text": [
      "140161024\n"
     ]
    }
   ],
   "source": [
    "# %load cal_myEnergyBudget.py\n",
    "from xmitgcm import open_mdsdataset\n",
    "import xgcm\n",
    "import os\n",
    "import matplotlib.pyplot as plt\n",
    "import matplotlib.colors as colors\n",
    "from matplotlib import cm\n",
    "import pandas as pd\n",
    "import numpy as np\n",
    "import math\n",
    "from scipy import integrate\n",
    "import xarray as xr\n",
    "import string\n",
    "\n",
    "import os, psutil\n",
    "process = psutil.Process(os.getpid())\n",
    "print(process.memory_info().rss) "
   ]
  },
  {
   "cell_type": "code",
   "execution_count": 2,
   "id": "9123509b",
   "metadata": {},
   "outputs": [
    {
     "name": "stdout",
     "output_type": "stream",
     "text": [
      "/scratch/jxchang/HighRes1/results/TideU008N0LinH200ho140Ah0200Cdqdt003/input/\n"
     ]
    }
   ],
   "source": [
    "currentDirectory = os.getcwd()\n",
    "data_dir = currentDirectory[:-7] + '/input/'\n",
    "print(data_dir)"
   ]
  },
  {
   "cell_type": "code",
   "execution_count": 3,
   "id": "b0b6348b",
   "metadata": {},
   "outputs": [
    {
     "name": "stdout",
     "output_type": "stream",
     "text": [
      "<xgcm.Grid>\n",
      "T Axis (not periodic, boundary=None):\n",
      "  * center   time\n",
      "X Axis (not periodic, boundary=None):\n",
      "  * center   XC --> left\n",
      "  * left     XG --> center\n",
      "Z Axis (not periodic, boundary=None):\n",
      "  * center   Z --> left\n",
      "  * left     Zl --> center\n",
      "  * outer    Zp1 --> center\n",
      "  * right    Zu --> center\n",
      "Y Axis (not periodic, boundary=None):\n",
      "  * center   YC --> left\n",
      "  * left     YG --> center\n"
     ]
    }
   ],
   "source": [
    "ds1 = open_mdsdataset(data_dir, geometry='cartesian', endian='<',prefix=['energyvars','statevars','statevars2d'])\n",
    "ds2 = open_mdsdataset(data_dir, geometry='cartesian', endian='<',prefix=['energymvars'])\n",
    "t = 0\n",
    "grid = xgcm.Grid(ds1, periodic=False)\n",
    "print(grid)"
   ]
  },
  {
   "cell_type": "code",
   "execution_count": 4,
   "id": "1b0aeb78",
   "metadata": {},
   "outputs": [
    {
     "name": "stdout",
     "output_type": "stream",
     "text": [
      "refTemp=63.59230581861823\n",
      "tRef=[63.59230582 40.69584406 33.47293155 31.54712706 29.26896757 28.65696899\n",
      " 28.23721628 27.65390158 27.08300659 26.5118492  25.90295299 25.69407634\n",
      " 25.29910279 24.81832859 24.41499174 24.26210069 24.21619203 24.14261024\n",
      " 24.0996551  24.02495734 23.98958682 23.95165181 23.93411373 23.9224752\n",
      " 23.91844136 23.91059116 23.87093593 23.86487752 23.86221099 23.85790713\n",
      " 23.84947122 23.84359894 23.82719386 23.81078878 23.79438371 23.77797863\n",
      " 23.76157355 23.74516847 23.72876339 23.71235831]\n"
     ]
    }
   ],
   "source": [
    "f0 = 1.e-4\n",
    "g = 9.8\n",
    "rhoNil=999.8\n",
    "rhoConst=rhoNil\n",
    "\n",
    "om=2*np.pi/12.4/3600\n",
    "alpha = 2e-4\n",
    "beta = 0e-4\n",
    "nz = 200\n",
    "#dz=H/nz \n",
    "\n",
    "tR_fname=\"../indata/TRef.bin\"\n",
    "tRef = np.fromfile(tR_fname)\n",
    "refSalt=35.\n",
    "refTemp=tRef[0]\n",
    "print('refTemp='+ str(refTemp))\n",
    "print('tRef='+ str(tRef))\n",
    "\n",
    "rho2=rhoNil*(1-(alpha*(tRef-refTemp)))\n",
    "rhoS=np.roll(rho2,1)\n",
    "N2=g/rhoNil*(rho2-rhoS)/ds1['drF'].values\n",
    "#print('N2='+str(N2))\n",
    "\n",
    "N2[0]=g/rhoNil*(rhoS[0]-rho2[0])/ds1['drF'][0]\n",
    "#print(N2)"
   ]
  },
  {
   "cell_type": "code",
   "execution_count": 5,
   "id": "746f5709",
   "metadata": {},
   "outputs": [
    {
     "name": "stdout",
     "output_type": "stream",
     "text": [
      "the length of time:173\n"
     ]
    }
   ],
   "source": [
    "xmin = 34000\n",
    "xmax = 50000\n",
    "numcolt=21\n",
    "numcolv=21\n",
    "                                        \n",
    "ttlen=len(ds1.time)\n",
    "print('the length of time:' + str(ttlen) )\n",
    "\n",
    "time1=ds1.coords['time']\n",
    "time2=ds2.coords['time']\n",
    "xc=ds1.coords['XC']\n",
    "xg=ds1.coords['XG']\n",
    "yc=ds1.coords['YC']\n",
    "yg=ds1.coords['YG']\n",
    "z=ds1.coords['Z']"
   ]
  },
  {
   "cell_type": "code",
   "execution_count": 6,
   "id": "65f8c3e3",
   "metadata": {},
   "outputs": [
    {
     "name": "stderr",
     "output_type": "stream",
     "text": [
      "/home/jxchang/jupyter_py3.7/lib/python3.7/site-packages/xarray/core/dataarray.py:3128: FutureWarning: roll_coords will be set to False in the future. Explicitly set roll_coords to silence warning.\n",
      "  shifts=shifts, roll_coords=roll_coords, **shifts_kwargs\n"
     ]
    },
    {
     "name": "stdout",
     "output_type": "stream",
     "text": [
      "PW=[0.15596013 0.41172682 0.59362574 0.75308743 0.90223891 1.04430227\n",
      " 1.18383525 1.32090822 1.45515049 1.58659187 1.71513917 1.84168089\n",
      " 1.96674166 2.08965466 2.21039938 2.32977995 2.44867296 2.56727292\n",
      " 2.68558708 2.80361269 2.92136836 3.03894425 3.15638409 3.27375237\n",
      " 3.39108222 3.50838292 3.62556712 3.7426392  3.85968989 3.97672348\n",
      " 4.09372582 4.21069308 4.32760569 4.44443785 4.56118953 4.67786075\n",
      " 4.7944515  4.91096179 5.02739161 5.14374096]\n"
     ]
    }
   ],
   "source": [
    "# calculate each face of pressure, velocity\n",
    "PS = 0.5*(ds1['PHIHYD'].roll(YC=1).values+ds1['PHIHYD'].values) \n",
    "PW = 0.5*(ds1['PHIHYD'].roll(XC=1).values+ds1['PHIHYD'].values)\n",
    "\n",
    "#print(np.shape(PS))\n",
    "#print('PHIHYD=' + str(ds1['PHIHYD'].isel(YC=0,time=100,Z=2).values))\n",
    "#print('PS='+ str(PS[100,2,0,:]))\n",
    "print('PW='+ str(PW[100,:,0,1]))\n",
    "#print(ds1['PHIHYD'].roll(XC=1)+ds1['PHIHYD'])\n",
    "#print(ds1['PHIHYD'].roll(XC=1).values[100,2,0,:])\n",
    "#print(ds1['PHIHYD'].values[100,2,0,:])\n",
    "\n",
    "#when use interp-> can't with .values???  can't work\n",
    "#US=xr.DataArray(ds1['UVEL'].interp(XG=xc,YC=yg,kwargs={'fill_value':'extrapolate'}).data,coords=[time1,z,yg,xc],dims=['time','Z','YG','XC'])\n",
    "#print(US.values)\n",
    "#VW=(ds1['VVEL'].interp(XC=xg,YG=yc, kwargs={'fill_value': 'None'})).values()\n",
    "\n",
    "# this US.VW.UC.VC only correct in 2d cases\n",
    "US=0.5*(ds1['UVEL'].roll(XG=-1).values+ds1['UVEL'].values)\n",
    "VW=0.5*(ds1['VVEL'].roll(XC=1).values+ds1['VVEL'].values) #VW(when X=0, incorrec\n",
    "UC=US\n",
    "VC=ds1['VVEL'].values\n",
    "\n",
    "#print('U:' + str(ds1['UVEL'].isel(YC=0,time=100,Z=2).values))\n",
    "#print('US:' +str(US[100,2,0,:]))\n",
    "#print('V:' +str(ds1['VVEL'].isel(YG=0,time=100,Z=2).values))\n",
    "#print('VW:' + str(VW[100,2,0,:]))"
   ]
  },
  {
   "cell_type": "code",
   "execution_count": 7,
   "id": "18c96856",
   "metadata": {},
   "outputs": [
    {
     "name": "stdout",
     "output_type": "stream",
     "text": [
      "-0.5494121327512058\n",
      "-0.08599399966863819\n",
      "-0.6231909169173049\n"
     ]
    }
   ],
   "source": [
    "# depth mean pressure\n",
    "P0S=np.sum(PS*(ds1['drF']*ds1['hFacS']).values,axis=1)\n",
    "P0W=np.sum(PW*(ds1['drF']*ds1['hFacW']).values,axis=1)\n",
    "P0C=np.sum((ds1['PHIHYD']*ds1['drF']*ds1['hFacC']).values,axis=1)\n",
    "#print('P0W=' +str(P0W[100,0,:]))\n",
    "#print(np.shape(P0W))\n",
    "print(P0S[100,50,721])\n",
    "print(P0W[100,50,721])\n",
    "print(P0C[100,50,721])"
   ]
  },
  {
   "cell_type": "code",
   "execution_count": 8,
   "id": "1829990c",
   "metadata": {},
   "outputs": [
    {
     "name": "stdout",
     "output_type": "stream",
     "text": [
      "28.22141213435691\n"
     ]
    }
   ],
   "source": [
    "# depth mean velocity\n",
    "U0W=((ds1['UVEL']*ds1['drF']*ds1['hFacW']).sum('Z')).values\n",
    "U0S= np.sum(US*(ds1['drF']*ds1['hFacS']).values,axis=1)\n",
    "U0C= np.sum(UC*(ds1['drF']*ds1['hFacS']).values,axis=1)\n",
    "V0W= np.sum(VW*(ds1['drF']*ds1['hFacW']).values,axis=1)\n",
    "V0S=((ds1['VVEL']*ds1['drF']*ds1['hFacS']).sum('Z')).values\n",
    "V0C= np.sum(UC*(ds1['drF']*ds1['hFacS']).values,axis=1)\n",
    "#print(np.shape(U0W))\n",
    "#print(np.shape(U0S))\n",
    "print(U0C[100,50,721])"
   ]
  },
  {
   "cell_type": "code",
   "execution_count": 9,
   "id": "3ea8ef6c",
   "metadata": {},
   "outputs": [
    {
     "name": "stdout",
     "output_type": "stream",
     "text": [
      "(173, 120, 1440)\n",
      "(173, 120, 1440)\n"
     ]
    }
   ],
   "source": [
    "print(np.shape(U0W))\n",
    "print(np.shape(U0S))"
   ]
  },
  {
   "cell_type": "code",
   "execution_count": 10,
   "id": "82e30fa2",
   "metadata": {},
   "outputs": [
    {
     "name": "stdout",
     "output_type": "stream",
     "text": [
      "27.19583273407303\n",
      "28.22141213435691\n"
     ]
    }
   ],
   "source": [
    "print(U0W[100,50,721])\n",
    "print(U0S[100,50,721])"
   ]
  },
  {
   "cell_type": "code",
   "execution_count": 11,
   "id": "8911da30",
   "metadata": {},
   "outputs": [
    {
     "name": "stdout",
     "output_type": "stream",
     "text": [
      "(120, 1440)\n",
      "56.17708333333334\n",
      "56.09375\n",
      "55.5\n"
     ]
    }
   ],
   "source": [
    "# depth\n",
    "ZW=((ds1['drF']*ds1['hFacW']).sum('Z')).values\n",
    "ZS=((ds1['drF']*ds1['hFacS']).sum('Z')).values\n",
    "ZC=((ds1['drF']*ds1['hFacC']).sum('Z')).values\n",
    "print(np.shape(ZW))\n",
    "#print('ZW=' +str(ZW[0,:]))\n",
    "print(ZC[50,721])\n",
    "print(ZW[50,721])\n",
    "print(ZS[50,721])"
   ]
  },
  {
   "cell_type": "code",
   "execution_count": 12,
   "id": "0afde8a2",
   "metadata": {},
   "outputs": [],
   "source": [
    "# divide depth\n",
    "for j in range(len(yc)):\n",
    "    for i in range(len(xc)):\n",
    "        if ZW[j,i]!=0:\n",
    "            P0W[:,j,i]=P0W[:,j,i]/ZW[j,i]\n",
    "        else:\n",
    "            P0W[:,j,i]=0\n",
    "\n",
    "    #print(P0W[100,0,:])\n",
    "\n",
    "    for i in range(len(xc)):\n",
    "        if ZS[j,i]!=0:\n",
    "            P0S[:,j,i]=P0S[:,j,i]/ZS[j,i]\n",
    "        else:\n",
    "            P0S[:,j,i]=0\n",
    "            \n",
    "    for i in range(len(xc)):\n",
    "        if ZC[j,i]!=0:\n",
    "            P0C[:,j,i]=P0C[:,j,i]/ZC[j,i]\n",
    "        else:\n",
    "            P0C[:,j,i]=0\n",
    "    #print(P0S[100,0,:])\n",
    "    #print(U0W[100,0,:])\n"
   ]
  },
  {
   "cell_type": "code",
   "execution_count": 13,
   "id": "779469c5",
   "metadata": {},
   "outputs": [
    {
     "name": "stdout",
     "output_type": "stream",
     "text": [
      "-0.011093329876517942\n",
      "-0.001533040662616391\n",
      "-0.009899317707228933\n"
     ]
    }
   ],
   "source": [
    "print(P0C[100,50,721])\n",
    "print(P0W[100,50,721])\n",
    "print(P0S[100,50,721])"
   ]
  },
  {
   "cell_type": "code",
   "execution_count": 14,
   "id": "73c98d35",
   "metadata": {},
   "outputs": [
    {
     "name": "stderr",
     "output_type": "stream",
     "text": [
      "/home/jxchang/jupyter_py3.7/lib/python3.7/site-packages/ipykernel_launcher.py:12: RuntimeWarning: invalid value encountered in true_divide\n",
      "  if sys.path[0] == '':\n",
      "/home/jxchang/jupyter_py3.7/lib/python3.7/site-packages/ipykernel_launcher.py:13: RuntimeWarning: invalid value encountered in true_divide\n",
      "  del sys.path[0]\n"
     ]
    }
   ],
   "source": [
    "for j in range(len(yc)):\n",
    "    for i in range(len(xc)):\n",
    "        if ZW[j,i]!=0:\n",
    "            U0W[:,j,i]=U0W[:,j,i]/ZW[j,i]\n",
    "            V0W[:,j,i]=V0W[:,j,i]/ZW[j,i]\n",
    "        else:\n",
    "            U0W[:,j,i]=j\n",
    "            V0W[:,j,i]=j\n",
    "\n",
    "    for i in range(len(xc)):\n",
    "        if ZS[j,i]!=j:\n",
    "            U0S[:,j,i]=U0S[:,j,i]/ZS[j,i]\n",
    "            V0S[:,j,i]=V0S[:,j,i]/ZS[j,i]\n",
    "        else:\n",
    "            U0S[:,j,i]=j\n",
    "            V0S[:,j,i]=j\n",
    "\n",
    "    for i in range(len(xc)):\n",
    "        if ZC[j,i]!=0:\n",
    "            U0C[:,j,i]=U0C[:,j,i]/ZC[j,i]\n",
    "            V0C[:,j,i]=V0C[:,j,i]/ZC[j,i]\n",
    "        else:\n",
    "            U0C[:,j,i]=0\n",
    "            V0C[:,j,i]=0\n",
    "    #SIZE OF DEPTH MEAN VARIABLE:(TIME,Y,X)\n",
    "    "
   ]
  },
  {
   "cell_type": "code",
   "execution_count": 15,
   "id": "cdc2cea0",
   "metadata": {},
   "outputs": [
    {
     "name": "stdout",
     "output_type": "stream",
     "text": [
      "0.5023652076577532\n",
      "0.484828215872054\n",
      "0.5084939123307551\n"
     ]
    }
   ],
   "source": [
    "print(U0C[100,50,721])\n",
    "print(U0W[100,50,721])\n",
    "print(U0S[100,50,721])"
   ]
  },
  {
   "cell_type": "code",
   "execution_count": 16,
   "id": "4da2ce29",
   "metadata": {},
   "outputs": [
    {
     "data": {
      "text/plain": [
       "<matplotlib.collections.QuadMesh at 0x2afbbac13150>"
      ]
     },
     "execution_count": 16,
     "metadata": {},
     "output_type": "execute_result"
    },
    {
     "data": {
      "image/png": "[encoded data removed]",
      "text/plain": [
       "<Figure size 432x288 with 2 Axes>"
      ]
     },
     "metadata": {
      "needs_background": "light"
     },
     "output_type": "display_data"
    }
   ],
   "source": [
    "ds1['UVEL'].isel(time=100,YC=50).plot()"
   ]
  },
  {
   "cell_type": "code",
   "execution_count": 17,
   "id": "5b3a3bc6",
   "metadata": {},
   "outputs": [],
   "source": [
    "ds1['PS']=xr.DataArray(PS,coords=[time1,z,yg,xc],dims=['time','Z','YG','XC'])\n",
    "ds1['PW']=xr.DataArray(PW,coords=[time1,z,yc,xg],dims=['time','Z','YC','XG'])\n",
    "ds1['P0S']=xr.DataArray(P0S,coords=[time1,yg,xc],dims=['time','YG','XC'])\n",
    "ds1['P0W']=xr.DataArray(P0W,coords=[time1,yc,xg],dims=['time','YC','XG'])\n"
   ]
  },
  {
   "cell_type": "code",
   "execution_count": 18,
   "id": "e2e9f460",
   "metadata": {},
   "outputs": [],
   "source": [
    "ds1['U0S']=xr.DataArray(U0S,coords=[time1,yg,xc],dims=['time','YG','XC'])\n",
    "ds1['U0W']=xr.DataArray(U0W,coords=[time1,yc,xg],dims=['time','YC','XG'])\n",
    "ds1['U0C']=xr.DataArray(U0C,coords=[time1,yc,xc],dims=['time','YC','XC'])\n",
    "ds1['V0S']=xr.DataArray(V0S,coords=[time1,yg,xc],dims=['time','YG','XC'])\n",
    "ds1['V0W']=xr.DataArray(V0W,coords=[time1,yc,xg],dims=['time','YC','XG'])\n",
    "ds1['V0C']=xr.DataArray(V0C,coords=[time1,yc,xc],dims=['time','YC','XC'])\n",
    "\n",
    "ds1['US']=xr.DataArray(US,coords=[time1,z,yg,xc],dims=['time','Z','YG','XC'])\n",
    "ds1['UC']=xr.DataArray(UC,coords=[time1,z,yc,xc],dims=['time','Z','YC','XC'])\n",
    "ds1['VW']=xr.DataArray(VW,coords=[time1,z,yc,xg],dims=['time','Z','YC','XG'])\n",
    "ds1['VC']=xr.DataArray(VC,coords=[time1,z,yc,xc],dims=['time','Z','YC','XC'])"
   ]
  },
  {
   "cell_type": "code",
   "execution_count": 19,
   "id": "e2fac090",
   "metadata": {},
   "outputs": [
    {
     "data": {
      "text/plain": [
       "[<matplotlib.lines.Line2D at 0x2afbbcd85750>]"
      ]
     },
     "execution_count": 19,
     "metadata": {},
     "output_type": "execute_result"
    },
    {
     "data": {
      "image/png": "[encoded data removed]",
      "text/plain": [
       "<Figure size 432x288 with 1 Axes>"
      ]
     },
     "metadata": {
      "needs_background": "light"
     },
     "output_type": "display_data"
    }
   ],
   "source": [
    "ds1.U0W.isel(time=100,YC=50).plot()"
   ]
  },
  {
   "cell_type": "code",
   "execution_count": 20,
   "id": "d09c2cd0",
   "metadata": {},
   "outputs": [
    {
     "name": "stdout",
     "output_type": "stream",
     "text": [
      "0.484828215872054\n",
      "0.5023652076577532\n",
      "0.5084939123307551\n"
     ]
    }
   ],
   "source": [
    "print(ds1['U0W'].isel(time=100,YC=50,XG=721).values)\n",
    "print(ds1['U0C'].isel(time=100,YC=50,XC=721).values)\n",
    "print(ds1['U0S'].isel(time=100,YG=50,XC=721).values)"
   ]
  },
  {
   "cell_type": "code",
   "execution_count": 21,
   "id": "160216d4",
   "metadata": {},
   "outputs": [
    {
     "name": "stdout",
     "output_type": "stream",
     "text": [
      "56.17708333333334\n"
     ]
    }
   ],
   "source": [
    "ZC=((ds1['drF']*ds1['hFacC']).sum('Z'))\n",
    "print(ZC.isel(YC=50,XC=721).values)"
   ]
  },
  {
   "cell_type": "code",
   "execution_count": 22,
   "id": "118d038d",
   "metadata": {},
   "outputs": [
    {
     "name": "stdout",
     "output_type": "stream",
     "text": [
      "[0.28597445 0.1533154  0.30246629 0.01491432 0.43513472 0.51750795\n",
      " 0.68258116 0.77568097 0.85019086 0.85217674 0.71360493 0.60734648\n",
      " 0.         0.         0.         0.         0.         0.\n",
      " 0.         0.         0.         0.         0.         0.\n",
      " 0.         0.         0.         0.         0.         0.\n",
      " 0.         0.         0.         0.         0.         0.\n",
      " 0.         0.         0.         0.        ]\n",
      "[0.21536456 0.20103094 0.29822437 0.09043017 0.37032129 0.44957029\n",
      " 0.66101619 0.63613057 0.82303607 0.89795796 0.70643262 0.40983547\n",
      " 0.         0.         0.         0.         0.         0.\n",
      " 0.         0.         0.         0.         0.         0.\n",
      " 0.         0.         0.         0.         0.         0.\n",
      " 0.         0.         0.         0.         0.         0.\n",
      " 0.         0.         0.         0.        ]\n"
     ]
    }
   ],
   "source": [
    "print(ds1['UC'].isel(time=100,YC=50,XC=721).values)\n",
    "print(ds1['UVEL'].isel(time=100,YC=50,XG=721).values)"
   ]
  },
  {
   "cell_type": "code",
   "execution_count": 23,
   "id": "801829fe",
   "metadata": {},
   "outputs": [
    {
     "name": "stdout",
     "output_type": "stream",
     "text": [
      "-0.001533040662616391\n",
      "-0.009899317707228933\n",
      "0.4445046999314895\n",
      "-0.6231909169173049\n",
      "-0.9915097310620161\n"
     ]
    }
   ],
   "source": [
    "print(ds1['P0W'].isel(time=100,YC=50,XG=721).values)\n",
    "print(ds1['P0S'].isel(time=100,YG=50,XC=721).values)\n",
    "print((ds1['PHIHYD']*ds1['drF']*ds1['hFacC']).sum('Z').isel(time=100,YC=50,XC=720).values)\n",
    "print((ds1['PHIHYD']*ds1['drF']*ds1['hFacC']).sum('Z').isel(time=100,YC=50,XC=721).values)\n",
    "print((ds1['PHIHYD']*ds1['drF']*ds1['hFacC']).sum('Z').isel(time=100,YC=50,XC=722).values)"
   ]
  },
  {
   "cell_type": "code",
   "execution_count": 24,
   "id": "3817b3b7",
   "metadata": {},
   "outputs": [
    {
     "name": "stdout",
     "output_type": "stream",
     "text": [
      "50475274240\n"
     ]
    }
   ],
   "source": [
    "# barotropic kinetic energy\n",
    "ds1['EkC'] = 0.5*((ds1['U0C']*ds1['U0C']+ds1['V0C']*ds1['V0C'] )*ds1['maskC']) # (5.44) or (5.49)\n",
    "\n",
    "process = psutil.Process(os.getpid())\n",
    "print(process.memory_info().rss) "
   ]
  },
  {
   "cell_type": "code",
   "execution_count": 25,
   "id": "cd9c7314",
   "metadata": {},
   "outputs": [
    {
     "name": "stdout",
     "output_type": "stream",
     "text": [
      "50475274240\n"
     ]
    }
   ],
   "source": [
    "# barotropic potential energy\n",
    "ds1['Ep0'] = 0.5*ds1.ETAN*ds1.ETAN*g\n",
    "\n",
    "process = psutil.Process(os.getpid())\n",
    "print(process.memory_info().rss) "
   ]
  },
  {
   "cell_type": "code",
   "execution_count": 26,
   "id": "727859d4",
   "metadata": {},
   "outputs": [
    {
     "name": "stdout",
     "output_type": "stream",
     "text": [
      "50475229184\n"
     ]
    }
   ],
   "source": [
    "# total barotropic energy\n",
    "ds1['Ebt']=ds1.EkC+ds1.Ep0\n",
    "\n",
    "process = psutil.Process(os.getpid())\n",
    "print(process.memory_info().rss) \n",
    "\n",
    "#print(Ep[100,:,0,198].values)\n",
    "#print(myEbc[100,:,0,198].values)"
   ]
  },
  {
   "cell_type": "code",
   "execution_count": 27,
   "id": "5cf1f7b6",
   "metadata": {},
   "outputs": [
    {
     "name": "stdout",
     "output_type": "stream",
     "text": [
      "<xarray.DataArray 'Ebt' (time: 173, YC: 120, XC: 1440, Z: 40)>\n",
      "dask.array<add, shape=(173, 120, 1440, 40), dtype=float64, chunksize=(1, 120, 1440, 40), chunktype=numpy.ndarray>\n",
      "Coordinates:\n",
      "  * XC       (XC) float64 356.8 1.06e+03 1.745e+03 ... 7.894e+04 7.964e+04\n",
      "  * YC       (YC) float64 12.5 37.5 62.5 87.5 ... 2.938e+03 2.962e+03 2.988e+03\n",
      "  * Z        (Z) float64 -2.5 -7.5 -12.5 -17.5 ... -182.5 -187.5 -192.5 -197.5\n",
      "    rA       (YC, XC) float64 dask.array<chunksize=(120, 1440), meta=np.ndarray>\n",
      "    Depth    (YC, XC) float64 dask.array<chunksize=(120, 1440), meta=np.ndarray>\n",
      "    drF      (Z) float64 dask.array<chunksize=(40,), meta=np.ndarray>\n",
      "    PHrefC   (Z) float64 dask.array<chunksize=(40,), meta=np.ndarray>\n",
      "    hFacC    (Z, YC, XC) float64 dask.array<chunksize=(40, 120, 1440), meta=np.ndarray>\n",
      "    maskC    (Z, YC, XC) bool dask.array<chunksize=(40, 120, 1440), meta=np.ndarray>\n",
      "    rhoRef   (Z) float64 dask.array<chunksize=(40,), meta=np.ndarray>\n",
      "    maskInC  (YC, XC) bool dask.array<chunksize=(120, 1440), meta=np.ndarray>\n",
      "    iter     (time) int64 dask.array<chunksize=(1,), meta=np.ndarray>\n",
      "  * time     (time) timedelta64[ns] 00:00:00 00:31:00 ... 3 days 16:52:00\n"
     ]
    }
   ],
   "source": [
    "print(ds1.Ebt)"
   ]
  },
  {
   "cell_type": "code",
   "execution_count": 28,
   "id": "59ed701a",
   "metadata": {},
   "outputs": [
    {
     "name": "stdout",
     "output_type": "stream",
     "text": [
      "50506936320\n"
     ]
    },
    {
     "data": {
      "text/plain": [
       "<Figure size 432x288 with 0 Axes>"
      ]
     },
     "metadata": {},
     "output_type": "display_data"
    },
    {
     "data": {
      "image/png": "[encoded data removed]",
      "text/plain": [
       "<Figure size 792x504 with 4 Axes>"
      ]
     },
     "metadata": {
      "needs_background": "light"
     },
     "output_type": "display_data"
    }
   ],
   "source": [
    "if 1:\n",
    "    plt.clf()\n",
    "    f, ax = plt.subplots(2, 1, figsize=(11,7) , sharey=True)\n",
    "    \n",
    "    ds1['Ebt'].sum('Z').isel(time=100).plot(ax=ax[0],vmin=0,vmax=20,cbar_kwargs={\"label\": \"\", \"aspect\": 40})\n",
    "    ax[0].set_title('Ebt')\n",
    "    ds1['SDIAG1'].isel(time=100).plot(ax=ax[1],vmin=0,vmax=20,cbar_kwargs={\"label\": \"\", \"aspect\": 40})\n",
    "    ax[1].set_title('diag Ebt')\n",
    "    \n",
    "    for n, axs in enumerate(ax):\n",
    "        axs.text(-0.1, 1, string.ascii_lowercase[n], transform=axs.transAxes,\n",
    "                size=20, weight='bold')\n",
    "    plt.tight_layout()\n",
    "    plt.savefig('./figs/myEbt_t100.png')\n",
    "    #plt.show()\n",
    "    \n",
    "process = psutil.Process(os.getpid())\n",
    "print(process.memory_info().rss) "
   ]
  },
  {
   "cell_type": "code",
   "execution_count": 29,
   "id": "fb02e878",
   "metadata": {},
   "outputs": [
    {
     "name": "stdout",
     "output_type": "stream",
     "text": [
      "50492096512\n"
     ]
    },
    {
     "data": {
      "image/png": "[encoded data removed]",
      "text/plain": [
       "<Figure size 432x288 with 1 Axes>"
      ]
     },
     "metadata": {
      "needs_background": "light"
     },
     "output_type": "display_data"
    }
   ],
   "source": [
    "ds1['Ebt'].sum('Z').isel(YC=50,XC=720).plot(label='my Ebt')\n",
    "ds1['SDIAG1'].isel(YC=50,XC=720).plot(label='diag Ebt')\n",
    "plt.legend()\n",
    "\n",
    "    \n",
    "\n",
    "    \n",
    "process = psutil.Process(os.getpid())\n",
    "print(process.memory_info().rss) "
   ]
  },
  {
   "cell_type": "code",
   "execution_count": null,
   "id": "3b14882e",
   "metadata": {},
   "outputs": [],
   "source": []
  },
  {
   "cell_type": "code",
   "execution_count": 30,
   "id": "ad86fa58",
   "metadata": {},
   "outputs": [
    {
     "name": "stdout",
     "output_type": "stream",
     "text": [
      "time_bin_labels:[ 22320.  66960. 111600. 156240. 200880. 245520. 290160.]\n",
      "time_bin:TimedeltaIndex(['0 days 00:00:00', '0 days 12:24:20', '1 days 00:48:40',\n",
      "                '1 days 13:13:00', '2 days 01:37:20', '2 days 14:01:40',\n",
      "                '3 days 02:26:00', '3 days 14:50:20'],\n",
      "               dtype='timedelta64[ns]', freq='44660S')\n"
     ]
    }
   ],
   "source": [
    "time=ds2.coords['time'].values/np.timedelta64(1, 's')\n",
    "time_bin_labels = np.arange(12.4*60*60/2,time[-1]-20000,12.4*60*60)\n",
    "print('time_bin_labels:' +str(time_bin_labels))\n",
    "time_bin = pd.timedelta_range(0, periods=8,freq='44660S')\n",
    "print('time_bin:' + str(time_bin))\n",
    "time_ns = pd.timedelta_range(0, periods=ttlen,freq='1860S')"
   ]
  },
  {
   "cell_type": "code",
   "execution_count": 31,
   "id": "819e573f",
   "metadata": {},
   "outputs": [
    {
     "name": "stdout",
     "output_type": "stream",
     "text": [
      "dt:1860.0\n"
     ]
    }
   ],
   "source": [
    "dt=time[1]-time[0]\n",
    "print('dt:' +str(dt))"
   ]
  },
  {
   "cell_type": "code",
   "execution_count": 32,
   "id": "c2b87c3b",
   "metadata": {},
   "outputs": [
    {
     "name": "stdout",
     "output_type": "stream",
     "text": [
      "dtEbc(173, 120, 1440)\n"
     ]
    }
   ],
   "source": [
    "xmin = 13000\n",
    "xmax = 67000\n",
    "ymin = 0\n",
    "ymax = 3000\n",
    "dtEbt=np.gradient(ds1.Ebt.sum('Z').values*rhoNil,dt,axis=0)\n",
    "print('dtEbc'+str(dtEbt.shape))\n",
    "ddtEbt = xr.DataArray(dtEbt.data, coords=[ds1.time.values,yc,xc], dims=['time','YC', 'XC'])\n",
    "ta_dtEbt = ddtEbt.groupby_bins('time',time_bin,labels=time_bin_labels).mean()\n",
    "DtdEbt = (ta_dtEbt*ds2['rA']).sel(XC=xc[(xc > xmin) & (xc < xmax)],YC=yc[(yc > ymin) & (yc < ymax)]).sum(['XC','YC'])/1e6"
   ]
  },
  {
   "cell_type": "code",
   "execution_count": 33,
   "id": "f82a79a3",
   "metadata": {},
   "outputs": [
    {
     "name": "stdout",
     "output_type": "stream",
     "text": [
      "dtEbc(173, 120, 1440)\n"
     ]
    }
   ],
   "source": [
    "dia_dtEbt=np.gradient(ds1.SDIAG1.values*rhoNil,dt,axis=0)\n",
    "print('dtEbc'+str(dia_dtEbt.shape))\n",
    "dia_ddtEbt = xr.DataArray(dia_dtEbt.data, coords=[ds1.time.values,yc,xc], dims=['time','YC', 'XC'])\n",
    "dia_ta_dtEbt = dia_ddtEbt.groupby_bins('time',time_bin,labels=time_bin_labels).mean()\n",
    "dia_DtdEbt = (dia_ta_dtEbt*ds2['rA']).sel(XC=xc[(xc > xmin) & (xc < xmax)],YC=yc[(yc > ymin) & (yc < ymax)]).sum(['XC','YC'])/1e6"
   ]
  },
  {
   "cell_type": "code",
   "execution_count": 34,
   "id": "697b26de",
   "metadata": {},
   "outputs": [
    {
     "data": {
      "text/plain": [
       "<matplotlib.legend.Legend at 0x2afbbc435610>"
      ]
     },
     "execution_count": 34,
     "metadata": {},
     "output_type": "execute_result"
    },
    {
     "data": {
      "image/png": "[encoded data removed]",
      "text/plain": [
       "<Figure size 432x288 with 1 Axes>"
      ]
     },
     "metadata": {
      "needs_background": "light"
     },
     "output_type": "display_data"
    }
   ],
   "source": [
    "DtdEbt.plot(label='my dEbt')\n",
    "dia_DtdEbt.plot(label='diag dEbt')\n",
    "plt.legend()"
   ]
  },
  {
   "cell_type": "code",
   "execution_count": 35,
   "id": "e74dc45b",
   "metadata": {},
   "outputs": [
    {
     "name": "stdout",
     "output_type": "stream",
     "text": [
      "df\n",
      "51197825024\n",
      "saved csv\n",
      "51197952000\n"
     ]
    }
   ],
   "source": [
    "df = pd.DataFrame({\"dEbt/dt\": DtdEbt.values,\"dia dEbt/dt\": dia_DtdEbt.values})\n",
    "print('df')\n",
    "print(process.memory_info().rss) \n",
    "df.to_csv(\"TidallyAveragedMydEbtdt.csv\")\n",
    "print('saved csv')\n",
    "print(process.memory_info().rss) "
   ]
  },
  {
   "cell_type": "code",
   "execution_count": 36,
   "id": "c21f22de",
   "metadata": {},
   "outputs": [],
   "source": [
    "read_df = pd.read_csv(\"TidallyAveragedMydEbtdt.csv\")"
   ]
  },
  {
   "cell_type": "code",
   "execution_count": 37,
   "id": "b79ae805",
   "metadata": {},
   "outputs": [
    {
     "name": "stdout",
     "output_type": "stream",
     "text": [
      "   Unnamed: 0   dEbt/dt  dia dEbt/dt\n",
      "0           0  2.029185    -1.959197\n",
      "1           1 -2.440156     0.114515\n",
      "2           2  0.105283     0.107604\n",
      "3           3  0.058654     0.135703\n",
      "4           4  0.037102     0.092564\n",
      "5           5  0.033675     0.084139\n",
      "6           6  0.036065     0.097274\n"
     ]
    }
   ],
   "source": [
    "print(read_df)"
   ]
  },
  {
   "cell_type": "code",
   "execution_count": null,
   "id": "55d431ca",
   "metadata": {},
   "outputs": [],
   "source": []
  }
 ],
 "metadata": {
  "kernelspec": {
   "display_name": "Python 3",
   "language": "python",
   "name": "python3"
  },
  "language_info": {
   "codemirror_mode": {
    "name": "ipython",
    "version": 3
   },
   "file_extension": ".py",
   "mimetype": "text/x-python",
   "name": "python",
   "nbconvert_exporter": "python",
   "pygments_lexer": "ipython3",
   "version": "3.7.7"
  }
 },
 "nbformat": 4,
 "nbformat_minor": 5
}
