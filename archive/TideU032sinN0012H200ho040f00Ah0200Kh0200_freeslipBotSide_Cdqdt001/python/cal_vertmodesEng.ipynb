{
 "cells": [
  {
   "cell_type": "code",
   "execution_count": null,
   "metadata": {},
   "outputs": [],
   "source": [
    "from xmitgcm import open_mdsdataset\n",
    "import xgcm\n",
    "import os\n",
    "import matplotlib.pyplot as plt\n",
    "import matplotlib.colors as colors\n",
    "import numpy as np\n",
    "import math\n",
    "import xarray as xr\n",
    "import string\n",
    "import dask.array as da\n",
    "import vertmodes\n",
    "\n",
    "import warnings\n",
    "\n",
    "warnings.filterwarnings('ignore')"
   ]
  },
  {
   "cell_type": "code",
   "execution_count": null,
   "metadata": {},
   "outputs": [],
   "source": [
    "currentDirectory = os.getcwd()\n",
    "data_dir = currentDirectory[:-7] + '/input/'\n",
    "print(data_dir)"
   ]
  },
  {
   "cell_type": "code",
   "execution_count": null,
   "metadata": {},
   "outputs": [],
   "source": [
    "ds1 = open_mdsdataset(data_dir, geometry='cartesian',endian='<',prefix=['energyvars','statevars','statevars2d'])\n",
    "ds2 = open_mdsdataset(data_dir, geometry='cartesian', endian='<',prefix=['energymvars'])\n",
    "\n",
    "grid = xgcm.Grid(ds1, periodic=False)\n",
    "print(grid)"
   ]
  },
  {
   "cell_type": "code",
   "execution_count": null,
   "metadata": {},
   "outputs": [],
   "source": [
    "t = 0\n",
    "f0 = 1.e-4\n",
    "g = 9.8\n",
    "rhoNil=999.8\n",
    "\n",
    "om=2*np.pi/12.4/3600\n",
    "alpha = 2e-4\n",
    "beta = 0.\n",
    "nz = 200\n",
    "#dz=H/nz \n",
    "tR_fname=\"../indata/TRef.bin\"\n",
    "tRef = np.fromfile(tR_fname)\n",
    "refSalt=35.\n",
    "refTemp=tRef[0]\n",
    "\n",
    "rho2=rhoNil*(1-(alpha*(tRef-refTemp)))\n",
    "rhoS=np.roll(rho2,1)\n",
    "N2=g/rhoNil*(rho2-rhoS)/ds1['drF'].values\n",
    "N2[0]=g/rhoNil*(rhoS[0]-rho2[0])/ds1['drF'][0]\n",
    "print(N2)"
   ]
  },
  {
   "cell_type": "code",
   "execution_count": null,
   "metadata": {},
   "outputs": [],
   "source": [
    "xmin = 34000\n",
    "xmax = 50000\n",
    "ymin = 0000\n",
    "ymax = 3000\n",
    "numcolt=21\n",
    "numcolv=21\n",
    "                                        \n",
    "ttlen=len(ds1.time)\n",
    "print('the length of time:' + str(ttlen) )\n",
    "print('initial temp: '+ str(tRef))"
   ]
  },
  {
   "cell_type": "code",
   "execution_count": null,
   "metadata": {},
   "outputs": [],
   "source": [
    "time1=ds1.coords['time']\n",
    "time=ds2.coords['time']\n",
    "xc=ds1.coords['XC']\n",
    "xg=ds2.coords['XG']\n",
    "yc=ds2.coords['YC']\n",
    "yg=ds2.coords['YG']\n",
    "z=ds1.coords['Z']\n",
    "zl=ds1.coords['Zl']\n",
    "dz=-np.median(np.diff(z))\n",
    "\n",
    "psi,phi,ce,zph = vertmodes.vertModes(N2,dz)"
   ]
  },
  {
   "cell_type": "code",
   "execution_count": null,
   "metadata": {},
   "outputs": [],
   "source": [
    "Nm=37\n",
    "if 0:\n",
    "    fig,axs=plt.subplots(1,2)\n",
    "    for nn in range(Nm):\n",
    "        axs[0].plot(psi[:,nn],-zph)\n",
    "        axs[1].plot(phi[:,nn],-zph)\n",
    "    axs[0].set_ylabel('DEPTH [m]')\n",
    "    axs[0].set_xlabel('$\\phi$: horizontal structure')\n",
    "    axs[0].legend(('mode 0','mode 1','mode 2','mode 3'))\n",
    "    axs[1].set_xlabel('$\\psi$: vertical structure')\n",
    "    fig.savefig('./figs/normodestructure.png')\n",
    "    plt.close(fig)"
   ]
  },
  {
   "cell_type": "code",
   "execution_count": null,
   "metadata": {},
   "outputs": [],
   "source": [
    "ds1['PW'] = xr.DataArray(0.5*(ds1['PHIHYD'].roll(XC=1)+ds1['PHIHYD']).data,coords=[time1,z,yc,xg],dims=('time','Z','YC','XG'))\n",
    "ds1['PS'] = xr.DataArray(0.5*(ds1['PHIHYD'].roll(YC=1)+ds1['PHIHYD']).data,coords=[time1,z,yg,xc],dims=('time','Z','YG','XC'))\n",
    "print(ds1.PW)\n",
    "print(ds1.PS)\n",
    "\n",
    "ds1['tRef']=xr.DataArray(tRef,coords=[z],dims=['Z'])"
   ]
  },
  {
   "cell_type": "code",
   "execution_count": null,
   "metadata": {},
   "outputs": [],
   "source": [
    "for i in range(Nm):\n",
    "    exec('psi%s=psi[:,i]*(ds1.drF.sum(\"Z\").values)**0.5'%i)\n",
    "    exec('phi%s=phi[:,i]*(ds1.drF.sum(\"Z\").values)**0.5'%i)\n",
    "    exec('ds1[\"psi%s\"]=xr.DataArray(psi%s,coords=[z],dims=[\"Z\"])'%(i,i))\n",
    "    exec('ds1[\"phi%s\"]=xr.DataArray(phi%s,coords=[z],dims=[\"Z\"])'%(i,i))"
   ]
  },
  {
   "cell_type": "code",
   "execution_count": null,
   "metadata": {},
   "outputs": [],
   "source": [
    "time_bin_labels = np.arange(12.4*60*60/2,time.values[-1]-20000,12.4*60*60)\n",
    "print(time_bin_labels)\n",
    "for i in range(Nm):\n",
    "    exec('BCrad%s_td=np.zeros(10)'%i)"
   ]
  },
  {
   "cell_type": "code",
   "execution_count": null,
   "metadata": {},
   "outputs": [],
   "source": [
    "for td in range(0,10):\n",
    "    print(td)\n",
    "    dt=time.values[1]-time.values[0]\n",
    "    print(dt)\n",
    "    \n",
    "    T=td\n",
    "\n",
    "    t_st=int(12.4*60*60*T/dt+1)\n",
    "    t_en=int(12.4*60*60*(T+1)/dt+1)\n",
    "    timestd=np.arange(12.4*60*60*T+dt,12.4*60*60*(T+1)+dt,dt)\n",
    "    \n",
    "    for i in range(Nm):\n",
    "        exec('Fx%s_t=np.zeros((t_en-t_st,len(yc),len(xg)),dtype=float)'%i)\n",
    "        exec('Fy%s_t=np.zeros((t_en-t_st,len(yg),len(xc)),dtype=float)'%i)\n",
    "\n",
    "    for tt in range(t_st,t_en):\n",
    "        print(tt)\n",
    "        U0=(ds1['UVEL'].isel(time=tt)*ds1['drF']*ds1['hFacW']*ds1['maskW']).sum('Z')/(ds1.drF*ds1.hFacW*ds1.maskW).sum('Z')\n",
    "        V0=(ds1['VVEL'].isel(time=tt)*ds1['drF']*ds1['hFacS']*ds1['maskS']).sum('Z')/(ds1.drF*ds1.hFacS*ds1.maskS).sum('Z')\n",
    "        PW0=(ds1.PW.isel(time=tt)*ds1['drF']*ds1['hFacW']*ds1['maskW']).sum('Z')/(ds1.drF*ds1.hFacW*ds1.maskW).sum('Z')\n",
    "        PS0=(ds1.PS.isel(time=tt)*ds1['drF']*ds1['hFacS']*ds1['maskS']).sum('Z')/(ds1.drF*ds1.hFacS*ds1.maskS).sum('Z')\n",
    "        \n",
    "        up=(ds1.UVEL.isel(time=tt)-U0).where(ds1.maskW!=0,np.nan)\n",
    "        vp=(ds1.VVEL.isel(time=tt)-V0).where(ds1.maskS!=0,np.nan)\n",
    "        ppw=(ds1.PW.isel(time=tt)-PW0).where(ds1.maskW!=0,np.nan)\n",
    "        pps=(ds1.PS.isel(time=tt)-PS0).where(ds1.maskS!=0,np.nan)\n",
    "        del U0,V0,PW0,PS0\n",
    "\n",
    "\n",
    "        for i in range(Nm):\n",
    "            exec('u%s=(up*ds1.psi%s*ds1.drF).sum(\"Z\")/ ds1.drF.sum(\"Z\")'% (i,i))\n",
    "            exec('pw%s=(ppw*ds1.psi%s*ds1.drF).sum(\"Z\") / ds1.drF.sum(\"Z\")'%(i,i))\n",
    "            exec('v%s=(vp*ds1.psi%s*ds1.drF).sum(\"Z\")/ ds1.drF.sum(\"Z\")'%(i,i))\n",
    "            exec('ps%s=(pps*ds1.psi%s*ds1.drF).sum(\"Z\") / ds1.drF.sum(\"Z\")'%(i,i))\n",
    "            exec('fx%s=(rhoNil*u%s*pw%s*ds1.psi%s*ds1.psi%s*ds1.drF*ds1.hFacW*ds1.maskW).sum(\"Z\")'%(i,i,i,i,i))\n",
    "            exec('fy%s=(rhoNil*v%s*ps%s*ds1.psi%s*ds1.psi%s*ds1.drF*ds1.hFacS*ds1.maskS).sum(\"Z\")'%(i,i,i,i,i))\n",
    "            exec('Fx%s_t[tt-t_st,:,:]=fx%s'%(i,i))\n",
    "            exec('Fy%s_t[tt-t_st,:,:]=fy%s'%(i,i))\n",
    "            exec('del u%s,pw%s,v%s,ps%s'%(i,i,i,i))\n",
    "    BCrad=0\n",
    "    del up,vp,ppw,pps\n",
    "\n",
    "    for i in range(Nm):\n",
    "        exec('Fx%s=xr.DataArray(Fx%s_t,coords=[timestd,yc,xg],dims=(\"time\",\"YC\",\"XG\"))'%(i,i))\n",
    "        exec('Fy%s=xr.DataArray(Fy%s_t,coords=[timestd,yg,xc],dims=(\"time\",\"YG\",\"XC\"))'%(i,i))\n",
    "        exec('ta_Fx%s=xr.DataArray(Fx%s_t.mean(axis=0),coords=[yc,xg],dims=[\"YC\",\"XG\"])'%(i,i))\n",
    "        exec('ta_Fy%s=xr.DataArray(Fy%s_t.mean(axis=0),coords=[yg,xc],dims=[\"YG\",\"XC\"])'%(i,i))\n",
    "        \n",
    "        exec('hd_ta_F%s= (grid.diff(ta_Fx%s*ds1[\"dyG\"],\"X\",boundary=\"extrapolate\")+grid.diff(ta_Fy%s*ds2[\"dxG\"],\"Y\",boundary=\"extrapolate\"))/ds1[\"rA\"]'%(i,i,i))\n",
    "            \n",
    "        exec('BCrad%s   = (hd_ta_F%s*ds1[\"rA\"]).sel(XC=xc[(xc > xmin) & (xc < xmax)],YC=yc[(yc > ymin) & (yc < ymax)]).sum([\"XC\",\"YC\"])/1e6'%(i,i))\n",
    "        exec('del Fx%s,Fy%s,ta_Fx%s,ta_Fy%s,hd_ta_F%s'%(i,i,i,i,i))\n",
    "        exec('print(\"BCrad%s:\" +str(BCrad%s.values))'%(i,i))\n",
    "        exec('BCrad=BCrad+BCrad%s.values'%i)\n",
    "        exec('BCrad%s_td[td]=BCrad%s.values'%(i,i))\n",
    "    \n",
    "    print('sum BCrad_n:' + str(BCrad))\n",
    "\n",
    "\n",
    "print(BCrad0_td)\n",
    "print(BCrad1_td)"
   ]
  },
  {
   "cell_type": "code",
   "execution_count": null,
   "metadata": {},
   "outputs": [],
   "source": [
    "if 1:\n",
    "    f, ax =plt.subplots(figsize=(15,6))\n",
    "    for i in range(10):\n",
    "        exec('ax.plot(time_bin_labels,BCrad%s_td,label=\"mode%s\")'%(i,i+1))\n",
    "\n",
    "    #ax.set_ylim(-0.2,10)\n",
    "    ax.set_xlim(0,400000)\n",
    "    \n",
    "    ax.set_ylabel(\"Energy Budget [MW]\")\n",
    "    ax.set_xlabel(\"time [s]\")\n",
    "    ax.legend()\n",
    "    #plt.tight_layout()\n",
    "    plt.savefig(\"./figs/EnergyBudget_BCRad_modes.png\")\n",
    "    plt.clf()\n",
    "    plt.close(f)"
   ]
  }
 ],
 "metadata": {
  "kernelspec": {
   "display_name": "Python 3",
   "language": "python",
   "name": "python3"
  },
  "language_info": {
   "codemirror_mode": {
    "name": "ipython",
    "version": 3
   },
   "file_extension": ".py",
   "mimetype": "text/x-python",
   "name": "python",
   "nbconvert_exporter": "python",
   "pygments_lexer": "ipython3",
   "version": "3.7.4"
  }
 },
 "nbformat": 4,
 "nbformat_minor": 2
}
