{
 "cells": [
  {
   "cell_type": "code",
   "execution_count": 1,
   "metadata": {},
   "outputs": [
    {
     "name": "stdout",
     "output_type": "stream",
     "text": [
      "/scratch/jxchang/HighRes1/results/TideU008N0LinH200ho140Ah0200Cdqdt003/input/\n"
     ]
    }
   ],
   "source": [
    "import os\n",
    "currentDirectory = os.getcwd()\n",
    "data_dir = currentDirectory[:-7] + '/input/'\n",
    "print(data_dir)\n",
    "\n",
    "from xmitgcm import open_mdsdataset\n",
    "ds1 = open_mdsdataset(data_dir, geometry='cartesian', endian='<',prefix=['statevars'],iters=range(100*1860,170*1860,1860))"
   ]
  },
  {
   "cell_type": "code",
   "execution_count": 2,
   "metadata": {},
   "outputs": [],
   "source": [
    "import matplotlib.pyplot as plt\n",
    "import numpy as np\n",
    "from matplotlib import cm\n",
    "from matplotlib.colors import BoundaryNorm\n",
    "import matplotlib.animation as animation\n",
    "import math\n",
    "%matplotlib inline"
   ]
  },
  {
   "cell_type": "code",
   "execution_count": 3,
   "metadata": {},
   "outputs": [
    {
     "name": "stdout",
     "output_type": "stream",
     "text": [
      "refTemp=63.59230581861823\n",
      "tRef=[63.59230582 40.69584406 33.47293155 31.54712706 29.26896757 28.65696899\n",
      " 28.23721628 27.65390158 27.08300659 26.5118492  25.90295299 25.69407634\n",
      " 25.29910279 24.81832859 24.41499174 24.26210069 24.21619203 24.14261024\n",
      " 24.0996551  24.02495734 23.98958682 23.95165181 23.93411373 23.9224752\n",
      " 23.91844136 23.91059116 23.87093593 23.86487752 23.86221099 23.85790713\n",
      " 23.84947122 23.84359894 23.82719386 23.81078878 23.79438371 23.77797863\n",
      " 23.76157355 23.74516847 23.72876339 23.71235831]\n",
      "the length of time:70\n",
      "23\n"
     ]
    }
   ],
   "source": [
    "t = 0\n",
    "h0 = 140.\n",
    "\n",
    "f0 = 1.e-4\n",
    "g = 9.8\n",
    "u0=0.08\n",
    "\n",
    "om=2*np.pi/12.4/3600 \n",
    "alpha = 2e-4 \n",
    "\n",
    "tR_fname=\"../indata/TRef.bin\"\n",
    "tRef = np.fromfile(tR_fname)\n",
    "refSalt=35.\n",
    "refTemp=tRef[0]\n",
    "print('refTemp='+ str(refTemp))\n",
    "print('tRef='+ str(tRef))\n",
    "\n",
    "xmin = -4\n",
    "xmax = 4\n",
    "vmax = 3\n",
    "vmin = -3\n",
    "wmax = 0.2\n",
    "wmin = -0.2\n",
    "tmax = math.floor(np.amax(tRef))\n",
    "tmin = math.floor(np.amin(tRef))\n",
    "numcolt=21\n",
    "numcolv=30\n",
    "\n",
    "ttlen=len(ds1.time)\n",
    "print('the length of time:' + str(ttlen) )\n",
    "print(tmin)"
   ]
  },
  {
   "cell_type": "code",
   "execution_count": 4,
   "metadata": {},
   "outputs": [],
   "source": [
    "xg=ds1.coords[\"XG\"]\n",
    "xc=ds1.coords[\"XC\"]\n",
    "yg=ds1.coords[\"YG\"]\n",
    "yc=ds1.coords[\"YC\"]\n",
    "z=ds1.coords[\"Z\"]\n",
    "time=ds1.coords['time'].values/np.timedelta64(1, 's')/3600\n",
    "ds1=ds1.assign_coords(XC0 = (ds1.XC/1000.-ds1.XC.mean()/1000.))\n",
    "ds1=ds1.assign_coords(XG0 = (ds1.XG-ds1.XC.mean())/1000.)\n",
    "ds1=ds1.assign_coords(YC0 = (ds1.YC/1000.-ds1.YC.mean()/1000.))\n",
    "ds1=ds1.assign_coords(YG0 = (ds1.YG-ds1.YC.mean())/1000.)\n",
    "yc0 = (ds1.YC/1000.-ds1.YC.mean()/1000.)\n",
    "xc0 = (ds1.XC/1000.-ds1.XC.mean()/1000.)"
   ]
  },
  {
   "cell_type": "code",
   "execution_count": 5,
   "metadata": {},
   "outputs": [
    {
     "data": {
      "text/plain": [
       "<Figure size 792x576 with 0 Axes>"
      ]
     },
     "metadata": {},
     "output_type": "display_data"
    }
   ],
   "source": [
    "fig = plt.figure(figsize=(11,8))\n",
    "grid = plt.GridSpec(2, 2, height_ratios=[0.6,2.5], width_ratios=[1,0.1],wspace=0.02,hspace=0.38)"
   ]
  },
  {
   "cell_type": "code",
   "execution_count": 6,
   "metadata": {},
   "outputs": [],
   "source": [
    "SMALL_SIZE = 17\n",
    "MEDIUM_SIZE = 19\n",
    "BIGGER_SIZE = 21\n",
    "\n",
    "plt.rc('font', size=SMALL_SIZE)          # controls default text sizes\n",
    "plt.rc('axes', titlesize=SMALL_SIZE)     # fontsize of the axes title\n",
    "plt.rc('axes', labelsize=MEDIUM_SIZE)    # fontsize of the x and y labels\n",
    "plt.rc('xtick', labelsize=SMALL_SIZE)    # fontsize of the tick labels\n",
    "plt.rc('ytick', labelsize=SMALL_SIZE)    # fontsize of the tick labels\n",
    "plt.rc('legend', fontsize=SMALL_SIZE)    # legend fontsize\n",
    "plt.rc('figure', titlesize=BIGGER_SIZE)  # fontsize of the figure title"
   ]
  },
  {
   "cell_type": "code",
   "execution_count": 7,
   "metadata": {},
   "outputs": [
    {
     "data": {
      "text/plain": [
       "Text(0.0, 1.0, 'Uinput vs U[t,0,0,0] ')"
      ]
     },
     "execution_count": 7,
     "metadata": {},
     "output_type": "execute_result"
    }
   ],
   "source": [
    "#plot bathymetry\n",
    "ax1=fig.add_subplot(grid[0,:-1])\n",
    "ax1.plot(time,np.zeros(ttlen),color='gray',linestyle='--')\n",
    "ax1.plot(time,ds1.UVEL.isel(Z=0,YC=0,XG=0),label='U(t,0,0,0)')\n",
    "ax1.plot(time,u0*np.cos(om*ds1.time.values/np.timedelta64(1, 's')),label='Uinput')\n",
    "ax1.set_xlim(min(time), max(time))\n",
    "ax1.set_ylim(-u0-0.05, u0+0.05)\n",
    "point, = ax1.plot([time[0]],[ds1.UVEL.isel(time=t,YC=40,XG=0,Z=0).data], 'go', color='red',ms=10)\n",
    "ax1.set_xlabel('time [hr]')\n",
    "ax1.set_ylabel('U [m/s]')\n",
    "ax1.set_title('Uinput vs U[t,0,0,0] ', loc='left')\n",
    "\n"
   ]
  },
  {
   "cell_type": "code",
   "execution_count": 8,
   "metadata": {},
   "outputs": [
    {
     "name": "stderr",
     "output_type": "stream",
     "text": [
      "/home/jxchang/jupyter_py3.7/lib/python3.7/site-packages/ipykernel_launcher.py:12: MatplotlibDeprecationWarning: The 'extend' parameter to Colorbar has no effect because it is overridden by the mappable; it is deprecated since 3.3 and will be removed two minor releases later.\n",
      "  if sys.path[0] == '':\n"
     ]
    },
    {
     "data": {
      "text/plain": [
       "[(-4.0, 4.0)]"
      ]
     },
     "execution_count": 8,
     "metadata": {},
     "output_type": "execute_result"
    }
   ],
   "source": [
    "# plot temperature\n",
    "ax2=fig.add_subplot(grid[1,0])\n",
    "cmap = cm.Spectral_r\n",
    "levels = np.linspace(23, 45, num=numcolt)\n",
    "norm = BoundaryNorm(levels, ncolors=cmap.N, clip=True)\n",
    "opts = {'cmap':cm.get_cmap(cmap, len(levels) - 1), 'norm': norm}\n",
    "\n",
    "cset1 = ax2.contourf(ds1.XC0, ds1.YC0, ds1.THETA.isel(time=t,Z=6), levels, **opts)\n",
    "\n",
    "cax = fig.add_subplot(grid[1,-1])\n",
    "cax.set_visible(False)\n",
    "fig.colorbar(cset1, ax=cax,extend='both')\n",
    "#fig.colorbar(cset1, ax=axs,ticks=np.arange(tmin, tmax+0.1, 5))\n",
    "ax2.set_xlabel('X [km]')\n",
    "ax2.set_ylabel('Y [km]')\n",
    "ax2.set_title('T [oC]', loc='left')\n",
    "ax2.set(xlim=(xmin, xmax))\n",
    "#ax2.plot(ds1['XC0'],-ds1.Depth.isel(YC=60),lw=1.5)"
   ]
  },
  {
   "cell_type": "code",
   "execution_count": 9,
   "metadata": {},
   "outputs": [
    {
     "name": "stdout",
     "output_type": "stream",
     "text": [
      "(1440,)\n",
      "(120, 1440)\n",
      "(172800, 2)\n",
      "[-4. -4. -4. -4. -4.]\n"
     ]
    }
   ],
   "source": [
    "from scipy.interpolate import griddata\n",
    "print(xc.shape)\n",
    "Xu,Yu=np.meshgrid(xg.values,yc.values)\n",
    "Xv,Yv=np.meshgrid(xc.values,yg.values)\n",
    "print(np.shape(Xu))\n",
    "points_u = np.transpose([Xu.flatten(),Yu.flatten()])\n",
    "points_v = np.transpose([Xv.flatten(),Yv.flatten()])\n",
    "print(np.shape(points_u))\n",
    "grid_x, grid_y = np.mgrid[36000:44000:250,0:3000:150]\n",
    "grid_U = griddata(points_u,(ds1.UVEL.isel(time=t,Z=6).values).flatten(),(grid_x, grid_y))\n",
    "grid_V = griddata(points_v,(ds1.VVEL.isel(time=t,Z=6).values).flatten(),(grid_x, grid_y))\n",
    "grid_x0=grid_x/1000.-ds1.XC.values.mean()/1000.\n",
    "grid_y0=grid_y/1000.-ds1.YC.values.mean()/1000.\n",
    "print(grid_x0[0,:5])"
   ]
  },
  {
   "cell_type": "code",
   "execution_count": 10,
   "metadata": {},
   "outputs": [],
   "source": [
    "quiv = ax2.quiver(grid_x0, grid_y0, grid_U, grid_V, color='k')\n",
    "ax2.quiverkey(quiv,0.93,0.02,1,r'$1 \\frac{m}{s}$', labelpos='E')\n",
    "plt.show()"
   ]
  },
  {
   "cell_type": "code",
   "execution_count": 11,
   "metadata": {},
   "outputs": [
    {
     "name": "stdout",
     "output_type": "stream",
     "text": [
      "[<matplotlib.collections.PathCollection object at 0x2b913ffd8590>, <matplotlib.collections.PathCollection object at 0x2b913ffd8890>, <matplotlib.collections.PathCollection object at 0x2b91479f6ad0>, <matplotlib.collections.PathCollection object at 0x2b9147a024d0>, <matplotlib.collections.PathCollection object at 0x2b9147a0dd10>, <matplotlib.collections.PathCollection object at 0x2b9147a1dcd0>, <matplotlib.collections.PathCollection object at 0x2b9147a28d10>, <matplotlib.collections.PathCollection object at 0x2b9147a2da90>, <matplotlib.collections.PathCollection object at 0x2b9147a35c10>, <matplotlib.collections.PathCollection object at 0x2b9147a1dd10>, <matplotlib.collections.PathCollection object at 0x2b9147a3a790>, <matplotlib.collections.PathCollection object at 0x2b9147a3ac50>, <matplotlib.collections.PathCollection object at 0x2b9147a42150>, <matplotlib.collections.PathCollection object at 0x2b9147a42550>, <matplotlib.collections.PathCollection object at 0x2b9147a42ad0>, <matplotlib.collections.PathCollection object at 0x2b9147a42fd0>, <matplotlib.collections.PathCollection object at 0x2b9147a4c3d0>, <matplotlib.collections.PathCollection object at 0x2b9147a4c710>, <matplotlib.collections.PathCollection object at 0x2b9147a4ca50>, <matplotlib.collections.PathCollection object at 0x2b9147a4cd90>, <matplotlib.quiver.Quiver object at 0x2b9147a6f910>]\n",
      "21\n"
     ]
    }
   ],
   "source": [
    "fig\n",
    "print(ax2.collections)\n",
    "print(np.size(ax2.collections))"
   ]
  },
  {
   "cell_type": "code",
   "execution_count": 12,
   "metadata": {},
   "outputs": [
    {
     "data": {
      "text/plain": [
       "<Figure size 432x288 with 0 Axes>"
      ]
     },
     "metadata": {},
     "output_type": "display_data"
    },
    {
     "name": "stdout",
     "output_type": "stream",
     "text": [
      "0\n",
      "nan\n",
      "0.5422157411634391\n",
      "21\n",
      "[<matplotlib.quiver.Quiver object at 0x2b9147a6f910>, <matplotlib.collections.PathCollection object at 0x2b9148ba6b90>, <matplotlib.collections.PathCollection object at 0x2b9148bb10d0>, <matplotlib.collections.PathCollection object at 0x2b914c0a4490>, <matplotlib.collections.PathCollection object at 0x2b914c0ade50>, <matplotlib.collections.PathCollection object at 0x2b914c0bb710>, <matplotlib.collections.PathCollection object at 0x2b914c0cb690>, <matplotlib.collections.PathCollection object at 0x2b914c0d66d0>, <matplotlib.collections.PathCollection object at 0x2b914c0e1450>, <matplotlib.collections.PathCollection object at 0x2b914c0e7590>, <matplotlib.collections.PathCollection object at 0x2b914c0cb6d0>, <matplotlib.collections.PathCollection object at 0x2b914c0ed150>, <matplotlib.collections.PathCollection object at 0x2b914c0ed610>, <matplotlib.collections.PathCollection object at 0x2b914c0edad0>, <matplotlib.collections.PathCollection object at 0x2b914c0eded0>, <matplotlib.collections.PathCollection object at 0x2b914c0f8490>, <matplotlib.collections.PathCollection object at 0x2b914c0f8990>, <matplotlib.collections.PathCollection object at 0x2b914c0f8d50>, <matplotlib.collections.PathCollection object at 0x2b914c1030d0>, <matplotlib.collections.PathCollection object at 0x2b914c103410>, <matplotlib.collections.PathCollection object at 0x2b914c103750>]\n",
      "0\n",
      "nan\n",
      "0.5422157411634391\n",
      "21\n",
      "[<matplotlib.quiver.Quiver object at 0x2b9147a6f910>, <matplotlib.collections.PathCollection object at 0x2b9148d64f10>, <matplotlib.collections.PathCollection object at 0x2b9148d58dd0>, <matplotlib.collections.PathCollection object at 0x2b9148da31d0>, <matplotlib.collections.PathCollection object at 0x2b9148db2dd0>, <matplotlib.collections.PathCollection object at 0x2b9148dce690>, <matplotlib.collections.PathCollection object at 0x2b9148deb610>, <matplotlib.collections.PathCollection object at 0x2b9148e00650>, <matplotlib.collections.PathCollection object at 0x2b9148e113d0>, <matplotlib.collections.PathCollection object at 0x2b9148e19510>, <matplotlib.collections.PathCollection object at 0x2b9148deb650>, <matplotlib.collections.PathCollection object at 0x2b9148e220d0>, <matplotlib.collections.PathCollection object at 0x2b9148e22590>, <matplotlib.collections.PathCollection object at 0x2b9148e22a50>, <matplotlib.collections.PathCollection object at 0x2b9148e22e50>, <matplotlib.collections.PathCollection object at 0x2b9148e2d410>, <matplotlib.collections.PathCollection object at 0x2b9148e2d910>, <matplotlib.collections.PathCollection object at 0x2b9148e2dcd0>, <matplotlib.collections.PathCollection object at 0x2b9148e2dfd0>, <matplotlib.collections.PathCollection object at 0x2b9148e39390>, <matplotlib.collections.PathCollection object at 0x2b9148e396d0>]\n",
      "1\n",
      "nan\n",
      "0.3330147732796526\n",
      "21\n",
      "[<matplotlib.quiver.Quiver object at 0x2b9147a6f910>, <matplotlib.collections.PathCollection object at 0x2b9148d63610>, <matplotlib.collections.PathCollection object at 0x2b913ec92cd0>, <matplotlib.collections.PathCollection object at 0x2b9148e004d0>, <matplotlib.collections.PathCollection object at 0x2b9148deb750>, <matplotlib.collections.PathCollection object at 0x2b913e9db8d0>, <matplotlib.collections.PathCollection object at 0x2b9148c35450>, <matplotlib.collections.PathCollection object at 0x2b9148c4b350>, <matplotlib.collections.PathCollection object at 0x2b9148d9c410>, <matplotlib.collections.PathCollection object at 0x2b9148da0290>, <matplotlib.collections.PathCollection object at 0x2b9148c35490>, <matplotlib.collections.PathCollection object at 0x2b9148da09d0>, <matplotlib.collections.PathCollection object at 0x2b9148da0d10>, <matplotlib.collections.PathCollection object at 0x2b9148d73090>, <matplotlib.collections.PathCollection object at 0x2b9148d733d0>, <matplotlib.collections.PathCollection object at 0x2b9148d73710>, <matplotlib.collections.PathCollection object at 0x2b9148d73a50>, <matplotlib.collections.PathCollection object at 0x2b9148d73d90>, <matplotlib.collections.PathCollection object at 0x2b9148d7e110>, <matplotlib.collections.PathCollection object at 0x2b9148d7e450>, <matplotlib.collections.PathCollection object at 0x2b9148d7e790>]\n",
      "2\n",
      "nan\n",
      "0.2987012261671925\n",
      "21\n",
      "[<matplotlib.quiver.Quiver object at 0x2b9147a6f910>, <matplotlib.collections.PathCollection object at 0x2b9148e11fd0>, <matplotlib.collections.PathCollection object at 0x2b9148db20d0>, <matplotlib.collections.PathCollection object at 0x2b9148e221d0>, <matplotlib.collections.PathCollection object at 0x2b9148ea1890>, <matplotlib.collections.PathCollection object at 0x2b9148e398d0>, <matplotlib.collections.PathCollection object at 0x2b9148d7e6d0>, <matplotlib.collections.PathCollection object at 0x2b9148eb5490>, <matplotlib.collections.PathCollection object at 0x2b9148ebafd0>, <matplotlib.collections.PathCollection object at 0x2b9148ec0690>, <matplotlib.collections.PathCollection object at 0x2b9148d7e690>, <matplotlib.collections.PathCollection object at 0x2b9148ec0e50>, <matplotlib.collections.PathCollection object at 0x2b9148ec61d0>, <matplotlib.collections.PathCollection object at 0x2b9148ec6510>, <matplotlib.collections.PathCollection object at 0x2b9148ec6850>, <matplotlib.collections.PathCollection object at 0x2b9148ec6b90>, <matplotlib.collections.PathCollection object at 0x2b9148ec6ed0>, <matplotlib.collections.PathCollection object at 0x2b9148eca250>, <matplotlib.collections.PathCollection object at 0x2b9148eca590>, <matplotlib.collections.PathCollection object at 0x2b9148eca8d0>, <matplotlib.collections.PathCollection object at 0x2b9148ecac10>]\n",
      "3\n",
      "nan\n",
      "0.19832212690062292\n",
      "21\n",
      "[<matplotlib.quiver.Quiver object at 0x2b9147a6f910>, <matplotlib.collections.PathCollection object at 0x2b9148e22490>, <matplotlib.collections.PathCollection object at 0x2b9148e2d0d0>, <matplotlib.collections.PathCollection object at 0x2b9148e00ad0>, <matplotlib.collections.PathCollection object at 0x2b9148c4b190>, <matplotlib.collections.PathCollection object at 0x2b9148da0dd0>, <matplotlib.collections.PathCollection object at 0x2b9148e67d10>, <matplotlib.collections.PathCollection object at 0x2b9148ec0190>, <matplotlib.collections.PathCollection object at 0x2b9148ec6f10>, <matplotlib.collections.PathCollection object at 0x2b9148eca250>, <matplotlib.collections.PathCollection object at 0x2b9148e67d50>, <matplotlib.collections.PathCollection object at 0x2b9148ecac90>, <matplotlib.collections.PathCollection object at 0x2b9148e4ec90>, <matplotlib.collections.PathCollection object at 0x2b9147ad8350>, <matplotlib.collections.PathCollection object at 0x2b9148ea4990>, <matplotlib.collections.PathCollection object at 0x2b9148ed8290>, <matplotlib.collections.PathCollection object at 0x2b9148ea6690>, <matplotlib.collections.PathCollection object at 0x2b9148ea6b90>, <matplotlib.collections.PathCollection object at 0x2b9148ea6ed0>, <matplotlib.collections.PathCollection object at 0x2b9148db3690>, <matplotlib.collections.PathCollection object at 0x2b9148db34d0>]\n",
      "4\n",
      "nan\n",
      "0.18086737340635695\n",
      "21\n",
      "[<matplotlib.quiver.Quiver object at 0x2b9147a6f910>, <matplotlib.collections.PathCollection object at 0x2b9148db26d0>, <matplotlib.collections.PathCollection object at 0x2b9148db2ed0>, <matplotlib.collections.PathCollection object at 0x2b9148e19e90>, <matplotlib.collections.PathCollection object at 0x2b9148d73810>, <matplotlib.collections.PathCollection object at 0x2b9148e39110>, <matplotlib.collections.PathCollection object at 0x2b9148e67050>, <matplotlib.collections.PathCollection object at 0x2b9148da0150>, <matplotlib.collections.PathCollection object at 0x2b9148c4bcd0>, <matplotlib.collections.PathCollection object at 0x2b9148e00590>, <matplotlib.collections.PathCollection object at 0x2b9148e67290>, <matplotlib.collections.PathCollection object at 0x2b9148e00cd0>, <matplotlib.collections.PathCollection object at 0x2b9148e00f10>, <matplotlib.collections.PathCollection object at 0x2b9148e462d0>, <matplotlib.collections.PathCollection object at 0x2b9148e4a610>, <matplotlib.collections.PathCollection object at 0x2b9148b8fd90>, <matplotlib.collections.PathCollection object at 0x2b9148ea6850>, <matplotlib.collections.PathCollection object at 0x2b9148ea6490>, <matplotlib.collections.PathCollection object at 0x2b9148ea6b50>, <matplotlib.collections.PathCollection object at 0x2b9148e4f310>, <matplotlib.collections.PathCollection object at 0x2b9148ed8910>]\n"
     ]
    },
    {
     "name": "stdout",
     "output_type": "stream",
     "text": [
      "5\n",
      "nan\n",
      "0.3136905283803712\n",
      "21\n",
      "[<matplotlib.quiver.Quiver object at 0x2b9147a6f910>, <matplotlib.collections.PathCollection object at 0x2b9148d9c6d0>, <matplotlib.collections.PathCollection object at 0x2b9148c35110>, <matplotlib.collections.PathCollection object at 0x2b9148ea1790>, <matplotlib.collections.PathCollection object at 0x2b9148ea5350>, <matplotlib.collections.PathCollection object at 0x2b9148eb5690>, <matplotlib.collections.PathCollection object at 0x2b9148e006d0>, <matplotlib.collections.PathCollection object at 0x2b9148db2310>, <matplotlib.collections.PathCollection object at 0x2b9148e19d50>, <matplotlib.collections.PathCollection object at 0x2b9148d7ecd0>, <matplotlib.collections.PathCollection object at 0x2b9148e00e10>, <matplotlib.collections.PathCollection object at 0x2b9148e4eb10>, <matplotlib.collections.PathCollection object at 0x2b9148d5cf90>, <matplotlib.collections.PathCollection object at 0x2b9148ecad50>, <matplotlib.collections.PathCollection object at 0x2b9148eca850>, <matplotlib.collections.PathCollection object at 0x2b9148eca610>, <matplotlib.collections.PathCollection object at 0x2b9148eca8d0>, <matplotlib.collections.PathCollection object at 0x2b9148ecac10>, <matplotlib.collections.PathCollection object at 0x2b9148ecafd0>, <matplotlib.collections.PathCollection object at 0x2b9148e0c910>, <matplotlib.collections.PathCollection object at 0x2b9148e0cfd0>]\n",
      "6\n",
      "nan\n",
      "0.3098324189259188\n",
      "21\n",
      "[<matplotlib.quiver.Quiver object at 0x2b9147a6f910>, <matplotlib.collections.PathCollection object at 0x2b9148deb0d0>, <matplotlib.collections.PathCollection object at 0x2b9148deb750>, <matplotlib.collections.PathCollection object at 0x2b9148ebab90>, <matplotlib.collections.PathCollection object at 0x2b9148ec0850>, <matplotlib.collections.PathCollection object at 0x2b9148e39090>, <matplotlib.collections.PathCollection object at 0x2b9148e00710>, <matplotlib.collections.PathCollection object at 0x2b9148ea10d0>, <matplotlib.collections.PathCollection object at 0x2b9148ea1710>, <matplotlib.collections.PathCollection object at 0x2b9148ecaa90>, <matplotlib.collections.PathCollection object at 0x2b9148e00890>, <matplotlib.collections.PathCollection object at 0x2b9148e0cad0>, <matplotlib.collections.PathCollection object at 0x2b9148da30d0>, <matplotlib.collections.PathCollection object at 0x2b9148eade10>, <matplotlib.collections.PathCollection object at 0x2b9148e4a550>, <matplotlib.collections.PathCollection object at 0x2b9148ea4810>, <matplotlib.collections.PathCollection object at 0x2b9148d631d0>, <matplotlib.collections.PathCollection object at 0x2b9148d8b490>, <matplotlib.collections.PathCollection object at 0x2b9148db2990>, <matplotlib.collections.PathCollection object at 0x2b9148db2e50>, <matplotlib.collections.PathCollection object at 0x2b9148db2890>]\n",
      "7\n",
      "nan\n",
      "0.43661639913176675\n",
      "21\n",
      "[<matplotlib.quiver.Quiver object at 0x2b9147a6f910>, <matplotlib.collections.PathCollection object at 0x2b9148b9fc50>, <matplotlib.collections.PathCollection object at 0x2b9148d60c90>, <matplotlib.collections.PathCollection object at 0x2b9148da04d0>, <matplotlib.collections.PathCollection object at 0x2b9148d73410>, <matplotlib.collections.PathCollection object at 0x2b9148ea1410>, <matplotlib.collections.PathCollection object at 0x2b9148ec0450>, <matplotlib.collections.PathCollection object at 0x2b9148ebadd0>, <matplotlib.collections.PathCollection object at 0x2b9148c65ed0>, <matplotlib.collections.PathCollection object at 0x2b9148e62990>, <matplotlib.collections.PathCollection object at 0x2b9148ec0410>, <matplotlib.collections.PathCollection object at 0x2b9148d5bc10>, <matplotlib.collections.PathCollection object at 0x2b9148db3c90>, <matplotlib.collections.PathCollection object at 0x2b9148e0c2d0>, <matplotlib.collections.PathCollection object at 0x2b9148e0cc10>, <matplotlib.collections.PathCollection object at 0x2b9148e0cd90>, <matplotlib.collections.PathCollection object at 0x2b9148e0c890>, <matplotlib.collections.PathCollection object at 0x2b9148e0c450>, <matplotlib.collections.PathCollection object at 0x2b9148dc1150>, <matplotlib.collections.PathCollection object at 0x2b9148dc1410>, <matplotlib.collections.PathCollection object at 0x2b9148dc16d0>]\n",
      "8\n",
      "nan\n",
      "0.44443893849057425\n",
      "21\n",
      "[<matplotlib.quiver.Quiver object at 0x2b9147a6f910>, <matplotlib.collections.PathCollection object at 0x2b9148e67ad0>, <matplotlib.collections.PathCollection object at 0x2b9148ec6810>, <matplotlib.collections.PathCollection object at 0x2b9148d5cad0>, <matplotlib.collections.PathCollection object at 0x2b9148e11410>, <matplotlib.collections.PathCollection object at 0x2b9148c629d0>, <matplotlib.collections.PathCollection object at 0x2b9148da0790>, <matplotlib.collections.PathCollection object at 0x2b9148c350d0>, <matplotlib.collections.PathCollection object at 0x2b9148c60910>, <matplotlib.collections.PathCollection object at 0x2b9148c3e950>, <matplotlib.collections.PathCollection object at 0x2b9148da0ad0>, <matplotlib.collections.PathCollection object at 0x2b9148db20d0>, <matplotlib.collections.PathCollection object at 0x2b9148d8be50>, <matplotlib.collections.PathCollection object at 0x2b9148deb310>, <matplotlib.collections.PathCollection object at 0x2b9148debcd0>, <matplotlib.collections.PathCollection object at 0x2b9148deb450>, <matplotlib.collections.PathCollection object at 0x2b9148deb990>, <matplotlib.collections.PathCollection object at 0x2b9148bab4d0>, <matplotlib.collections.PathCollection object at 0x2b9148dc4550>, <matplotlib.collections.PathCollection object at 0x2b9148dc4790>, <matplotlib.collections.PathCollection object at 0x2b9148dc4c10>]\n",
      "9\n",
      "nan\n",
      "0.4023025958571363\n",
      "21\n",
      "[<matplotlib.quiver.Quiver object at 0x2b9147a6f910>, <matplotlib.collections.PathCollection object at 0x2b9148e19e50>, <matplotlib.collections.PathCollection object at 0x2b9148eca190>, <matplotlib.collections.PathCollection object at 0x2b9148e39110>, <matplotlib.collections.PathCollection object at 0x2b9148eadb10>, <matplotlib.collections.PathCollection object at 0x2b9148c4b150>, <matplotlib.collections.PathCollection object at 0x2b9148da0bd0>, <matplotlib.collections.PathCollection object at 0x2b9148eb5490>, <matplotlib.collections.PathCollection object at 0x2b9148e0cf10>, <matplotlib.collections.PathCollection object at 0x2b9148debd10>, <matplotlib.collections.PathCollection object at 0x2b9148da0c50>, <matplotlib.collections.PathCollection object at 0x2b9148deb550>, <matplotlib.collections.PathCollection object at 0x2b9148bb11d0>, <matplotlib.collections.PathCollection object at 0x2b9148c3ef90>, <matplotlib.collections.PathCollection object at 0x2b9148c3e3d0>, <matplotlib.collections.PathCollection object at 0x2b9148e772d0>, <matplotlib.collections.PathCollection object at 0x2b9148e770d0>, <matplotlib.collections.PathCollection object at 0x2b9148dce050>, <matplotlib.collections.PathCollection object at 0x2b9148ed8c10>, <matplotlib.collections.PathCollection object at 0x2b9148ed8790>, <matplotlib.collections.PathCollection object at 0x2b9148ed8590>]\n",
      "10\n",
      "nan\n",
      "0.4494035933290701\n",
      "21\n",
      "[<matplotlib.quiver.Quiver object at 0x2b9147a6f910>, <matplotlib.collections.PathCollection object at 0x2b9148ec0990>, <matplotlib.collections.PathCollection object at 0x2b9148ec08d0>, <matplotlib.collections.PathCollection object at 0x2b9148d73190>, <matplotlib.collections.PathCollection object at 0x2b9148e00c90>, <matplotlib.collections.PathCollection object at 0x2b9148d8b050>, <matplotlib.collections.PathCollection object at 0x2b9148da0a90>, <matplotlib.collections.PathCollection object at 0x2b9148db2410>, <matplotlib.collections.PathCollection object at 0x2b9148db3750>, <matplotlib.collections.PathCollection object at 0x2b9148e62190>, <matplotlib.collections.PathCollection object at 0x2b9148da09d0>, <matplotlib.collections.PathCollection object at 0x2b9148dc5810>, <matplotlib.collections.PathCollection object at 0x2b9148d9ca90>, <matplotlib.collections.PathCollection object at 0x2b9148d9c510>, <matplotlib.collections.PathCollection object at 0x2b9148d9c490>, <matplotlib.collections.PathCollection object at 0x2b9148e01890>, <matplotlib.collections.PathCollection object at 0x2b9148e01d50>, <matplotlib.collections.PathCollection object at 0x2b9148c58650>, <matplotlib.collections.PathCollection object at 0x2b914c10c810>, <matplotlib.collections.PathCollection object at 0x2b9148ea5e50>, <matplotlib.collections.PathCollection object at 0x2b9148e446d0>]\n"
     ]
    },
    {
     "name": "stdout",
     "output_type": "stream",
     "text": [
      "11\n",
      "nan\n",
      "0.3566197870393658\n",
      "21\n",
      "[<matplotlib.quiver.Quiver object at 0x2b9147a6f910>, <matplotlib.collections.PathCollection object at 0x2b9148d60b90>, <matplotlib.collections.PathCollection object at 0x2b9148c65810>, <matplotlib.collections.PathCollection object at 0x2b9148dc1750>, <matplotlib.collections.PathCollection object at 0x2b914c10f590>, <matplotlib.collections.PathCollection object at 0x2b9148e395d0>, <matplotlib.collections.PathCollection object at 0x2b9148e62650>, <matplotlib.collections.PathCollection object at 0x2b9148ec0f90>, <matplotlib.collections.PathCollection object at 0x2b9148ed8690>, <matplotlib.collections.PathCollection object at 0x2b9148e0bfd0>, <matplotlib.collections.PathCollection object at 0x2b9148e62850>, <matplotlib.collections.PathCollection object at 0x2b9148e01d50>, <matplotlib.collections.PathCollection object at 0x2b9148e01490>, <matplotlib.collections.PathCollection object at 0x2b9148ec61d0>, <matplotlib.collections.PathCollection object at 0x2b9148ea65d0>, <matplotlib.collections.PathCollection object at 0x2b9148ea6e10>, <matplotlib.collections.PathCollection object at 0x2b9148ea67d0>, <matplotlib.collections.PathCollection object at 0x2b9148d88450>, <matplotlib.collections.PathCollection object at 0x2b9148d881d0>, <matplotlib.collections.PathCollection object at 0x2b9148e22f90>, <matplotlib.collections.PathCollection object at 0x2b9148e22e90>]\n",
      "12\n",
      "nan\n",
      "0.41561126411311555\n",
      "21\n",
      "[<matplotlib.quiver.Quiver object at 0x2b9147a6f910>, <matplotlib.collections.PathCollection object at 0x2b9148da38d0>, <matplotlib.collections.PathCollection object at 0x2b9148eb5890>, <matplotlib.collections.PathCollection object at 0x2b9148deb0d0>, <matplotlib.collections.PathCollection object at 0x2b9148c3e4d0>, <matplotlib.collections.PathCollection object at 0x2b9148d9c210>, <matplotlib.collections.PathCollection object at 0x2b9148ec0750>, <matplotlib.collections.PathCollection object at 0x2b9148e220d0>, <matplotlib.collections.PathCollection object at 0x2b9148ea6410>, <matplotlib.collections.PathCollection object at 0x2b9148e95dd0>, <matplotlib.collections.PathCollection object at 0x2b9148ec0c50>, <matplotlib.collections.PathCollection object at 0x2b9148e95a90>, <matplotlib.collections.PathCollection object at 0x2b9148b9fbd0>, <matplotlib.collections.PathCollection object at 0x2b9148c53dd0>, <matplotlib.collections.PathCollection object at 0x2b9148d98290>, <matplotlib.collections.PathCollection object at 0x2b9148d98610>, <matplotlib.collections.PathCollection object at 0x2b9148d98b10>, <matplotlib.collections.PathCollection object at 0x2b9148dce590>, <matplotlib.collections.PathCollection object at 0x2b9148dce150>, <matplotlib.collections.PathCollection object at 0x2b9148eba2d0>, <matplotlib.collections.PathCollection object at 0x2b9148eba550>]\n",
      "13\n",
      "nan\n",
      "0.33403392474339916\n",
      "21\n",
      "[<matplotlib.quiver.Quiver object at 0x2b9147a6f910>, <matplotlib.collections.PathCollection object at 0x2b9148eca9d0>, <matplotlib.collections.PathCollection object at 0x2b9148ecad90>, <matplotlib.collections.PathCollection object at 0x2b9148db20d0>, <matplotlib.collections.PathCollection object at 0x2b9148e00b90>, <matplotlib.collections.PathCollection object at 0x2b9148e39510>, <matplotlib.collections.PathCollection object at 0x2b9148d9c7d0>, <matplotlib.collections.PathCollection object at 0x2b9148eba350>, <matplotlib.collections.PathCollection object at 0x2b9148dc5590>, <matplotlib.collections.PathCollection object at 0x2b9148e4e710>, <matplotlib.collections.PathCollection object at 0x2b9148d9c9d0>, <matplotlib.collections.PathCollection object at 0x2b9148e77350>, <matplotlib.collections.PathCollection object at 0x2b9148e77c50>, <matplotlib.collections.PathCollection object at 0x2b9148e77990>, <matplotlib.collections.PathCollection object at 0x2b9148c4b550>, <matplotlib.collections.PathCollection object at 0x2b9148c4b490>, <matplotlib.collections.PathCollection object at 0x2b9148c4ba50>, <matplotlib.collections.PathCollection object at 0x2b9148c4bdd0>, <matplotlib.collections.PathCollection object at 0x2b9148c4bed0>, <matplotlib.collections.PathCollection object at 0x2b9148db3550>, <matplotlib.collections.PathCollection object at 0x2b9148db34d0>]\n",
      "14\n",
      "nan\n",
      "0.2794037227821154\n",
      "21\n",
      "[<matplotlib.quiver.Quiver object at 0x2b9147a6f910>, <matplotlib.collections.PathCollection object at 0x2b9148c35790>, <matplotlib.collections.PathCollection object at 0x2b9148da0750>, <matplotlib.collections.PathCollection object at 0x2b9148d73b50>, <matplotlib.collections.PathCollection object at 0x2b9148d88f50>, <matplotlib.collections.PathCollection object at 0x2b9148c3e650>, <matplotlib.collections.PathCollection object at 0x2b9148d9ce10>, <matplotlib.collections.PathCollection object at 0x2b9148c4be90>, <matplotlib.collections.PathCollection object at 0x2b9148ed89d0>, <matplotlib.collections.PathCollection object at 0x2b9148eca0d0>, <matplotlib.collections.PathCollection object at 0x2b9148d9c5d0>, <matplotlib.collections.PathCollection object at 0x2b9148d07e10>, <matplotlib.collections.PathCollection object at 0x2b9148e67310>, <matplotlib.collections.PathCollection object at 0x2b9148e67850>, <matplotlib.collections.PathCollection object at 0x2b9148e67990>, <matplotlib.collections.PathCollection object at 0x2b9148dc1b90>, <matplotlib.collections.PathCollection object at 0x2b9148eec450>, <matplotlib.collections.PathCollection object at 0x2b9148eec6d0>, <matplotlib.collections.PathCollection object at 0x2b9148eeca50>, <matplotlib.collections.PathCollection object at 0x2b9148eecd10>, <matplotlib.collections.PathCollection object at 0x2b9148eecfd0>]\n",
      "15\n",
      "nan\n",
      "0.23700799356868735\n",
      "21\n",
      "[<matplotlib.quiver.Quiver object at 0x2b9147a6f910>, <matplotlib.collections.PathCollection object at 0x2b9148ea53d0>, <matplotlib.collections.PathCollection object at 0x2b9148e62890>, <matplotlib.collections.PathCollection object at 0x2b9148ea6950>, <matplotlib.collections.PathCollection object at 0x2b9148ec0fd0>, <matplotlib.collections.PathCollection object at 0x2b9148ed8e10>, <matplotlib.collections.PathCollection object at 0x2b9148d88e10>, <matplotlib.collections.PathCollection object at 0x2b9148c3e250>, <matplotlib.collections.PathCollection object at 0x2b9148e9d090>, <matplotlib.collections.PathCollection object at 0x2b9148e9dd90>, <matplotlib.collections.PathCollection object at 0x2b9148d881d0>, <matplotlib.collections.PathCollection object at 0x2b9148e19290>, <matplotlib.collections.PathCollection object at 0x2b9148e19350>, <matplotlib.collections.PathCollection object at 0x2b9148e199d0>, <matplotlib.collections.PathCollection object at 0x2b9148e19250>, <matplotlib.collections.PathCollection object at 0x2b9148ef2c90>, <matplotlib.collections.PathCollection object at 0x2b9148ef2f50>, <matplotlib.collections.PathCollection object at 0x2b9148db9250>, <matplotlib.collections.PathCollection object at 0x2b9148db9510>, <matplotlib.collections.PathCollection object at 0x2b9148db97d0>, <matplotlib.collections.PathCollection object at 0x2b9148b9fbd0>]\n",
      "16\n",
      "nan\n",
      "0.22203686432554565\n",
      "21\n",
      "[<matplotlib.quiver.Quiver object at 0x2b9147a6f910>, <matplotlib.collections.PathCollection object at 0x2b9148deb910>, <matplotlib.collections.PathCollection object at 0x2b9148deb410>, <matplotlib.collections.PathCollection object at 0x2b9148e95290>, <matplotlib.collections.PathCollection object at 0x2b9147ad8250>, <matplotlib.collections.PathCollection object at 0x2b9148d73ed0>, <matplotlib.collections.PathCollection object at 0x2b9148e19750>, <matplotlib.collections.PathCollection object at 0x2b914c11d890>, <matplotlib.collections.PathCollection object at 0x2b9148ec0b90>, <matplotlib.collections.PathCollection object at 0x2b9148ec02d0>, <matplotlib.collections.PathCollection object at 0x2b9148e19450>, <matplotlib.collections.PathCollection object at 0x2b9148ed8c90>, <matplotlib.collections.PathCollection object at 0x2b9148ed84d0>, <matplotlib.collections.PathCollection object at 0x2b9148ed8710>, <matplotlib.collections.PathCollection object at 0x2b9148ed81d0>, <matplotlib.collections.PathCollection object at 0x2b9148ecadd0>, <matplotlib.collections.PathCollection object at 0x2b9148ecaa90>, <matplotlib.collections.PathCollection object at 0x2b9148ecaad0>, <matplotlib.collections.PathCollection object at 0x2b9148ea58d0>, <matplotlib.collections.PathCollection object at 0x2b9148e01150>, <matplotlib.collections.PathCollection object at 0x2b9148e01a90>]\n"
     ]
    },
    {
     "name": "stdout",
     "output_type": "stream",
     "text": [
      "17\n",
      "nan\n",
      "0.27728664189849245\n",
      "21\n",
      "[<matplotlib.quiver.Quiver object at 0x2b9147a6f910>, <matplotlib.collections.PathCollection object at 0x2b9148e95710>, <matplotlib.collections.PathCollection object at 0x2b9148e95a90>, <matplotlib.collections.PathCollection object at 0x2b9148e9df10>, <matplotlib.collections.PathCollection object at 0x2b9148ed8ad0>, <matplotlib.collections.PathCollection object at 0x2b9147aa3a10>, <matplotlib.collections.PathCollection object at 0x2b9148e4e390>, <matplotlib.collections.PathCollection object at 0x2b9148e62190>, <matplotlib.collections.PathCollection object at 0x2b9148db3e50>, <matplotlib.collections.PathCollection object at 0x2b9148e67a50>, <matplotlib.collections.PathCollection object at 0x2b9148e4e2d0>, <matplotlib.collections.PathCollection object at 0x2b9148e67c90>, <matplotlib.collections.PathCollection object at 0x2b9148e672d0>, <matplotlib.collections.PathCollection object at 0x2b9148e65350>, <matplotlib.collections.PathCollection object at 0x2b9148e65290>, <matplotlib.collections.PathCollection object at 0x2b9148e65e10>, <matplotlib.collections.PathCollection object at 0x2b9148e65ed0>, <matplotlib.collections.PathCollection object at 0x2b9148d73550>, <matplotlib.collections.PathCollection object at 0x2b9148d73910>, <matplotlib.collections.PathCollection object at 0x2b9148d73e90>, <matplotlib.collections.PathCollection object at 0x2b9148d730d0>]\n",
      "18\n",
      "nan\n",
      "0.22234400233070192\n",
      "21\n",
      "[<matplotlib.quiver.Quiver object at 0x2b9147a6f910>, <matplotlib.collections.PathCollection object at 0x2b9148e95190>, <matplotlib.collections.PathCollection object at 0x2b9148eca350>, <matplotlib.collections.PathCollection object at 0x2b9148e9b150>, <matplotlib.collections.PathCollection object at 0x2b9148eade50>, <matplotlib.collections.PathCollection object at 0x2b9148e4f050>, <matplotlib.collections.PathCollection object at 0x2b9148e4ac90>, <matplotlib.collections.PathCollection object at 0x2b9148e65110>, <matplotlib.collections.PathCollection object at 0x2b9148d73590>, <matplotlib.collections.PathCollection object at 0x2b9148c65ed0>, <matplotlib.collections.PathCollection object at 0x2b9148e4ab50>, <matplotlib.collections.PathCollection object at 0x2b913ef0f690>, <matplotlib.collections.PathCollection object at 0x2b9148c62850>, <matplotlib.collections.PathCollection object at 0x2b9148c62210>, <matplotlib.collections.PathCollection object at 0x2b9148c62bd0>, <matplotlib.collections.PathCollection object at 0x2b9148d88f10>, <matplotlib.collections.PathCollection object at 0x2b9148d88090>, <matplotlib.collections.PathCollection object at 0x2b9148d884d0>, <matplotlib.collections.PathCollection object at 0x2b9148d88750>, <matplotlib.collections.PathCollection object at 0x2b9148d88d50>, <matplotlib.collections.PathCollection object at 0x2b9148ea4d90>]\n",
      "19\n",
      "nan\n",
      "0.22479072915984652\n",
      "21\n",
      "[<matplotlib.quiver.Quiver object at 0x2b9147a6f910>, <matplotlib.collections.PathCollection object at 0x2b9148e95a10>, <matplotlib.collections.PathCollection object at 0x2b9148b9f0d0>, <matplotlib.collections.PathCollection object at 0x2b9148ea5710>, <matplotlib.collections.PathCollection object at 0x2b9148ed8250>, <matplotlib.collections.PathCollection object at 0x2b9148bab3d0>, <matplotlib.collections.PathCollection object at 0x2b9148e67110>, <matplotlib.collections.PathCollection object at 0x2b9148e4ac10>, <matplotlib.collections.PathCollection object at 0x2b9148c62210>, <matplotlib.collections.PathCollection object at 0x2b9148d88990>, <matplotlib.collections.PathCollection object at 0x2b9148e67290>, <matplotlib.collections.PathCollection object at 0x2b9148deb190>, <matplotlib.collections.PathCollection object at 0x2b9148deb110>, <matplotlib.collections.PathCollection object at 0x2b9148da0b10>, <matplotlib.collections.PathCollection object at 0x2b9148da0a50>, <matplotlib.collections.PathCollection object at 0x2b9148dbaf10>, <matplotlib.collections.PathCollection object at 0x2b9148dbaf50>, <matplotlib.collections.PathCollection object at 0x2b9148e44850>, <matplotlib.collections.PathCollection object at 0x2b9148e44bd0>, <matplotlib.collections.PathCollection object at 0x2b9148e44550>, <matplotlib.collections.PathCollection object at 0x2b9148e446d0>]\n",
      "20\n",
      "nan\n",
      "0.3829328480801237\n",
      "21\n",
      "[<matplotlib.quiver.Quiver object at 0x2b9147a6f910>, <matplotlib.collections.PathCollection object at 0x2b9148e9d8d0>, <matplotlib.collections.PathCollection object at 0x2b9148b9ffd0>, <matplotlib.collections.PathCollection object at 0x2b9148e95a10>, <matplotlib.collections.PathCollection object at 0x2b9148ead8d0>, <matplotlib.collections.PathCollection object at 0x2b9148e4f650>, <matplotlib.collections.PathCollection object at 0x2b9148e4a450>, <matplotlib.collections.PathCollection object at 0x2b9148da01d0>, <matplotlib.collections.PathCollection object at 0x2b9148ea5890>, <matplotlib.collections.PathCollection object at 0x2b9148e44c10>, <matplotlib.collections.PathCollection object at 0x2b9148e4a0d0>, <matplotlib.collections.PathCollection object at 0x2b9148c0ab10>, <matplotlib.collections.PathCollection object at 0x2b9148bf9410>, <matplotlib.collections.PathCollection object at 0x2b9148c82290>, <matplotlib.collections.PathCollection object at 0x2b9148c58250>, <matplotlib.collections.PathCollection object at 0x2b914c10cb10>, <matplotlib.collections.PathCollection object at 0x2b914c10c5d0>, <matplotlib.collections.PathCollection object at 0x2b914c10ce90>, <matplotlib.collections.PathCollection object at 0x2b9148eca490>, <matplotlib.collections.PathCollection object at 0x2b9148ecaf10>, <matplotlib.collections.PathCollection object at 0x2b9148eca2d0>]\n",
      "21\n",
      "nan\n",
      "0.3222207945335784\n",
      "21\n",
      "[<matplotlib.quiver.Quiver object at 0x2b9147a6f910>, <matplotlib.collections.PathCollection object at 0x2b9148c60090>, <matplotlib.collections.PathCollection object at 0x2b9148c607d0>, <matplotlib.collections.PathCollection object at 0x2b9148db32d0>, <matplotlib.collections.PathCollection object at 0x2b9148d53910>, <matplotlib.collections.PathCollection object at 0x2b9148e67610>, <matplotlib.collections.PathCollection object at 0x2b9148e4a650>, <matplotlib.collections.PathCollection object at 0x2b9148ead790>, <matplotlib.collections.PathCollection object at 0x2b9148ecafd0>, <matplotlib.collections.PathCollection object at 0x2b9148ea5810>, <matplotlib.collections.PathCollection object at 0x2b9148e4a950>, <matplotlib.collections.PathCollection object at 0x2b9148e95a50>, <matplotlib.collections.PathCollection object at 0x2b9148e19c10>, <matplotlib.collections.PathCollection object at 0x2b9148b9f650>, <matplotlib.collections.PathCollection object at 0x2b9148c0a890>, <matplotlib.collections.PathCollection object at 0x2b9148dbae90>, <matplotlib.collections.PathCollection object at 0x2b9148dce750>, <matplotlib.collections.PathCollection object at 0x2b9148c58d90>, <matplotlib.collections.PathCollection object at 0x2b9148ea4850>, <matplotlib.collections.PathCollection object at 0x2b9148ea46d0>, <matplotlib.collections.PathCollection object at 0x2b9148ea4350>]\n",
      "22\n",
      "nan\n",
      "0.4234348075692194\n",
      "21\n",
      "[<matplotlib.quiver.Quiver object at 0x2b9147a6f910>, <matplotlib.collections.PathCollection object at 0x2b9147aebf50>, <matplotlib.collections.PathCollection object at 0x2b9148c625d0>, <matplotlib.collections.PathCollection object at 0x2b9148e62650>, <matplotlib.collections.PathCollection object at 0x2b9148c62c50>, <matplotlib.collections.PathCollection object at 0x2b9148e4f4d0>, <matplotlib.collections.PathCollection object at 0x2b9148eadb50>, <matplotlib.collections.PathCollection object at 0x2b9148e65650>, <matplotlib.collections.PathCollection object at 0x2b9148c60b10>, <matplotlib.collections.PathCollection object at 0x2b9148db3d90>, <matplotlib.collections.PathCollection object at 0x2b9148eade90>, <matplotlib.collections.PathCollection object at 0x2b9147ad81d0>, <matplotlib.collections.PathCollection object at 0x2b9148dc4350>, <matplotlib.collections.PathCollection object at 0x2b9148ea56d0>, <matplotlib.collections.PathCollection object at 0x2b9148ea5a90>, <matplotlib.collections.PathCollection object at 0x2b9148ea5310>, <matplotlib.collections.PathCollection object at 0x2b9148e46250>, <matplotlib.collections.PathCollection object at 0x2b914c0ed2d0>, <matplotlib.collections.PathCollection object at 0x2b914c0ed610>, <matplotlib.collections.PathCollection object at 0x2b914c0edc10>, <matplotlib.collections.PathCollection object at 0x2b914c0ed250>]\n"
     ]
    },
    {
     "name": "stdout",
     "output_type": "stream",
     "text": [
      "23\n",
      "nan\n",
      "0.2886716437185378\n",
      "21\n",
      "[<matplotlib.quiver.Quiver object at 0x2b9147a6f910>, <matplotlib.collections.PathCollection object at 0x2b9148d88710>, <matplotlib.collections.PathCollection object at 0x2b9148deb190>, <matplotlib.collections.PathCollection object at 0x2b9148ba2150>, <matplotlib.collections.PathCollection object at 0x2b9148ea6310>, <matplotlib.collections.PathCollection object at 0x2b9148e67190>, <matplotlib.collections.PathCollection object at 0x2b9148ead390>, <matplotlib.collections.PathCollection object at 0x2b9148c622d0>, <matplotlib.collections.PathCollection object at 0x2b9148b9fa50>, <matplotlib.collections.PathCollection object at 0x2b9148c60250>, <matplotlib.collections.PathCollection object at 0x2b9148ead4d0>, <matplotlib.collections.PathCollection object at 0x2b9148b7bcd0>, <matplotlib.collections.PathCollection object at 0x2b9148ed8450>, <matplotlib.collections.PathCollection object at 0x2b9148ed8f10>, <matplotlib.collections.PathCollection object at 0x2b9148ed8590>, <matplotlib.collections.PathCollection object at 0x2b9148ed8750>, <matplotlib.collections.PathCollection object at 0x2b9148d63a90>, <matplotlib.collections.PathCollection object at 0x2b914c0e1a90>, <matplotlib.collections.PathCollection object at 0x2b9148e9dc50>, <matplotlib.collections.PathCollection object at 0x2b9148e9df50>, <matplotlib.collections.PathCollection object at 0x2b9148b78b10>]\n",
      "24\n",
      "nan\n",
      "0.5308507451857782\n",
      "21\n",
      "[<matplotlib.quiver.Quiver object at 0x2b9147a6f910>, <matplotlib.collections.PathCollection object at 0x2b9148e446d0>, <matplotlib.collections.PathCollection object at 0x2b914c10cd90>, <matplotlib.collections.PathCollection object at 0x2b9148e4a510>, <matplotlib.collections.PathCollection object at 0x2b9148db3350>, <matplotlib.collections.PathCollection object at 0x2b9148c657d0>, <matplotlib.collections.PathCollection object at 0x2b9148ea6fd0>, <matplotlib.collections.PathCollection object at 0x2b9148e62510>, <matplotlib.collections.PathCollection object at 0x2b9148c60cd0>, <matplotlib.collections.PathCollection object at 0x2b9148b9fc50>, <matplotlib.collections.PathCollection object at 0x2b9148ea6b90>, <matplotlib.collections.PathCollection object at 0x2b9148e9bed0>, <matplotlib.collections.PathCollection object at 0x2b9148c0a110>, <matplotlib.collections.PathCollection object at 0x2b9148c0a850>, <matplotlib.collections.PathCollection object at 0x2b9148c0aed0>, <matplotlib.collections.PathCollection object at 0x2b9148eec690>, <matplotlib.collections.PathCollection object at 0x2b914c0bbe50>, <matplotlib.collections.PathCollection object at 0x2b914c0bb1d0>, <matplotlib.collections.PathCollection object at 0x2b914c0bb610>, <matplotlib.collections.PathCollection object at 0x2b914c103d50>, <matplotlib.collections.PathCollection object at 0x2b914c103a50>]\n",
      "25\n",
      "nan\n",
      "0.3840433342689128\n",
      "21\n",
      "[<matplotlib.quiver.Quiver object at 0x2b9147a6f910>, <matplotlib.collections.PathCollection object at 0x2b9148ecadd0>, <matplotlib.collections.PathCollection object at 0x2b9148e22390>, <matplotlib.collections.PathCollection object at 0x2b9148e658d0>, <matplotlib.collections.PathCollection object at 0x2b9148ead5d0>, <matplotlib.collections.PathCollection object at 0x2b9148b78790>, <matplotlib.collections.PathCollection object at 0x2b9148ea6150>, <matplotlib.collections.PathCollection object at 0x2b914c10c1d0>, <matplotlib.collections.PathCollection object at 0x2b914c0bb110>, <matplotlib.collections.PathCollection object at 0x2b9148bf9710>, <matplotlib.collections.PathCollection object at 0x2b9148ea6690>, <matplotlib.collections.PathCollection object at 0x2b914c0ad190>, <matplotlib.collections.PathCollection object at 0x2b914c0ad310>, <matplotlib.collections.PathCollection object at 0x2b914c0ad150>, <matplotlib.collections.PathCollection object at 0x2b914c0ada50>, <matplotlib.collections.PathCollection object at 0x2b914c0a4550>, <matplotlib.collections.PathCollection object at 0x2b914c0a4810>, <matplotlib.collections.PathCollection object at 0x2b914c0a4ad0>, <matplotlib.collections.PathCollection object at 0x2b914c0a4d90>, <matplotlib.collections.PathCollection object at 0x2b914c0a4090>, <matplotlib.collections.PathCollection object at 0x2b9147a4cb90>]\n",
      "26\n",
      "nan\n",
      "0.22125501651896212\n",
      "21\n",
      "[<matplotlib.quiver.Quiver object at 0x2b9147a6f910>, <matplotlib.collections.PathCollection object at 0x2b9148ea42d0>, <matplotlib.collections.PathCollection object at 0x2b9148e00610>, <matplotlib.collections.PathCollection object at 0x2b9148c62e50>, <matplotlib.collections.PathCollection object at 0x2b9148da0c50>, <matplotlib.collections.PathCollection object at 0x2b9148c0a850>, <matplotlib.collections.PathCollection object at 0x2b9148bf9290>, <matplotlib.collections.PathCollection object at 0x2b9148e65650>, <matplotlib.collections.PathCollection object at 0x2b9148b9f310>, <matplotlib.collections.PathCollection object at 0x2b9148c589d0>, <matplotlib.collections.PathCollection object at 0x2b9148bf9090>, <matplotlib.collections.PathCollection object at 0x2b9148e9dbd0>, <matplotlib.collections.PathCollection object at 0x2b9148e9da10>, <matplotlib.collections.PathCollection object at 0x2b9148e9d450>, <matplotlib.collections.PathCollection object at 0x2b9148bb1210>, <matplotlib.collections.PathCollection object at 0x2b9148e0bc10>, <matplotlib.collections.PathCollection object at 0x2b9148c35c90>, <matplotlib.collections.PathCollection object at 0x2b9148c358d0>, <matplotlib.collections.PathCollection object at 0x2b9148c35b10>, <matplotlib.collections.PathCollection object at 0x2b9148c35350>, <matplotlib.collections.PathCollection object at 0x2b9148c35950>]\n",
      "27\n",
      "nan\n",
      "0.2645729275786343\n",
      "21\n",
      "[<matplotlib.quiver.Quiver object at 0x2b9147a6f910>, <matplotlib.collections.PathCollection object at 0x2b9148e4f950>, <matplotlib.collections.PathCollection object at 0x2b9148e679d0>, <matplotlib.collections.PathCollection object at 0x2b914c0ed250>, <matplotlib.collections.PathCollection object at 0x2b9148e62dd0>, <matplotlib.collections.PathCollection object at 0x2b914c0bba90>, <matplotlib.collections.PathCollection object at 0x2b9148b9f2d0>, <matplotlib.collections.PathCollection object at 0x2b9148c62950>, <matplotlib.collections.PathCollection object at 0x2b9148c35910>, <matplotlib.collections.PathCollection object at 0x2b9148ecaa90>, <matplotlib.collections.PathCollection object at 0x2b9148b9fb10>, <matplotlib.collections.PathCollection object at 0x2b9148e9b250>, <matplotlib.collections.PathCollection object at 0x2b9148e9bbd0>, <matplotlib.collections.PathCollection object at 0x2b9148e9bb90>, <matplotlib.collections.PathCollection object at 0x2b9148d9cf50>, <matplotlib.collections.PathCollection object at 0x2b913fba1b90>, <matplotlib.collections.PathCollection object at 0x2b9148e638d0>, <matplotlib.collections.PathCollection object at 0x2b914c0cbb90>, <matplotlib.collections.PathCollection object at 0x2b914c0cb990>, <matplotlib.collections.PathCollection object at 0x2b914c0cba50>, <matplotlib.collections.PathCollection object at 0x2b914c0cb0d0>]\n",
      "28\n",
      "nan\n",
      "0.22596700842707718\n",
      "21\n",
      "[<matplotlib.quiver.Quiver object at 0x2b9147a6f910>, <matplotlib.collections.PathCollection object at 0x2b9148ea5410>, <matplotlib.collections.PathCollection object at 0x2b9148ea5ed0>, <matplotlib.collections.PathCollection object at 0x2b9148c601d0>, <matplotlib.collections.PathCollection object at 0x2b9148c03c50>, <matplotlib.collections.PathCollection object at 0x2b9148b7b7d0>, <matplotlib.collections.PathCollection object at 0x2b9148c35950>, <matplotlib.collections.PathCollection object at 0x2b9148e9b390>, <matplotlib.collections.PathCollection object at 0x2b9148e67810>, <matplotlib.collections.PathCollection object at 0x2b914c0ed790>, <matplotlib.collections.PathCollection object at 0x2b9148c35c10>, <matplotlib.collections.PathCollection object at 0x2b914c0ed6d0>, <matplotlib.collections.PathCollection object at 0x2b914c0ed8d0>, <matplotlib.collections.PathCollection object at 0x2b914c0ed350>, <matplotlib.collections.PathCollection object at 0x2b914c0cb7d0>, <matplotlib.collections.PathCollection object at 0x2b914c0cb890>, <matplotlib.collections.PathCollection object at 0x2b914c0cbb10>, <matplotlib.collections.PathCollection object at 0x2b914c0cbc50>, <matplotlib.collections.PathCollection object at 0x2b914c0cbf50>, <matplotlib.collections.PathCollection object at 0x2b9148d638d0>, <matplotlib.collections.PathCollection object at 0x2b9148d63e10>]\n"
     ]
    },
    {
     "name": "stdout",
     "output_type": "stream",
     "text": [
      "29\n",
      "nan\n",
      "0.29341609266058366\n",
      "21\n",
      "[<matplotlib.quiver.Quiver object at 0x2b9147a6f910>, <matplotlib.collections.PathCollection object at 0x2b9148c65890>, <matplotlib.collections.PathCollection object at 0x2b9148db3b90>, <matplotlib.collections.PathCollection object at 0x2b913ffc4fd0>, <matplotlib.collections.PathCollection object at 0x2b914c0a4250>, <matplotlib.collections.PathCollection object at 0x2b9148dc4090>, <matplotlib.collections.PathCollection object at 0x2b9148e9b7d0>, <matplotlib.collections.PathCollection object at 0x2b914c0ed590>, <matplotlib.collections.PathCollection object at 0x2b9148c60650>, <matplotlib.collections.PathCollection object at 0x2b914c0cba10>, <matplotlib.collections.PathCollection object at 0x2b9148e9b190>, <matplotlib.collections.PathCollection object at 0x2b9148d63610>, <matplotlib.collections.PathCollection object at 0x2b9148d63450>, <matplotlib.collections.PathCollection object at 0x2b9148ec0890>, <matplotlib.collections.PathCollection object at 0x2b9148d5c950>, <matplotlib.collections.PathCollection object at 0x2b9148eb5ed0>, <matplotlib.collections.PathCollection object at 0x2b9148b8f410>, <matplotlib.collections.PathCollection object at 0x2b914c10f9d0>, <matplotlib.collections.PathCollection object at 0x2b914c0e76d0>, <matplotlib.collections.PathCollection object at 0x2b914c0e7f10>, <matplotlib.collections.PathCollection object at 0x2b9148d07c50>]\n",
      "30\n",
      "nan\n",
      "0.32824343199569334\n",
      "21\n",
      "[<matplotlib.quiver.Quiver object at 0x2b9147a6f910>, <matplotlib.collections.PathCollection object at 0x2b9148e4a390>, <matplotlib.collections.PathCollection object at 0x2b9148ea6090>, <matplotlib.collections.PathCollection object at 0x2b9147a42510>, <matplotlib.collections.PathCollection object at 0x2b9148dc1510>, <matplotlib.collections.PathCollection object at 0x2b914c0ed390>, <matplotlib.collections.PathCollection object at 0x2b9148c35f10>, <matplotlib.collections.PathCollection object at 0x2b9148d07c90>, <matplotlib.collections.PathCollection object at 0x2b9148bb1210>, <matplotlib.collections.PathCollection object at 0x2b9148c03890>, <matplotlib.collections.PathCollection object at 0x2b9148c35fd0>, <matplotlib.collections.PathCollection object at 0x2b913ffd8050>, <matplotlib.collections.PathCollection object at 0x2b9148ea5050>, <matplotlib.collections.PathCollection object at 0x2b9148ea5210>, <matplotlib.collections.PathCollection object at 0x2b9148ea5590>, <matplotlib.collections.PathCollection object at 0x2b9148ea56d0>, <matplotlib.collections.PathCollection object at 0x2b9148c3ebd0>, <matplotlib.collections.PathCollection object at 0x2b914c0e1150>, <matplotlib.collections.PathCollection object at 0x2b9148e2d790>, <matplotlib.collections.PathCollection object at 0x2b9148e2d3d0>, <matplotlib.collections.PathCollection object at 0x2b9148e19fd0>]\n",
      "31\n",
      "nan\n",
      "0.4001384148184218\n",
      "21\n",
      "[<matplotlib.quiver.Quiver object at 0x2b9147a6f910>, <matplotlib.collections.PathCollection object at 0x2b9148ead110>, <matplotlib.collections.PathCollection object at 0x2b9148ead4d0>, <matplotlib.collections.PathCollection object at 0x2b9148e00a90>, <matplotlib.collections.PathCollection object at 0x2b9148c60950>, <matplotlib.collections.PathCollection object at 0x2b9148bb1350>, <matplotlib.collections.PathCollection object at 0x2b914c0edbd0>, <matplotlib.collections.PathCollection object at 0x2b9148e19ed0>, <matplotlib.collections.PathCollection object at 0x2b9148e65710>, <matplotlib.collections.PathCollection object at 0x2b914c0bb590>, <matplotlib.collections.PathCollection object at 0x2b914c0edf90>, <matplotlib.collections.PathCollection object at 0x2b9148d73210>, <matplotlib.collections.PathCollection object at 0x2b9148b8fd90>, <matplotlib.collections.PathCollection object at 0x2b9148d1ecd0>, <matplotlib.collections.PathCollection object at 0x2b9148ea5b10>, <matplotlib.collections.PathCollection object at 0x2b9148ea5e10>, <matplotlib.collections.PathCollection object at 0x2b9148ea5c50>, <matplotlib.collections.PathCollection object at 0x2b9148ea5ad0>, <matplotlib.collections.PathCollection object at 0x2b914c10f590>, <matplotlib.collections.PathCollection object at 0x2b914c10f790>, <matplotlib.collections.PathCollection object at 0x2b914c10fe10>]\n",
      "32\n",
      "nan\n",
      "0.3904592439785355\n",
      "21\n",
      "[<matplotlib.quiver.Quiver object at 0x2b9147a6f910>, <matplotlib.collections.PathCollection object at 0x2b9148e22590>, <matplotlib.collections.PathCollection object at 0x2b9148e62110>, <matplotlib.collections.PathCollection object at 0x2b913fcb0850>, <matplotlib.collections.PathCollection object at 0x2b9148b78a50>, <matplotlib.collections.PathCollection object at 0x2b914c0bb4d0>, <matplotlib.collections.PathCollection object at 0x2b9148ea5650>, <matplotlib.collections.PathCollection object at 0x2b9148bb1c50>, <matplotlib.collections.PathCollection object at 0x2b914c0cbf10>, <matplotlib.collections.PathCollection object at 0x2b9148ea6e10>, <matplotlib.collections.PathCollection object at 0x2b9148ea5c50>, <matplotlib.collections.PathCollection object at 0x2b9148e0b450>, <matplotlib.collections.PathCollection object at 0x2b9148d07850>, <matplotlib.collections.PathCollection object at 0x2b9148c62550>, <matplotlib.collections.PathCollection object at 0x2b9148c62a50>, <matplotlib.collections.PathCollection object at 0x2b914c0e1c90>, <matplotlib.collections.PathCollection object at 0x2b914c0e1f90>, <matplotlib.collections.PathCollection object at 0x2b914c0e1a10>, <matplotlib.collections.PathCollection object at 0x2b914c0e1bd0>, <matplotlib.collections.PathCollection object at 0x2b914c0e12d0>, <matplotlib.collections.PathCollection object at 0x2b9148d73e90>]\n",
      "33\n",
      "nan\n",
      "0.4174700544275434\n",
      "21\n",
      "[<matplotlib.quiver.Quiver object at 0x2b9147a6f910>, <matplotlib.collections.PathCollection object at 0x2b914c0a41d0>, <matplotlib.collections.PathCollection object at 0x2b9148c03350>, <matplotlib.collections.PathCollection object at 0x2b9148b9f590>, <matplotlib.collections.PathCollection object at 0x2b9148e65a90>, <matplotlib.collections.PathCollection object at 0x2b9148c35250>, <matplotlib.collections.PathCollection object at 0x2b914c0e7250>, <matplotlib.collections.PathCollection object at 0x2b914c0bb310>, <matplotlib.collections.PathCollection object at 0x2b9148d733d0>, <matplotlib.collections.PathCollection object at 0x2b914c0e14d0>, <matplotlib.collections.PathCollection object at 0x2b914c0e7490>, <matplotlib.collections.PathCollection object at 0x2b9148bb1990>, <matplotlib.collections.PathCollection object at 0x2b9148bb14d0>, <matplotlib.collections.PathCollection object at 0x2b9148dc1850>, <matplotlib.collections.PathCollection object at 0x2b9148db24d0>, <matplotlib.collections.PathCollection object at 0x2b9148e015d0>, <matplotlib.collections.PathCollection object at 0x2b9148babbd0>, <matplotlib.collections.PathCollection object at 0x2b9148dea210>, <matplotlib.collections.PathCollection object at 0x2b9148eba710>, <matplotlib.collections.PathCollection object at 0x2b9148eba650>, <matplotlib.collections.PathCollection object at 0x2b9148da3750>]\n",
      "34\n",
      "nan\n",
      "0.3950720180648193\n",
      "21\n",
      "[<matplotlib.quiver.Quiver object at 0x2b9147a6f910>, <matplotlib.collections.PathCollection object at 0x2b9148b7b550>, <matplotlib.collections.PathCollection object at 0x2b9148da0710>, <matplotlib.collections.PathCollection object at 0x2b9148b8fc90>, <matplotlib.collections.PathCollection object at 0x2b9148c64050>, <matplotlib.collections.PathCollection object at 0x2b913fcb0850>, <matplotlib.collections.PathCollection object at 0x2b9148c35950>, <matplotlib.collections.PathCollection object at 0x2b914c0ed810>, <matplotlib.collections.PathCollection object at 0x2b9148e65350>, <matplotlib.collections.PathCollection object at 0x2b9148ea6b90>, <matplotlib.collections.PathCollection object at 0x2b9148c35390>, <matplotlib.collections.PathCollection object at 0x2b9148e77b10>, <matplotlib.collections.PathCollection object at 0x2b9148e11610>, <matplotlib.collections.PathCollection object at 0x2b9148e46b50>, <matplotlib.collections.PathCollection object at 0x2b9148e46990>, <matplotlib.collections.PathCollection object at 0x2b9148da36d0>, <matplotlib.collections.PathCollection object at 0x2b9148ebab10>, <matplotlib.collections.PathCollection object at 0x2b9148ebae10>, <matplotlib.collections.PathCollection object at 0x2b9148eba910>, <matplotlib.collections.PathCollection object at 0x2b9148eba110>, <matplotlib.collections.PathCollection object at 0x2b9148eba510>]\n"
     ]
    },
    {
     "name": "stdout",
     "output_type": "stream",
     "text": [
      "35\n",
      "nan\n",
      "0.45828066431115044\n",
      "21\n",
      "[<matplotlib.quiver.Quiver object at 0x2b9147a6f910>, <matplotlib.collections.PathCollection object at 0x2b914c10fa90>, <matplotlib.collections.PathCollection object at 0x2b914c10f610>, <matplotlib.collections.PathCollection object at 0x2b914c0e1650>, <matplotlib.collections.PathCollection object at 0x2b9148eb5b10>, <matplotlib.collections.PathCollection object at 0x2b9148e2d590>, <matplotlib.collections.PathCollection object at 0x2b914c0edd10>, <matplotlib.collections.PathCollection object at 0x2b9148b8ffd0>, <matplotlib.collections.PathCollection object at 0x2b9148e9b390>, <matplotlib.collections.PathCollection object at 0x2b9148e46750>, <matplotlib.collections.PathCollection object at 0x2b914c0eddd0>, <matplotlib.collections.PathCollection object at 0x2b914c0adf10>, <matplotlib.collections.PathCollection object at 0x2b9148e44c90>, <matplotlib.collections.PathCollection object at 0x2b9148e44250>, <matplotlib.collections.PathCollection object at 0x2b9148e44950>, <matplotlib.collections.PathCollection object at 0x2b9148ba6710>, <matplotlib.collections.PathCollection object at 0x2b9148ba6c90>, <matplotlib.collections.PathCollection object at 0x2b9148d882d0>, <matplotlib.collections.PathCollection object at 0x2b9148d88d10>, <matplotlib.collections.PathCollection object at 0x2b9148d88bd0>, <matplotlib.collections.PathCollection object at 0x2b9148d88f50>]\n",
      "36\n",
      "nan\n",
      "0.4246136623356152\n",
      "21\n",
      "[<matplotlib.quiver.Quiver object at 0x2b9147a6f910>, <matplotlib.collections.PathCollection object at 0x2b9148e0b450>, <matplotlib.collections.PathCollection object at 0x2b914c0bb050>, <matplotlib.collections.PathCollection object at 0x2b9148e01250>, <matplotlib.collections.PathCollection object at 0x2b9148eca450>, <matplotlib.collections.PathCollection object at 0x2b9148c60e50>, <matplotlib.collections.PathCollection object at 0x2b914c0ed710>, <matplotlib.collections.PathCollection object at 0x2b9148d88210>, <matplotlib.collections.PathCollection object at 0x2b9148d63150>, <matplotlib.collections.PathCollection object at 0x2b9148e65190>, <matplotlib.collections.PathCollection object at 0x2b914c0ed150>, <matplotlib.collections.PathCollection object at 0x2b9148e62410>, <matplotlib.collections.PathCollection object at 0x2b9148e62c10>, <matplotlib.collections.PathCollection object at 0x2b9148bf99d0>, <matplotlib.collections.PathCollection object at 0x2b9148bf93d0>, <matplotlib.collections.PathCollection object at 0x2b9148e67890>, <matplotlib.collections.PathCollection object at 0x2b9148e67910>, <matplotlib.collections.PathCollection object at 0x2b9148e67250>, <matplotlib.collections.PathCollection object at 0x2b9148e63510>, <matplotlib.collections.PathCollection object at 0x2b9148e63910>, <matplotlib.collections.PathCollection object at 0x2b9148e63b90>]\n",
      "37\n",
      "nan\n",
      "0.3173935126126271\n",
      "21\n",
      "[<matplotlib.quiver.Quiver object at 0x2b9147a6f910>, <matplotlib.collections.PathCollection object at 0x2b9148c034d0>, <matplotlib.collections.PathCollection object at 0x2b9148b9fd90>, <matplotlib.collections.PathCollection object at 0x2b914c0cba50>, <matplotlib.collections.PathCollection object at 0x2b9148ea6a50>, <matplotlib.collections.PathCollection object at 0x2b9148ebae90>, <matplotlib.collections.PathCollection object at 0x2b9148d88c10>, <matplotlib.collections.PathCollection object at 0x2b914c0bb710>, <matplotlib.collections.PathCollection object at 0x2b9148c64650>, <matplotlib.collections.PathCollection object at 0x2b9148c65f50>, <matplotlib.collections.PathCollection object at 0x2b9148d887d0>, <matplotlib.collections.PathCollection object at 0x2b914c0ad310>, <matplotlib.collections.PathCollection object at 0x2b914c0ad190>, <matplotlib.collections.PathCollection object at 0x2b9148db2ad0>, <matplotlib.collections.PathCollection object at 0x2b9148eca890>, <matplotlib.collections.PathCollection object at 0x2b9148ecaa50>, <matplotlib.collections.PathCollection object at 0x2b9148eca550>, <matplotlib.collections.PathCollection object at 0x2b9148ecacd0>, <matplotlib.collections.PathCollection object at 0x2b9148e4ee90>, <matplotlib.collections.PathCollection object at 0x2b9148e4e950>, <matplotlib.collections.PathCollection object at 0x2b9148e4e450>]\n",
      "38\n",
      "nan\n",
      "0.2681784585871604\n",
      "21\n",
      "[<matplotlib.quiver.Quiver object at 0x2b9147a6f910>, <matplotlib.collections.PathCollection object at 0x2b9148c35290>, <matplotlib.collections.PathCollection object at 0x2b9148c353d0>, <matplotlib.collections.PathCollection object at 0x2b9148e9bbd0>, <matplotlib.collections.PathCollection object at 0x2b9148d9cfd0>, <matplotlib.collections.PathCollection object at 0x2b9148e013d0>, <matplotlib.collections.PathCollection object at 0x2b9148eba310>, <matplotlib.collections.PathCollection object at 0x2b914c0cb850>, <matplotlib.collections.PathCollection object at 0x2b9148c65190>, <matplotlib.collections.PathCollection object at 0x2b9148c646d0>, <matplotlib.collections.PathCollection object at 0x2b9148ebae90>, <matplotlib.collections.PathCollection object at 0x2b9148e4e390>, <matplotlib.collections.PathCollection object at 0x2b9148e4e110>, <matplotlib.collections.PathCollection object at 0x2b9148e4e050>, <matplotlib.collections.PathCollection object at 0x2b9148e4e3d0>, <matplotlib.collections.PathCollection object at 0x2b9148e4e2d0>, <matplotlib.collections.PathCollection object at 0x2b9148e9dc10>, <matplotlib.collections.PathCollection object at 0x2b9148e4a1d0>, <matplotlib.collections.PathCollection object at 0x2b9148deb290>, <matplotlib.collections.PathCollection object at 0x2b9148debc10>, <matplotlib.collections.PathCollection object at 0x2b9148deb110>]\n",
      "39\n",
      "nan\n",
      "0.2540420986671415\n",
      "21\n",
      "[<matplotlib.quiver.Quiver object at 0x2b9147a6f910>, <matplotlib.collections.PathCollection object at 0x2b9148ba96d0>, <matplotlib.collections.PathCollection object at 0x2b9148d53ed0>, <matplotlib.collections.PathCollection object at 0x2b914c0ed590>, <matplotlib.collections.PathCollection object at 0x2b9148e65190>, <matplotlib.collections.PathCollection object at 0x2b914c0e1ad0>, <matplotlib.collections.PathCollection object at 0x2b9148ec6d90>, <matplotlib.collections.PathCollection object at 0x2b9148d5ca90>, <matplotlib.collections.PathCollection object at 0x2b9148c62750>, <matplotlib.collections.PathCollection object at 0x2b9148e63910>, <matplotlib.collections.PathCollection object at 0x2b9148ec6bd0>, <matplotlib.collections.PathCollection object at 0x2b9148ea4110>, <matplotlib.collections.PathCollection object at 0x2b9148ea4710>, <matplotlib.collections.PathCollection object at 0x2b9148c35310>, <matplotlib.collections.PathCollection object at 0x2b9148c35350>, <matplotlib.collections.PathCollection object at 0x2b9148c35750>, <matplotlib.collections.PathCollection object at 0x2b9148c35150>, <matplotlib.collections.PathCollection object at 0x2b9148e9b810>, <matplotlib.collections.PathCollection object at 0x2b9148e9b390>, <matplotlib.collections.PathCollection object at 0x2b9148e9b210>, <matplotlib.collections.PathCollection object at 0x2b9148e9b490>]\n"
     ]
    }
   ],
   "source": [
    "tt: int=0\n",
    "def updateData(tt):\n",
    "\n",
    "    grid_U = griddata(points_u,(ds1.UVEL.isel(time=tt,Z=6).values).flatten(),(grid_x, grid_y))\n",
    "    grid_V = griddata(points_v,(ds1.VVEL.isel(time=tt,Z=6).values).flatten(),(grid_x, grid_y))\n",
    "    print(tt)\n",
    "    print(np.amax(grid_U))\n",
    "    print(np.amax(grid_V))\n",
    "    updatetime = time[tt]\n",
    "    ax2.collections[0:numcolt-1] = []\n",
    "    ax2.contourf(ds1.XC0, ds1.YC0, ds1.THETA.isel(time=tt,Z=6), levels, **opts)\n",
    "    print(np.size(ax2.collections))\n",
    "    print(ax2.collections)\n",
    "    ax2.collections.append(ax2.collections.pop(0))\n",
    "    quiv.set_UVC(grid_U,grid_V)\n",
    "    point.set_data(updatetime,ds1.UVEL.isel(time=tt,YC=60,XG=0,Z=0))\n",
    "    ax1.set_title('t= %2.3fhr' % updatetime)\n",
    "    fig1 = plt.gcf()\n",
    "    fig.savefig('./figsMag2/summary_TUvec_z6_xy_t%s.png' %(tt+100))\n",
    "\n",
    "\n",
    "\n",
    "simulation = animation.FuncAnimation(fig, updateData, blit=False, frames= 40 , interval=40, repeat=False)\n",
    "plt.draw()\n",
    "plt.show()\n",
    "simulation.save(filename='summary_TUvec_z6_xy.gif', writer='imagemagick', fps=2)"
   ]
  },
  {
   "cell_type": "code",
   "execution_count": 13,
   "metadata": {},
   "outputs": [
    {
     "data": {
      "text/html": [
       "<img src=\"./summary_TUvec_z6_xy.gif\"/>"
      ],
      "text/plain": [
       "<IPython.core.display.Image object>"
      ]
     },
     "metadata": {},
     "output_type": "display_data"
    }
   ],
   "source": [
    "from IPython.display import Image\n",
    "from IPython.display import display\n",
    "display(Image(url='./summary_TUvec_z6_xy.gif'))"
   ]
  },
  {
   "cell_type": "code",
   "execution_count": null,
   "metadata": {},
   "outputs": [],
   "source": []
  }
 ],
 "metadata": {
  "kernelspec": {
   "display_name": "Python 3",
   "language": "python",
   "name": "python3"
  },
  "language_info": {
   "codemirror_mode": {
    "name": "ipython",
    "version": 3
   },
   "file_extension": ".py",
   "mimetype": "text/x-python",
   "name": "python",
   "nbconvert_exporter": "python",
   "pygments_lexer": "ipython3",
   "version": "3.7.7"
  }
 },
 "nbformat": 4,
 "nbformat_minor": 2
}
