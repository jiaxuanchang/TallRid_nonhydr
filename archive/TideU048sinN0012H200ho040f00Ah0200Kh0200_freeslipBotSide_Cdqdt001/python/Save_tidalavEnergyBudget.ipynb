{
 "cells": [
  {
   "cell_type": "code",
   "execution_count": 1,
   "metadata": {},
   "outputs": [],
   "source": [
    "from xmitgcm import open_mdsdataset\n",
    "import xgcm\n",
    "import os\n",
    "import matplotlib.pyplot as plt\n",
    "from mpl_toolkits.axes_grid1 import host_subplot\n",
    "import pandas as pd\n",
    "import numpy as np\n",
    "import xarray as xr\n",
    "import math"
   ]
  },
  {
   "cell_type": "code",
   "execution_count": 2,
   "metadata": {},
   "outputs": [
    {
     "name": "stdout",
     "output_type": "stream",
     "text": [
      "/scratch/jxchang/HighRes2/results/TideU008N0LinH200ho140Ah0200Cdqdt003/input/\n"
     ]
    }
   ],
   "source": [
    "#os.chdir('/home/jxchang/projects/def-jklymak/jxchang/HighRes1/results/TideU008N0LinH200ho140Ah0200Cdqdt003/python')\n",
    "currentDirectory = os.getcwd()\n",
    "data_dir = currentDirectory[:-7] + '/input/'\n",
    "print(data_dir)"
   ]
  },
  {
   "cell_type": "code",
   "execution_count": 3,
   "metadata": {},
   "outputs": [
    {
     "name": "stdout",
     "output_type": "stream",
     "text": [
      "Frozen(SortedKeysDict({'YC': (120,), 'XC': (1488,), 'YG': (120,), 'XG': (1488,), 'Zp1': (41,), 'Z': (40,), 'time': (1, 1, 1, 1, 1, 1, 1, 1, 1, 1, 1, 1, 1, 1, 1, 1, 1, 1, 1, 1, 1, 1, 1, 1, 1, 1, 1, 1, 1, 1, 1, 1, 1, 1, 1, 1, 1, 1, 1, 1, 1, 1, 1, 1, 1, 1, 1, 1, 1, 1, 1, 1, 1, 1, 1, 1, 1, 1, 1, 1, 1, 1, 1, 1, 1, 1, 1, 1, 1, 1, 1, 1, 1, 1, 1, 1, 1, 1, 1, 1, 1, 1, 1, 1, 1, 1, 1, 1, 1, 1, 1, 1, 1, 1, 1, 1, 1, 1, 1, 1, 1, 1, 1, 1, 1, 1, 1, 1, 1, 1, 1, 1, 1, 1, 1, 1, 1, 1, 1, 1, 1, 1, 1, 1, 1, 1, 1, 1, 1, 1, 1, 1, 1, 1, 1, 1, 1, 1, 1, 1, 1, 1, 1, 1, 1, 1, 1, 1, 1, 1, 1, 1, 1, 1, 1, 1, 1, 1, 1, 1, 1, 1, 1, 1, 1, 1, 1, 1, 1, 1, 1, 1, 1), 'Zl': (40,)}))\n",
      "Frozen(SortedKeysDict({'YC': (120,), 'XC': (360, 360, 360, 360, 48), 'YG': (120,), 'XG': (360, 360, 360, 360, 48), 'Zp1': (41,), 'Z': (40,), 'time': (1, 1, 1, 1, 1, 1, 1, 1, 1, 1, 1, 1, 1, 1, 1, 1, 1, 1, 1, 1, 1, 1, 1, 1, 1, 1, 1, 1, 1, 1, 1, 1, 1, 1, 1, 1, 1, 1, 1, 1, 1, 1, 1, 1, 1, 1, 1, 1, 1, 1, 1, 1, 1, 1, 1, 1, 1, 1, 1, 1, 1, 1, 1, 1, 1, 1, 1, 1, 1, 1, 1, 1, 1, 1, 1, 1, 1, 1, 1, 1, 1, 1, 1, 1, 1, 1, 1, 1, 1, 1, 1, 1, 1, 1, 1, 1, 1, 1, 1, 1, 1, 1, 1, 1, 1, 1, 1, 1, 1, 1, 1, 1, 1, 1, 1, 1, 1, 1, 1, 1, 1, 1, 1, 1, 1, 1, 1, 1, 1, 1, 1, 1, 1, 1, 1, 1, 1, 1, 1, 1, 1, 1, 1, 1, 1, 1, 1, 1, 1, 1, 1, 1, 1, 1, 1, 1, 1, 1, 1, 1, 1, 1, 1, 1, 1, 1, 1, 1, 1, 1, 1, 1, 1), 'Zl': (40,)}))\n"
     ]
    }
   ],
   "source": [
    "ds1 = open_mdsdataset(data_dir, geometry='cartesian',endian='<',prefix=['statevars','energyvars'])\n",
    "print(ds1.chunks)\n",
    "ds1 = ds1.chunk(chunks={\"XG\":360,\"XC\":360})\n",
    "print(ds1.chunks)"
   ]
  },
  {
   "cell_type": "code",
   "execution_count": 4,
   "metadata": {},
   "outputs": [
    {
     "name": "stdout",
     "output_type": "stream",
     "text": [
      "<xgcm.Grid>\n",
      "Y Axis (not periodic, boundary=None):\n",
      "  * center   YC --> left\n",
      "  * left     YG --> center\n",
      "X Axis (not periodic, boundary=None):\n",
      "  * center   XC --> left\n",
      "  * left     XG --> center\n",
      "T Axis (not periodic, boundary=None):\n",
      "  * center   time\n",
      "Z Axis (not periodic, boundary=None):\n",
      "  * center   Z --> left\n",
      "  * left     Zl --> center\n",
      "  * outer    Zp1 --> center\n",
      "  * right    Zu --> center\n"
     ]
    }
   ],
   "source": [
    "ds2 = open_mdsdataset(data_dir, geometry='cartesian', endian='<',prefix=['energymvars'])\n",
    "ds2 = ds2.chunk(chunks={\"XG\":360,\"XC\":360})\n",
    "\n",
    "grid = xgcm.Grid(ds1, periodic=False)\n",
    "print(grid)"
   ]
  },
  {
   "cell_type": "code",
   "execution_count": 5,
   "metadata": {},
   "outputs": [],
   "source": [
    "xmin = 13000\n",
    "xmax = 67000\n",
    "ymin = 0\n",
    "ymax = 3000\n",
    "numcolt=21\n",
    "numcolv=21"
   ]
  },
  {
   "cell_type": "code",
   "execution_count": 6,
   "metadata": {},
   "outputs": [
    {
     "name": "stdout",
     "output_type": "stream",
     "text": [
      "12 1023\n",
      "0 119\n"
     ]
    }
   ],
   "source": [
    "time1=ds1.coords['time'].values/np.timedelta64(1, 's')\n",
    "time=ds2.coords['time'].values/np.timedelta64(1, 's')\n",
    "xc=ds1.coords['XC']\n",
    "xg=ds1.coords['XG']\n",
    "yc=ds1.coords['YC']\n",
    "yg=ds1.coords['YG']\n",
    "z=ds1.coords['Z']\n",
    "ix=[i for i, e in enumerate(xc) if (e > xmin) & (e < xmax)]\n",
    "iy=[i for i, e in enumerate(yc) if (e > ymin) & (e < ymax)]\n",
    "print(ix[0],ix[-1])\n",
    "print(iy[0],iy[-1])"
   ]
  },
  {
   "cell_type": "code",
   "execution_count": 7,
   "metadata": {},
   "outputs": [],
   "source": [
    "viscAh=2.e-2\n",
    "rhoNil=999.8\n",
    "T=12.4*3600"
   ]
  },
  {
   "cell_type": "code",
   "execution_count": 8,
   "metadata": {},
   "outputs": [
    {
     "name": "stdout",
     "output_type": "stream",
     "text": [
      "the length of time:173\n"
     ]
    }
   ],
   "source": [
    "ttlen=len(ds1.time)\n",
    "print('the length of time:' + str(ttlen) )"
   ]
  },
  {
   "cell_type": "code",
   "execution_count": 9,
   "metadata": {},
   "outputs": [
    {
     "name": "stdout",
     "output_type": "stream",
     "text": [
      "dt:1860.0\n"
     ]
    }
   ],
   "source": [
    "dt=time[1]-time[0]\n",
    "print('dt:' +str(dt))"
   ]
  },
  {
   "cell_type": "code",
   "execution_count": 10,
   "metadata": {},
   "outputs": [
    {
     "name": "stdout",
     "output_type": "stream",
     "text": [
      "time_bin_labels:[ 22320.  66960. 111600. 156240. 200880. 245520. 290160.]\n",
      "7.166666666666667\n",
      "time_bin:TimedeltaIndex(['0 days 00:00:00', '0 days 12:24:20', '1 days 00:48:40',\n",
      "                '1 days 13:13:00', '2 days 01:37:20', '2 days 14:01:40',\n",
      "                '3 days 02:26:00', '3 days 14:50:20'],\n",
      "               dtype='timedelta64[ns]', freq='44660S')\n"
     ]
    }
   ],
   "source": [
    "time_bin_labels = np.arange(12.4*60*60/2,time[-1]-20000,12.4*60*60)\n",
    "print('time_bin_labels:' +str(time_bin_labels))\n",
    "\n",
    "print(time[-1]/T)\n",
    "nT=math.floor(time[-1]/T)\n",
    "\n",
    "time_bin = pd.timedelta_range(0, periods=nT+1,freq='44660S')\n",
    "print('time_bin:' + str(time_bin))\n",
    "time_ns = pd.timedelta_range(0, periods=ttlen,freq='1860S')"
   ]
  },
  {
   "cell_type": "code",
   "execution_count": null,
   "metadata": {},
   "outputs": [],
   "source": []
  },
  {
   "cell_type": "code",
   "execution_count": 11,
   "metadata": {},
   "outputs": [],
   "source": [
    "# depth mean velocity\n",
    "U0W=((ds1['UVEL']*ds1['drF']*ds1['hFacW']).sum('Z'))/(ds1.drF*ds1.hFacW*ds1.maskW).sum('Z')\n",
    "V0S=((ds1['VVEL']*ds1['drF']*ds1['hFacS']).sum('Z'))/(ds1.drF*ds1.hFacS*ds1.maskS).sum('Z')\n",
    "ds1['U0W']=xr.DataArray(U0W.data,coords=[time_ns,yc,xg],dims=['time','YC','XG'])\n",
    "ds1['V0S']=xr.DataArray(V0S.data,coords=[time_ns,yg,xc],dims=['time','YG','XC'])\n",
    "del U0W,V0S"
   ]
  },
  {
   "cell_type": "code",
   "execution_count": 12,
   "metadata": {},
   "outputs": [],
   "source": [
    "# baroclinic velocity\n",
    "ds1['maskL']=grid.interp(ds1.hFacC,'Z',to='left', boundary='extrapolate')  #mask for wvel\n",
    "ds1['upW']=(ds1['UVEL']-ds1['U0W'])*ds1['maskW']\n",
    "ds1['vpS']=(ds1['VVEL']-ds1['V0S'])*ds1['maskS']\n",
    "wp=ds1['WVEL'].where(ds1['maskL'] !=0, np.nan)"
   ]
  },
  {
   "cell_type": "code",
   "execution_count": 13,
   "metadata": {},
   "outputs": [
    {
     "name": "stdout",
     "output_type": "stream",
     "text": [
      "('Zl', 'YC', 'XG')\n",
      "('Zl', 'YG', 'XC')\n"
     ]
    }
   ],
   "source": [
    "# calculate horizontal dissipation\n",
    "# setup other masks and hFac and dr\n",
    "ds1['maskZ'] = grid.interp(ds1.hFacS, 'X', boundary='extrapolate') #for dvdx\n",
    "ds1['hFacZ'] = grid.interp(ds1.hFacS, 'X', boundary='extrapolate') #for dvdx\n",
    "ds1['hFacWL'] = grid.interp(ds1.hFacW, 'Z', to='left', boundary='extrapolate')  #for dwdx\n",
    "print(ds1.hFacWL.dims)\n",
    "ds1['hFacSL'] = grid.interp(ds1.hFacS, 'Z', to='left', boundary='extrapolate')  #for dwdy\n",
    "print(ds1.hFacSL.dims)\n",
    "ds1['drL']=grid.interp(ds1.drF, 'Z', to='left', boundary='extrapolate')"
   ]
  },
  {
   "cell_type": "code",
   "execution_count": 14,
   "metadata": {},
   "outputs": [],
   "source": [
    "# 1 for dudx and dvdy, 2 for dvdx and dudy, 31 for dwdx, 32 for dwdy \n",
    "# separately calculate because grids are different\n",
    "hDispbc1 = rhoNil*viscAh*(((grid.diff(ds1.upW* ds1.dyG , 'X', boundary='extrapolate')/ds1.rA)**2\n",
    "                           +(grid.diff(ds1.vpS* ds1.dxG , 'Y', boundary='extrapolate')/ds1.rA)**2)*(ds1['drF']*ds1['hFacC'])).sum('Z')  #dudx & dvdy\n",
    "hDispbc2 = rhoNil*viscAh*(((grid.diff(ds1.vpS* ds1.dyC , 'X', boundary='extrapolate')/ds1.rAz)**2\n",
    "                           +(grid.diff(ds1.upW* ds1.dxC , 'Y', boundary='extrapolate')/ds1.rAz)**2)*(ds1['drF']*ds1['hFacZ'])).sum('Z') #dvdx & dudy\n",
    "hDispbc31 = rhoNil*viscAh*(((grid.diff(wp ,'X',boundary='extrapolate')/ds1.dxC)**2)*(ds1['drL']*ds1['hFacWL'])).sum('Zl')  #dwdx\n",
    "hDispbc32 = rhoNil*viscAh*(((grid.diff(wp ,'Y',boundary='extrapolate')/ds1.dyC)**2)*(ds1['drL']*ds1['hFacSL'])).sum('Zl')  #dwdy"
   ]
  },
  {
   "cell_type": "code",
   "execution_count": 15,
   "metadata": {},
   "outputs": [],
   "source": [
    "# tidally averaged\n",
    "ta_hDispbc1 = hDispbc1.groupby_bins('time',time_bin,labels=time_bin_labels).mean()\n",
    "ta_hDispbc2 = hDispbc2.groupby_bins('time',time_bin,labels=time_bin_labels).mean()\n",
    "ta_hDispbc31 = hDispbc31.groupby_bins('time',time_bin,labels=time_bin_labels).mean()\n",
    "ta_hDispbc32 = hDispbc32.groupby_bins('time',time_bin,labels=time_bin_labels).mean()"
   ]
  },
  {
   "cell_type": "code",
   "execution_count": 16,
   "metadata": {},
   "outputs": [],
   "source": [
    "# area integrated, all become only the function of time\n",
    "hDsspbc1=(ta_hDispbc1*ds2['rA']).sel(XC=xc[(xc > xmin) & (xc < xmax)],YC=yc[(yc > ymin) & (yc < ymax)]).sum(['XC','YC'])/1e6\n",
    "hDsspbc2=(ta_hDispbc2*ds2['rAz']).sel(XG=xg[(xg > xmin) & (xg < xmax)],YG=yg[(yg > ymin) & (yg < ymax)]).sum(['XG','YG'])/1e6\n",
    "hDsspbc31=(ta_hDispbc31*ds2['rAw']).sel(XG=xg[(xg > xmin) & (xg < xmax)],YC=yc[(yc > ymin) & (yc < ymax)]).sum(['XG','YC'])/1e6\n",
    "hDsspbc32=(ta_hDispbc32*ds2['rAs']).sel(XC=xc[(xc > xmin) & (xc < xmax)],YG=yg[(yg > ymin) & (yg < ymax)]).sum(['XC','YG'])/1e6"
   ]
  },
  {
   "cell_type": "code",
   "execution_count": 17,
   "metadata": {},
   "outputs": [],
   "source": [
    "# which can be added together\n",
    "hDsspbc=hDsspbc1+hDsspbc2+hDsspbc31+hDsspbc32\n",
    "del hDsspbc1, hDsspbc2, hDsspbc31, hDsspbc32"
   ]
  },
  {
   "cell_type": "code",
   "execution_count": 18,
   "metadata": {},
   "outputs": [
    {
     "name": "stdout",
     "output_type": "stream",
     "text": [
      "dtEbc(173, 120, 1488)\n"
     ]
    }
   ],
   "source": [
    "# dEbtdt, the rate of baroctropic energy\n",
    "dtEbt=np.gradient(ds1.SDIAG1.values*rhoNil,dt,axis=0)\n",
    "print('dtEbc'+str(dtEbt.shape))\n",
    "ddtEbt = xr.DataArray(dtEbt.data, coords=[ds1.time.values,yc,xc], dims=['time','YC', 'XC'])\n",
    "ta_dtEbt = ddtEbt.groupby_bins('time',time_bin,labels=time_bin_labels).mean()\n",
    "DtdEbt = (ta_dtEbt*ds2['rA']).sel(XC=xc[(xc > xmin) & (xc < xmax)],YC=yc[(yc > ymin) & (yc < ymax)]).sum(['XC','YC'])/1e6"
   ]
  },
  {
   "cell_type": "code",
   "execution_count": 19,
   "metadata": {},
   "outputs": [
    {
     "name": "stdout",
     "output_type": "stream",
     "text": [
      "dtEbc(173, 120, 1488)\n"
     ]
    }
   ],
   "source": [
    "# dEbcdt, the rate of baroclinic energy\n",
    "Ebc=rhoNil*ds1['SDIAG5']\n",
    "dtEbc=np.gradient(Ebc,dt,axis=0)\n",
    "print('dtEbc'+str(dtEbc.shape))\n",
    "ddtEbc = xr.DataArray(dtEbc.data, coords=[ds1.time.values,yc,xc], dims=['time','YC', 'XC'])\n",
    "ta_dtEbc = ddtEbc.groupby_bins('time',time_bin,labels=time_bin_labels).mean()\n",
    "DtdEbc= (ta_dtEbc*ds2['rA']).sel(XC=xc[(xc > xmin) & (xc < xmax)],YC=yc[(yc > ymin) & (yc < ymax)]).sum(['XC','YC'])/1e6\n",
    "del Ebc, dtEbc"
   ]
  },
  {
   "cell_type": "code",
   "execution_count": 20,
   "metadata": {},
   "outputs": [],
   "source": [
    "# hdFbt\n",
    "Fxbt=ds2.SDIAG2+ds2.SDIAG4\n",
    "Fybt=ds2.SDIAG3\n",
    "Fxbt=xr.DataArray(rhoNil*Fxbt.values, coords=[ds2.time.values,yc,xg], dims=['time','YC','XG'])\n",
    "Fybt=xr.DataArray(rhoNil*Fybt.values, coords=[ds2.time.values,yg,xc], dims=['time','YG','XC'])\n",
    "ta_Fxbt=Fxbt.groupby_bins('time',time_bin,labels=time_bin_labels).mean()\n",
    "ta_Fybt=Fybt.groupby_bins('time',time_bin,labels=time_bin_labels).mean()\n",
    "hd_ta_Fbt=(grid.diff(ta_Fxbt*ds2['dyG'],'X',boundary='extrapolate')+grid.diff(ta_Fybt*ds2['dxG'],'Y',boundary='extrapolate'))/ds2['rA']\n",
    "BTrad=(hd_ta_Fbt*ds2['rA']).sel(XC=xc[(xc > xmin) & (xc < xmax)],YC=yc[(yc > ymin) & (yc < ymax)]).sum(['XC','YC'])/1e6\n",
    "BTfxdy=((ta_Fxbt*ds2['dyG']).isel(XG=ix[-1])-(ta_Fxbt*ds2['dyG']).isel(XG=ix[0])).sum('YC')/1e6"
   ]
  },
  {
   "cell_type": "code",
   "execution_count": 21,
   "metadata": {},
   "outputs": [],
   "source": [
    "# hdFbc\n",
    "uPbc=xr.DataArray(rhoNil*ds2['SDIAG6'].data, coords=[ds2.time.values,yc,xg], dims=['time','YC','XG'])\n",
    "vPbc=xr.DataArray(rhoNil*ds2['SDIAG7'].data, coords=[ds2.time.values,yg,xc], dims=['time','YG','XC'])\n",
    "uEbc=xr.DataArray(rhoNil*ds2['SDIAG8'].data, coords=[ds2.time.values,yc,xg], dims=['time','YC','XG'])\n",
    "vEbc=xr.DataArray(rhoNil*ds2['SDIAG9'].data, coords=[ds2.time.values,yg,xc], dims=['time','YG','XC'])\n",
    "#print(uPbc)\n",
    "#print(uEbc)\n",
    "Fxbc=uPbc+uEbc\n",
    "Fybc=vPbc+vEbc\n",
    "ta_Fxbc=Fxbc.groupby_bins('time',time_bin,labels=time_bin_labels).mean()\n",
    "ta_Fybc=Fybc.groupby_bins('time',time_bin,labels=time_bin_labels).mean()\n",
    "#print(Fbc)\n",
    "hd_ta_Fbc=(grid.diff(ta_Fxbc*ds2['dyG'],'X',boundary='extrapolate')+grid.diff(ta_Fybc*ds2['dxG'],'Y',boundary='extrapolate'))/ds2['rA']\n",
    "BCrad=(hd_ta_Fbc*ds2['rA']).sel(XC=xc[(xc > xmin) & (xc < xmax)],YC=yc[(yc > ymin) & (yc < ymax)]).sum(['XC','YC'])/1e6\n",
    "BCfxdy=((ta_Fxbc*ds2['dyG']).isel(XG=ix[-1])-(ta_Fxbc*ds2['dyG']).isel(XG=ix[0])).sum('YC')/1e6\n",
    "del uPbc, vPbc, uEbc, vEbc, Fxbc, Fybc"
   ]
  },
  {
   "cell_type": "code",
   "execution_count": 22,
   "metadata": {},
   "outputs": [
    {
     "name": "stdout",
     "output_type": "stream",
     "text": [
      "C<xarray.DataArray (time_bins: 7)>\n",
      "dask.array<truediv, shape=(7,), dtype=float64, chunksize=(7,), chunktype=numpy.ndarray>\n",
      "Coordinates:\n",
      "  * time_bins  (time_bins) float64 2.232e+04 6.696e+04 ... 2.455e+05 2.902e+05\n"
     ]
    }
   ],
   "source": [
    "# BC-BT conversion\n",
    "Conv=xr.DataArray(rhoNil*ds2['SDIAG10'], coords=[ds2.time.values,yc,xc], dims=['time','YC','XC'])\n",
    "#print('Conv'+str(Conv))\n",
    "ta_Conv=Conv.groupby_bins('time',time_bin,labels=time_bin_labels).mean()\n",
    "#print('ta_Conv'+str(ta_Conv))\n",
    "C=(ta_Conv*ds2['rA']).sel(XC=xc[(xc > xmin) & (xc < xmax)],YC=yc[(yc > ymin) & (yc < ymax)]).sum(['XC','YC'])/1e6\n",
    "print('C'+str(C))"
   ]
  },
  {
   "cell_type": "code",
   "execution_count": 23,
   "metadata": {},
   "outputs": [
    {
     "name": "stdout",
     "output_type": "stream",
     "text": [
      "<xarray.DataArray 'KLeps' (time: 173, YC: 120, XC: 1488)>\n",
      "dask.array<sum-aggregate, shape=(173, 120, 1488), dtype=float64, chunksize=(1, 120, 360), chunktype=numpy.ndarray>\n",
      "Coordinates:\n",
      "  * XC       (XC) float64 612.4 1.821e+03 2.997e+03 ... 1.182e+05 1.194e+05\n",
      "  * YC       (YC) float64 12.5 37.5 62.5 87.5 ... 2.938e+03 2.962e+03 2.988e+03\n",
      "    rA       (YC, XC) float64 dask.array<chunksize=(120, 360), meta=np.ndarray>\n",
      "    Depth    (YC, XC) float64 dask.array<chunksize=(120, 360), meta=np.ndarray>\n",
      "    maskInC  (YC, XC) bool dask.array<chunksize=(120, 360), meta=np.ndarray>\n",
      "    iter     (time) int64 dask.array<chunksize=(1,), meta=np.ndarray>\n",
      "  * time     (time) timedelta64[ns] 00:00:00 00:31:00 ... 3 days 16:52:00\n",
      "vDsp<xarray.DataArray 'sum-aggregate-7cd8da4bd76e48c73b79e700c0e88c21' (time: 173, YC: 120, XC: 1488)>\n",
      "dask.array<sum-aggregate, shape=(173, 120, 1488), dtype=float64, chunksize=(1, 120, 360), chunktype=numpy.ndarray>\n",
      "Coordinates:\n",
      "  * time     (time) timedelta64[ns] 00:00:00 00:31:00 ... 3 days 16:52:00\n",
      "  * YC       (YC) float64 12.5 37.5 62.5 87.5 ... 2.938e+03 2.962e+03 2.988e+03\n",
      "  * XC       (XC) float64 612.4 1.821e+03 2.997e+03 ... 1.182e+05 1.194e+05\n",
      "ta_dsp<xarray.DataArray 'sum-aggregate-7cd8da4bd76e48c73b79e700c0e88c21' (time_bins: 7, YC: 120, XC: 1488)>\n",
      "dask.array<stack, shape=(7, 120, 1488), dtype=float64, chunksize=(1, 120, 360), chunktype=numpy.ndarray>\n",
      "Coordinates:\n",
      "  * time_bins  (time_bins) float64 2.232e+04 6.696e+04 ... 2.455e+05 2.902e+05\n",
      "  * YC         (YC) float64 12.5 37.5 62.5 ... 2.938e+03 2.962e+03 2.988e+03\n",
      "  * XC         (XC) float64 612.4 1.821e+03 2.997e+03 ... 1.182e+05 1.194e+05\n",
      "vD<xarray.DataArray (time_bins: 7)>\n",
      "dask.array<truediv, shape=(7,), dtype=float64, chunksize=(1,), chunktype=numpy.ndarray>\n",
      "Coordinates:\n",
      "  * time_bins  (time_bins) float64 2.232e+04 6.696e+04 ... 2.455e+05 2.902e+05\n"
     ]
    }
   ],
   "source": [
    "# kl10 vertical dissipation\n",
    "dz=200/40 #H/nz\n",
    "Dsp=np.sum(rhoNil*ds1['KLeps']*dz,axis=1)\n",
    "print(Dsp)\n",
    "vDsp=xr.DataArray(Dsp.data, coords=[ds1.time.values,yc,xc], dims=['time','YC','XC'])\n",
    "print('vDsp'+str(vDsp))\n",
    "ta_dsp=vDsp.groupby_bins('time',time_bin,labels=time_bin_labels).mean()\n",
    "print('ta_dsp'+str(ta_dsp))\n",
    "vD=((ta_dsp*ds1['rA']).sel(XC=xc[(xc > xmin) & (xc < xmax)],YC=yc[(yc > ymin) & (yc < ymax)]).sum(['XC','YC'])/1e6)\n",
    "print('vD'+str(vD))"
   ]
  },
  {
   "cell_type": "code",
   "execution_count": 24,
   "metadata": {},
   "outputs": [
    {
     "name": "stdout",
     "output_type": "stream",
     "text": [
      "<xarray.DataArray 'mul-11c1d20a0957cfefe40d7b85140e43eb' (time: 173, Z: 40, YC: 120, XC: 1488)>\n",
      "dask.array<mul, shape=(173, 40, 120, 1488), dtype=float64, chunksize=(1, 39, 120, 360), chunktype=numpy.ndarray>\n",
      "Coordinates:\n",
      "  * time     (time) timedelta64[ns] 00:00:00 00:31:00 ... 3 days 16:52:00\n",
      "  * Z        (Z) float64 -2.5 -7.5 -12.5 -17.5 ... -182.5 -187.5 -192.5 -197.5\n",
      "  * YC       (YC) float64 12.5 37.5 62.5 87.5 ... 2.938e+03 2.962e+03 2.988e+03\n",
      "  * XC       (XC) float64 612.4 1.821e+03 2.997e+03 ... 1.182e+05 1.194e+05\n",
      "<xarray.DataArray (time: 173, Z: 40, YC: 120, XC: 1488)>\n",
      "dask.array<mul, shape=(173, 40, 120, 1488), dtype=float64, chunksize=(1, 39, 119, 359), chunktype=numpy.ndarray>\n",
      "Coordinates:\n",
      "  * time     (time) timedelta64[ns] 00:00:00 00:31:00 ... 3 days 16:52:00\n",
      "  * Z        (Z) float64 -2.5 -7.5 -12.5 -17.5 ... -182.5 -187.5 -192.5 -197.5\n",
      "  * YC       (YC) float64 12.5 37.5 62.5 87.5 ... 2.938e+03 2.962e+03 2.988e+03\n",
      "  * XC       (XC) float64 612.4 1.821e+03 2.997e+03 ... 1.182e+05 1.194e+05\n",
      "    rA       (YC, XC) float64 dask.array<chunksize=(120, 360), meta=np.ndarray>\n",
      "    Depth    (YC, XC) float64 dask.array<chunksize=(120, 360), meta=np.ndarray>\n",
      "    drF      (Z) float64 dask.array<chunksize=(40,), meta=np.ndarray>\n",
      "    PHrefC   (Z) float64 dask.array<chunksize=(40,), meta=np.ndarray>\n",
      "    hFacC    (Z, YC, XC) float64 dask.array<chunksize=(40, 120, 360), meta=np.ndarray>\n",
      "    maskC    (Z, YC, XC) bool dask.array<chunksize=(40, 120, 360), meta=np.ndarray>\n",
      "    rhoRef   (Z) float64 dask.array<chunksize=(40,), meta=np.ndarray>\n",
      "    maskInC  (YC, XC) bool dask.array<chunksize=(120, 360), meta=np.ndarray>\n",
      "    iter     (time) int64 dask.array<chunksize=(1,), meta=np.ndarray>\n"
     ]
    }
   ],
   "source": [
    "# bottom drag\n",
    "Cd=1e-3\n",
    "UC=grid.interp(ds1.UVEL,'X', boundary='extrapolate') \n",
    "VC=grid.interp(ds1.VVEL,'Y', boundary='extrapolate') \n",
    "U0C=((UC*ds1['drF']*ds1['hFacC']).sum('Z'))/(ds1.drF*ds1.hFacC*ds1.maskC).sum('Z')\n",
    "V0C=((VC*ds1['drF']*ds1['hFacC']).sum('Z'))/(ds1.drF*ds1.hFacC*ds1.maskC).sum('Z')\n",
    "ds1['upC']=(UC-U0C)*ds1['maskC']\n",
    "ds1['vpC']=(VC-V0C)*ds1['maskC']\n",
    "wC = grid.interp(ds1.WVEL,'Z', boundary='extrapolate') \n",
    "print(wC)\n",
    "absuH=(UC**2+VC**2)**0.5\n",
    "D0=rhoNil*Cd*absuH*(UC*U0C+VC*V0C)\n",
    "Dp=rhoNil*Cd*absuH*(UC*ds1.upC+VC*ds1.vpC+wC*wC)\n",
    "print(Dp)"
   ]
  },
  {
   "cell_type": "code",
   "execution_count": 25,
   "metadata": {},
   "outputs": [
    {
     "name": "stdout",
     "output_type": "stream",
     "text": [
      "ta_D0<xarray.DataArray (time_bins: 7, Z: 40, YC: 120, XC: 1488)>\n",
      "dask.array<stack, shape=(7, 40, 120, 1488), dtype=float64, chunksize=(1, 40, 119, 359), chunktype=numpy.ndarray>\n",
      "Coordinates:\n",
      "  * time_bins  (time_bins) float64 2.232e+04 6.696e+04 ... 2.455e+05 2.902e+05\n",
      "  * Z          (Z) float64 -2.5 -7.5 -12.5 -17.5 ... -182.5 -187.5 -192.5 -197.5\n",
      "  * YC         (YC) float64 12.5 37.5 62.5 ... 2.938e+03 2.962e+03 2.988e+03\n",
      "  * XC         (XC) float64 612.4 1.821e+03 2.997e+03 ... 1.182e+05 1.194e+05\n",
      "    rA         (YC, XC) float64 dask.array<chunksize=(120, 360), meta=np.ndarray>\n",
      "    Depth      (YC, XC) float64 dask.array<chunksize=(120, 360), meta=np.ndarray>\n",
      "    maskInC    (YC, XC) bool dask.array<chunksize=(120, 360), meta=np.ndarray>\n",
      "BD0<xarray.DataArray (time_bins: 7, Z: 40)>\n",
      "dask.array<truediv, shape=(7, 40), dtype=float64, chunksize=(1, 40), chunktype=numpy.ndarray>\n",
      "Coordinates:\n",
      "  * time_bins  (time_bins) float64 2.232e+04 6.696e+04 ... 2.455e+05 2.902e+05\n",
      "  * Z          (Z) float64 -2.5 -7.5 -12.5 -17.5 ... -182.5 -187.5 -192.5 -197.5\n",
      "BDp<xarray.DataArray (time_bins: 7, Z: 40)>\n",
      "dask.array<truediv, shape=(7, 40), dtype=float64, chunksize=(1, 39), chunktype=numpy.ndarray>\n",
      "Coordinates:\n",
      "  * time_bins  (time_bins) float64 2.232e+04 6.696e+04 ... 2.455e+05 2.902e+05\n",
      "  * Z          (Z) float64 -2.5 -7.5 -12.5 -17.5 ... -182.5 -187.5 -192.5 -197.5\n",
      "    drF        (Z) float64 dask.array<chunksize=(40,), meta=np.ndarray>\n",
      "    PHrefC     (Z) float64 dask.array<chunksize=(40,), meta=np.ndarray>\n",
      "    rhoRef     (Z) float64 dask.array<chunksize=(40,), meta=np.ndarray>\n"
     ]
    }
   ],
   "source": [
    "ta_D0=D0.groupby_bins('time',time_bin,labels=time_bin_labels).mean()\n",
    "ta_Dp=Dp.groupby_bins('time',time_bin,labels=time_bin_labels).mean()\n",
    "print('ta_D0'+str(ta_D0))\n",
    "BD0=((ta_D0*ds1['rA']).sel(XC=xc[(xc > xmin) & (xc < xmax)],YC=yc[(yc > ymin) & (yc < ymax)]).sum(['XC','YC'])/1e6)\n",
    "BDp=((ta_Dp*ds1['rA']).sel(XC=xc[(xc > xmin) & (xc < xmax)],YC=yc[(yc > ymin) & (yc < ymax)]).sum(['XC','YC'])/1e6)\n",
    "print('BD0'+str(BD0))\n",
    "print('BDp'+str(BDp))"
   ]
  },
  {
   "cell_type": "code",
   "execution_count": 26,
   "metadata": {},
   "outputs": [
    {
     "name": "stderr",
     "output_type": "stream",
     "text": [
      "/home/jxchang/jupyter_py3.7/lib/python3.7/site-packages/dask/core.py:121: RuntimeWarning: invalid value encountered in true_divide\n",
      "  return func(*(_execute_task(a, cache) for a in args))\n",
      "/home/jxchang/jupyter_py3.7/lib/python3.7/site-packages/dask/array/numpy_compat.py:39: RuntimeWarning: invalid value encountered in true_divide\n",
      "  x = np.divide(x1, x2, out)\n"
     ]
    },
    {
     "data": {
      "text/plain": [
       "<matplotlib.collections.QuadMesh at 0x2adf43346a50>"
      ]
     },
     "execution_count": 26,
     "metadata": {},
     "output_type": "execute_result"
    },
    {
     "data": {
      "image/png": "[encoded data removed]",
      "text/plain": [
       "<Figure size 432x288 with 2 Axes>"
      ]
     },
     "metadata": {
      "needs_background": "light"
     },
     "output_type": "display_data"
    }
   ],
   "source": [
    "BD0.plot()"
   ]
  },
  {
   "cell_type": "code",
   "execution_count": 27,
   "metadata": {},
   "outputs": [],
   "source": [
    "del dtEbt, ddtEbt, Fxbt, Fybt, Conv, VC, V0C, UC, U0C, D0, Dp"
   ]
  },
  {
   "cell_type": "code",
   "execution_count": 28,
   "metadata": {},
   "outputs": [
    {
     "data": {
      "text/plain": [
       "[<matplotlib.lines.Line2D at 0x2adf41ddd190>]"
      ]
     },
     "execution_count": 28,
     "metadata": {},
     "output_type": "execute_result"
    },
    {
     "data": {
      "image/png": "[encoded data removed]",
      "text/plain": [
       "<Figure size 432x288 with 1 Axes>"
      ]
     },
     "metadata": {
      "needs_background": "light"
     },
     "output_type": "display_data"
    }
   ],
   "source": [
    "BD0.isel(time_bins=4).plot()"
   ]
  },
  {
   "cell_type": "code",
   "execution_count": 29,
   "metadata": {},
   "outputs": [
    {
     "name": "stderr",
     "output_type": "stream",
     "text": [
      "/home/jxchang/jupyter_py3.7/lib/python3.7/site-packages/dask/core.py:121: RuntimeWarning: invalid value encountered in true_divide\n",
      "  return func(*(_execute_task(a, cache) for a in args))\n",
      "/home/jxchang/jupyter_py3.7/lib/python3.7/site-packages/dask/array/numpy_compat.py:39: RuntimeWarning: invalid value encountered in true_divide\n",
      "  x = np.divide(x1, x2, out)\n"
     ]
    },
    {
     "name": "stdout",
     "output_type": "stream",
     "text": [
      "[0.05010285 0.03110881 0.0313474  0.02946346 0.02978685 0.03094452\n",
      " 0.03232251]\n"
     ]
    }
   ],
   "source": [
    "print(BD0.isel(Z=39).values)"
   ]
  },
  {
   "cell_type": "code",
   "execution_count": 30,
   "metadata": {},
   "outputs": [
    {
     "data": {
      "text/plain": [
       "[<matplotlib.lines.Line2D at 0x2adf41a84690>]"
      ]
     },
     "execution_count": 30,
     "metadata": {},
     "output_type": "execute_result"
    },
    {
     "data": {
      "image/png": "[encoded data removed]",
      "text/plain": [
       "<Figure size 432x288 with 1 Axes>"
      ]
     },
     "metadata": {
      "needs_background": "light"
     },
     "output_type": "display_data"
    }
   ],
   "source": [
    "BDp.isel(time_bins=4).plot()"
   ]
  },
  {
   "cell_type": "code",
   "execution_count": 31,
   "metadata": {},
   "outputs": [
    {
     "name": "stderr",
     "output_type": "stream",
     "text": [
      "/home/jxchang/jupyter_py3.7/lib/python3.7/site-packages/dask/core.py:121: RuntimeWarning: invalid value encountered in true_divide\n",
      "  return func(*(_execute_task(a, cache) for a in args))\n",
      "/home/jxchang/jupyter_py3.7/lib/python3.7/site-packages/dask/array/numpy_compat.py:39: RuntimeWarning: invalid value encountered in true_divide\n",
      "  x = np.divide(x1, x2, out)\n"
     ]
    },
    {
     "name": "stdout",
     "output_type": "stream",
     "text": [
      "[0.01641372 0.02549331 0.02776692 0.0279944  0.02728024 0.02760537\n",
      " 0.0286398 ]\n"
     ]
    }
   ],
   "source": [
    "print(BDp.isel(Z=39).values)"
   ]
  },
  {
   "cell_type": "code",
   "execution_count": null,
   "metadata": {},
   "outputs": [],
   "source": [
    "df = pd.DataFrame({\"dEbt/dt\": DtdEbt.values,\"dEbc/dt\": DtdEbc.values,\"divFbc1\": BCrad.values,\"divFbc2\": BCfxdy.values,\"divFbt1\": BTrad.values,\"divFbt2\": BTfxdy.values,\"BC-BT Conv\": C.values,\"vDissp\": vD.values,\"hDissp\": hDsspbc.values,'BD0':BD0.isel(Z=39).values,'BDp':BDp.isel(Z=39).values})\n",
    "df.to_csv(\"TidallyAveragedEnergyBudget.csv\")"
   ]
  },
  {
   "cell_type": "code",
   "execution_count": null,
   "metadata": {},
   "outputs": [],
   "source": [
    "read_df = pd.read_csv(\"TidallyAveragedEnergyBudget.csv\")"
   ]
  },
  {
   "cell_type": "code",
   "execution_count": null,
   "metadata": {},
   "outputs": [],
   "source": [
    "print(read_df)"
   ]
  },
  {
   "cell_type": "code",
   "execution_count": null,
   "metadata": {},
   "outputs": [],
   "source": [
    "import matplotlib.transforms as mtransforms"
   ]
  },
  {
   "cell_type": "code",
   "execution_count": null,
   "metadata": {},
   "outputs": [],
   "source": [
    "f, ax =plt.subplots(figsize=(15,6))\n",
    "trans_offset = mtransforms.offset_copy(ax.transData, fig=f,\n",
    "                                       x=0.12, y=0.01, units='inches')\n",
    "\n",
    "ax.set_ylim(-0.2,10)\n",
    "ax.set_xlim(0,300000)\n",
    "\n",
    "ax.set_ylabel(\"Energy Budget [MW]\")\n",
    "ax.set_xlabel(\"time [s]\")\n",
    "\n",
    "p1, = ax.plot(time_bin_labels,read_df[\"dEbc/dt\"],'o-',label=\"dE/dt\")\n",
    "ax.text(time_bin_labels[6],read_df[\"dEbc/dt\"][6], '%0.2f' % (read_df[\"dEbc/dt\"][6]), transform=trans_offset)\n",
    "ax.plot(time_bin_labels,read_df.divFbc2,'o-',label=r\"$\\nabla F_{bc}$\")\n",
    "ax.text(time_bin_labels[6],read_df[\"divFbc2\"][6], '%0.2f' % (read_df[\"divFbc2\"][6]), transform=trans_offset)\n",
    "ax.plot(time_bin_labels,read_df['BC-BT Conv'],'o-',label=\"BT-BC Conversion\")\n",
    "ax.text(time_bin_labels[6],read_df[\"BC-BT Conv\"][6], '%0.2f' % (read_df[\"BC-BT Conv\"][6]), transform=trans_offset)\n",
    "DL, = ax.plot(time_bin_labels,read_df.vDissp,'o-',label=r\"Dissipation=$\\int \\rho \\varepsilon dV$\")\n",
    "ax.text(time_bin_labels[6],read_df[\"vDissp\"][6], '%0.2f' % (read_df[\"vDissp\"][6]), transform=trans_offset)\n",
    "ax.plot(time1,np.zeros(ttlen),'k--')\n",
    "ax.plot(time_bin_labels,read_df.hDissp,'o-',label=\"horizontal bc Dssp\")\n",
    "ax.text(time_bin_labels[6],read_df[\"hDissp\"][6], '%0.2f' % (read_df[\"hDissp\"][6]), transform=trans_offset)\n",
    "ax.plot(time_bin_labels,read_df.BDp,'o-',label=\"bottom drag\")\n",
    "ax.text(time_bin_labels[6],read_df[\"BDp\"][6], '%0.2f' % (read_df[\"BDp\"][6]), transform=trans_offset)\n",
    "\n",
    "ax.plot(time_bin_labels,read_df.hDissp+read_df.vDissp+read_df.divFbc2,'o-',label=\"tot sum of\", color='gray')\n",
    "ax.text(time_bin_labels[6],(read_df.hDissp+read_df.vDissp+read_df.divFbc2)[6], '%0.2f' % ((read_df.hDissp+read_df.vDissp+read_df.divFbc2)[6]), transform=trans_offset)\n",
    "\n",
    "\n",
    "\n",
    "plt.legend()\n",
    "plt.savefig('./figs/BCEnergyBudget_x27_t_tidal_p.png')\n",
    "plt.show()"
   ]
  }
 ],
 "metadata": {
  "kernelspec": {
   "display_name": "Python 3",
   "language": "python",
   "name": "python3"
  },
  "language_info": {
   "codemirror_mode": {
    "name": "ipython",
    "version": 3
   },
   "file_extension": ".py",
   "mimetype": "text/x-python",
   "name": "python",
   "nbconvert_exporter": "python",
   "pygments_lexer": "ipython3",
   "version": "3.7.7"
  }
 },
 "nbformat": 4,
 "nbformat_minor": 2
}
